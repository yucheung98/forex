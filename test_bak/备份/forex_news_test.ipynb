{
 "cells": [
  {
   "cell_type": "code",
   "execution_count": 1,
   "metadata": {},
   "outputs": [],
   "source": [
    "import urllib.request\n",
    "import requests\n",
    "import time\n",
    "import urllib\n",
    "from bs4 import BeautifulSoup\n",
    "import re"
   ]
  },
  {
   "cell_type": "code",
   "execution_count": 12,
   "metadata": {},
   "outputs": [],
   "source": [
    "def update_news():\n",
    "#     url = 'http://www.cnforex.com/'\n",
    "#     html = urllib.request.urlopen(url).read()\n",
    "#     soup = BeautifulSoup(html)\n",
    "#     urllist = soup.find_all('figure',class_= re.compile(r\"^normal\"))\n",
    "#     print(urllist)\n",
    "#     for i in range(4):\n",
    "#         print(i)\n",
    "#         print(urllist[i].a.attrs['href'])\n",
    "#         print(urllist[i].img.attrs['src'])\n",
    "#         url = urllist[i].a.attrs['href']\n",
    "#         html = urllib.request.urlopen(url).read()\n",
    "#         soup = BeautifulSoup(html)\n",
    "#         title = soup.section.h1.string\n",
    "#         published_time = soup.section.h3.time.string\n",
    "#         news_from = soup.section.h3.a.string\n",
    "#         content = str(soup.article.find_all('p')).split('[')[1].split(']')[0]\n",
    "#         print(title)\n",
    "#         print(published_time)\n",
    "#         print(news_from)\n",
    "#         print(content)\n",
    "        \n",
    "    url = 'http://www.cnforex.com/news/html/2020/04/03/92f097c94f87b240638d18d46739aee9.html'\n",
    "    html = urllib.request.urlopen(url).read()\n",
    "    soup = BeautifulSoup(html)\n",
    "    title = soup.section.h1.string\n",
    "    published_time = soup.section.h3.time.string\n",
    "    news_from = soup.section.h3.a.string\n",
    "    content = soup.article.find_all('p')\n",
    "    print(title)\n",
    "    print(published_time)\n",
    "    print(news_from)\n",
    "    print(content)\n",
    "    print(type(content[0]))\n",
    "    for i in range(len(content)):\n",
    "        content[i] = str(content[i])\n",
    "    print(content)   \n",
    "    print(type(content[0]))\n",
    "    content = \"\".join(content)\n",
    "    print(content)  \n",
    "    print(type(content))"
   ]
  },
  {
   "cell_type": "code",
   "execution_count": 13,
   "metadata": {},
   "outputs": [
    {
     "name": "stdout",
     "output_type": "stream",
     "text": [
      "美国3月非农大减70万创下11年新低，但真实情况比这更为严峻\n",
      "2020-04-03 21:04\n",
      "履霜\n",
      "[<p></p>, <p>周五美国劳工部公布3月季调后非农就业人口，数据录得-70.1万，远不及预期的-10万，前值从27.3万上修至27.5万，3月季调后非农就业人口创2009年3月以来新低。同时公布的3月失业率录得4.4%，为2017年8月以来高位，预计未来几个月将攀升至10％以上。<br/></p>, <p><img src=\"http://img1.cnforex.com/news/2020\\04\\03\\a397777e-54fa-4e71-9494-c2e0e7033771.jpg\" style=\"max-width:100%;\"/><br/></p>, <p>美国劳工部表示，3月医疗保健和社会援助/专业和商业服务/零售贸易/建筑行业就业人数录得减少。过去两个月，平均新增非农就业人数为24.5万。</p>, <p>这是自2010年9月以来就业人数首次下降，接近2009年5月金融危机时80万人的峰值。下降的三分之二来自酒店行业，尤其是在封闭期间被迫关闭的酒吧和餐馆。</p>, <p>在声明中，劳工部提及了疫情的影响：“企业和家庭调查的3月份数据大致反映了疫情影响。很明显，就业人数的减少和失业的增加可以归因于疾病的影响和控制疾病的努力。就业报告调查期早于病毒封锁措施的实施时间，因暂时的停工，失业人数出现“极大增长”。 </p>, <p>在冠状病毒袭击之前，一直保持着3.5%的失业率，这是50多年来的最低水平。</p>, <p>虽然3月份的报告没有全面反映就业崩溃的情况，但它确实暗示了未来的情况。</p>, <p>本周初请失业金人数报告显示，过去两周有1000万人申请失业保险。这两周的失业人数远远超过了美国以往任何时候的失业人数。</p>, <p>市场分析网站Ransquawk称，这次-70.1万的非农数据，还是“居家隔离令”发布之前的就业市场表现。这意味着，真实的就业情况可能更为严峻。</p>, <p>财经网站Fxstreet分析师Haresh Menghani也认为，3月非农报告涉及到3月12日之前的一段时间，这段时间美国任何一个大州都没有开始实施封锁措施，市场的反映相当冷淡，几乎没有任何有意义的推动。</p>, <p>穆迪旗下Anlaytics的首席经济学家Mark Zandi本周早些时候表示：“我的感觉是，当我们在一个月后看到4月份的数据时，美国将失去了1000万至1500万个就业岗位。”“这将与我们目前得到的初请失业保险人数一致。”</p>, <p>数据公布后，现货黄金短线上扬5美元，随后回吐涨幅；美元指数短线上扬逾20点。 </p>]\n",
      "<class 'bs4.element.Tag'>\n",
      "['<p></p>', '<p>周五美国劳工部公布3月季调后非农就业人口，数据录得-70.1万，远不及预期的-10万，前值从27.3万上修至27.5万，3月季调后非农就业人口创2009年3月以来新低。同时公布的3月失业率录得4.4%，为2017年8月以来高位，预计未来几个月将攀升至10％以上。<br/></p>', '<p><img src=\"http://img1.cnforex.com/news/2020\\\\04\\\\03\\\\a397777e-54fa-4e71-9494-c2e0e7033771.jpg\" style=\"max-width:100%;\"/><br/></p>', '<p>美国劳工部表示，3月医疗保健和社会援助/专业和商业服务/零售贸易/建筑行业就业人数录得减少。过去两个月，平均新增非农就业人数为24.5万。</p>', '<p>这是自2010年9月以来就业人数首次下降，接近2009年5月金融危机时80万人的峰值。下降的三分之二来自酒店行业，尤其是在封闭期间被迫关闭的酒吧和餐馆。</p>', '<p>在声明中，劳工部提及了疫情的影响：“企业和家庭调查的3月份数据大致反映了疫情影响。很明显，就业人数的减少和失业的增加可以归因于疾病的影响和控制疾病的努力。就业报告调查期早于病毒封锁措施的实施时间，因暂时的停工，失业人数出现“极大增长”。 </p>', '<p>在冠状病毒袭击之前，一直保持着3.5%的失业率，这是50多年来的最低水平。</p>', '<p>虽然3月份的报告没有全面反映就业崩溃的情况，但它确实暗示了未来的情况。</p>', '<p>本周初请失业金人数报告显示，过去两周有1000万人申请失业保险。这两周的失业人数远远超过了美国以往任何时候的失业人数。</p>', '<p>市场分析网站Ransquawk称，这次-70.1万的非农数据，还是“居家隔离令”发布之前的就业市场表现。这意味着，真实的就业情况可能更为严峻。</p>', '<p>财经网站Fxstreet分析师Haresh Menghani也认为，3月非农报告涉及到3月12日之前的一段时间，这段时间美国任何一个大州都没有开始实施封锁措施，市场的反映相当冷淡，几乎没有任何有意义的推动。</p>', '<p>穆迪旗下Anlaytics的首席经济学家Mark Zandi本周早些时候表示：“我的感觉是，当我们在一个月后看到4月份的数据时，美国将失去了1000万至1500万个就业岗位。”“这将与我们目前得到的初请失业保险人数一致。”</p>', '<p>数据公布后，现货黄金短线上扬5美元，随后回吐涨幅；美元指数短线上扬逾20点。\\xa0</p>']\n",
      "<class 'str'>\n",
      "<p></p><p>周五美国劳工部公布3月季调后非农就业人口，数据录得-70.1万，远不及预期的-10万，前值从27.3万上修至27.5万，3月季调后非农就业人口创2009年3月以来新低。同时公布的3月失业率录得4.4%，为2017年8月以来高位，预计未来几个月将攀升至10％以上。<br/></p><p><img src=\"http://img1.cnforex.com/news/2020\\04\\03\\a397777e-54fa-4e71-9494-c2e0e7033771.jpg\" style=\"max-width:100%;\"/><br/></p><p>美国劳工部表示，3月医疗保健和社会援助/专业和商业服务/零售贸易/建筑行业就业人数录得减少。过去两个月，平均新增非农就业人数为24.5万。</p><p>这是自2010年9月以来就业人数首次下降，接近2009年5月金融危机时80万人的峰值。下降的三分之二来自酒店行业，尤其是在封闭期间被迫关闭的酒吧和餐馆。</p><p>在声明中，劳工部提及了疫情的影响：“企业和家庭调查的3月份数据大致反映了疫情影响。很明显，就业人数的减少和失业的增加可以归因于疾病的影响和控制疾病的努力。就业报告调查期早于病毒封锁措施的实施时间，因暂时的停工，失业人数出现“极大增长”。 </p><p>在冠状病毒袭击之前，一直保持着3.5%的失业率，这是50多年来的最低水平。</p><p>虽然3月份的报告没有全面反映就业崩溃的情况，但它确实暗示了未来的情况。</p><p>本周初请失业金人数报告显示，过去两周有1000万人申请失业保险。这两周的失业人数远远超过了美国以往任何时候的失业人数。</p><p>市场分析网站Ransquawk称，这次-70.1万的非农数据，还是“居家隔离令”发布之前的就业市场表现。这意味着，真实的就业情况可能更为严峻。</p><p>财经网站Fxstreet分析师Haresh Menghani也认为，3月非农报告涉及到3月12日之前的一段时间，这段时间美国任何一个大州都没有开始实施封锁措施，市场的反映相当冷淡，几乎没有任何有意义的推动。</p><p>穆迪旗下Anlaytics的首席经济学家Mark Zandi本周早些时候表示：“我的感觉是，当我们在一个月后看到4月份的数据时，美国将失去了1000万至1500万个就业岗位。”“这将与我们目前得到的初请失业保险人数一致。”</p><p>数据公布后，现货黄金短线上扬5美元，随后回吐涨幅；美元指数短线上扬逾20点。 </p>\n",
      "<class 'str'>\n"
     ]
    }
   ],
   "source": [
    "if __name__ == \"__main__\":\n",
    "    update_news()"
   ]
  },
  {
   "cell_type": "code",
   "execution_count": null,
   "metadata": {},
   "outputs": [],
   "source": []
  }
 ],
 "metadata": {
  "kernelspec": {
   "display_name": "Python 3",
   "language": "python",
   "name": "python3"
  },
  "language_info": {
   "codemirror_mode": {
    "name": "ipython",
    "version": 3
   },
   "file_extension": ".py",
   "mimetype": "text/x-python",
   "name": "python",
   "nbconvert_exporter": "python",
   "pygments_lexer": "ipython3",
   "version": "3.8.2"
  }
 },
 "nbformat": 4,
 "nbformat_minor": 4
}
