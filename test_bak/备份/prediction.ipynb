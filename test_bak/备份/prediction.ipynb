{
 "cells": [
  {
   "cell_type": "code",
   "execution_count": 1,
   "metadata": {
    "scrolled": false
   },
   "outputs": [
    {
     "name": "stderr",
     "output_type": "stream",
     "text": [
      "Using TensorFlow backend.\n",
      "e:\\envs\\python36env\\lib\\site-packages\\tensorflow\\python\\framework\\dtypes.py:526: FutureWarning: Passing (type, 1) or '1type' as a synonym of type is deprecated; in a future version of numpy, it will be understood as (type, (1,)) / '(1,)type'.\n",
      "  _np_qint8 = np.dtype([(\"qint8\", np.int8, 1)])\n",
      "e:\\envs\\python36env\\lib\\site-packages\\tensorflow\\python\\framework\\dtypes.py:527: FutureWarning: Passing (type, 1) or '1type' as a synonym of type is deprecated; in a future version of numpy, it will be understood as (type, (1,)) / '(1,)type'.\n",
      "  _np_quint8 = np.dtype([(\"quint8\", np.uint8, 1)])\n",
      "e:\\envs\\python36env\\lib\\site-packages\\tensorflow\\python\\framework\\dtypes.py:528: FutureWarning: Passing (type, 1) or '1type' as a synonym of type is deprecated; in a future version of numpy, it will be understood as (type, (1,)) / '(1,)type'.\n",
      "  _np_qint16 = np.dtype([(\"qint16\", np.int16, 1)])\n",
      "e:\\envs\\python36env\\lib\\site-packages\\tensorflow\\python\\framework\\dtypes.py:529: FutureWarning: Passing (type, 1) or '1type' as a synonym of type is deprecated; in a future version of numpy, it will be understood as (type, (1,)) / '(1,)type'.\n",
      "  _np_quint16 = np.dtype([(\"quint16\", np.uint16, 1)])\n",
      "e:\\envs\\python36env\\lib\\site-packages\\tensorflow\\python\\framework\\dtypes.py:530: FutureWarning: Passing (type, 1) or '1type' as a synonym of type is deprecated; in a future version of numpy, it will be understood as (type, (1,)) / '(1,)type'.\n",
      "  _np_qint32 = np.dtype([(\"qint32\", np.int32, 1)])\n",
      "e:\\envs\\python36env\\lib\\site-packages\\tensorflow\\python\\framework\\dtypes.py:535: FutureWarning: Passing (type, 1) or '1type' as a synonym of type is deprecated; in a future version of numpy, it will be understood as (type, (1,)) / '(1,)type'.\n",
      "  np_resource = np.dtype([(\"resource\", np.ubyte, 1)])\n"
     ]
    }
   ],
   "source": [
    "import numpy as np \n",
    "import pandas as pd \n",
    "import matplotlib.pyplot as plt \n",
    "from sklearn import preprocessing\n",
    "from keras.layers.core import Dense, Activation, Dropout\n",
    "from keras.layers.recurrent import LSTM\n",
    "from keras.models import Sequential\n",
    "from keras import metrics\n",
    "from sklearn.model_selection import train_test_split\n",
    "from skopt import BayesSearchCV\n",
    "from keras.wrappers.scikit_learn import KerasRegressor"
   ]
  },
  {
   "cell_type": "code",
   "execution_count": 2,
   "metadata": {},
   "outputs": [],
   "source": [
    "data_csv = pd.read_csv('EURUSD_data_D1.csv')"
   ]
  },
  {
   "cell_type": "code",
   "execution_count": 3,
   "metadata": {},
   "outputs": [],
   "source": [
    "data_csv.drop(['Unnamed: 0'], axis=1, inplace=True)"
   ]
  },
  {
   "cell_type": "code",
   "execution_count": 4,
   "metadata": {},
   "outputs": [
    {
     "name": "stdout",
     "output_type": "stream",
     "text": [
      "        close\n",
      "0     1.16680\n",
      "1     1.17140\n",
      "2     1.15990\n",
      "3     1.14230\n",
      "4     1.14040\n",
      "...       ...\n",
      "6005  1.08319\n",
      "6006  1.08386\n",
      "6007  1.08060\n",
      "6008  1.08469\n",
      "6009  1.08173\n",
      "\n",
      "[6010 rows x 1 columns]\n"
     ]
    }
   ],
   "source": [
    "print(data_csv)"
   ]
  },
  {
   "cell_type": "code",
   "execution_count": 5,
   "metadata": {},
   "outputs": [
    {
     "data": {
      "text/plain": [
       "array([[1.1668 ],\n",
       "       [1.1714 ],\n",
       "       [1.1599 ],\n",
       "       ...,\n",
       "       [1.0806 ],\n",
       "       [1.08469],\n",
       "       [1.08173]])"
      ]
     },
     "execution_count": 5,
     "metadata": {},
     "output_type": "execute_result"
    }
   ],
   "source": [
    "# #Max-Min标准化\n",
    "# #建立MinMaxScaler对象\n",
    "# scaler = preprocessing.StandardScaler()\n",
    "# # 标准化处理\n",
    "\n",
    "# data = scaler.fit_transform(data_csv)\n",
    "data = np.array(data_csv)\n",
    "data"
   ]
  },
  {
   "cell_type": "code",
   "execution_count": 6,
   "metadata": {},
   "outputs": [
    {
     "name": "stdout",
     "output_type": "stream",
     "text": [
      "(6000, 1)\n"
     ]
    }
   ],
   "source": [
    "data_y = data[-6000:,:]\n",
    "print(data_y.shape)"
   ]
  },
  {
   "cell_type": "code",
   "execution_count": 7,
   "metadata": {},
   "outputs": [
    {
     "name": "stdout",
     "output_type": "stream",
     "text": [
      "[[1.1668 ]\n",
      " [1.1714 ]\n",
      " [1.1599 ]\n",
      " ...\n",
      " [1.08386]\n",
      " [1.0806 ]\n",
      " [1.08469]]\n",
      "(60000, 1)\n"
     ]
    }
   ],
   "source": [
    "data_x = []\n",
    "for r in range(6000):\n",
    "    for c in range(10):\n",
    "        item = []\n",
    "        item.append(data[r+c, 0])\n",
    "        data_x.append(item)\n",
    "data_x = np.array(data_x)\n",
    "print(data_x)\n",
    "print(data_x.shape)"
   ]
  },
  {
   "cell_type": "code",
   "execution_count": 8,
   "metadata": {},
   "outputs": [],
   "source": [
    "data_x=data_x.reshape(6000,10,1)"
   ]
  },
  {
   "cell_type": "code",
   "execution_count": 9,
   "metadata": {},
   "outputs": [
    {
     "data": {
      "text/plain": [
       "(6000, 10, 1)"
      ]
     },
     "execution_count": 9,
     "metadata": {},
     "output_type": "execute_result"
    }
   ],
   "source": [
    "data_x.shape"
   ]
  },
  {
   "cell_type": "code",
   "execution_count": 10,
   "metadata": {},
   "outputs": [],
   "source": [
    "data_x_train = data_x[:,:, :]\n",
    "data_y_train = data_y[:,:]\n",
    "\n",
    "data_x_test = data_x[-1000:,:, :]\n",
    "data_y_test = data_y[-1000:,:]"
   ]
  },
  {
   "cell_type": "code",
   "execution_count": 11,
   "metadata": {},
   "outputs": [
    {
     "name": "stdout",
     "output_type": "stream",
     "text": [
      "(6000, 10, 1)\n",
      "(6000, 1)\n",
      "(1000, 10, 1)\n",
      "(1000, 1)\n"
     ]
    }
   ],
   "source": [
    "print(data_x_train.shape)\n",
    "print(data_y_train.shape)\n",
    "print(data_x_test.shape)\n",
    "print(data_y_test.shape)"
   ]
  },
  {
   "cell_type": "code",
   "execution_count": 13,
   "metadata": {},
   "outputs": [],
   "source": [
    "def create_model(output_dim1, num_layer, output_dim2):\n",
    "    model = Sequential()\n",
    "\n",
    "    model.add(LSTM(output_dim=output_dim1, \n",
    "                input_shape=(10, 1),\n",
    "                activation='relu',\n",
    "                return_sequences=True))\n",
    "    for i in range(num_layer):\n",
    "        model.add(LSTM(output_dim=output_dim2,\n",
    "                        activation='tanh',\n",
    "                        return_sequences=True))\n",
    "#     model.add(Dropout(0.1))\n",
    "    model.add(LSTM(output_dim=output_dim2,\n",
    "                        activation='tanh'))\n",
    "    model.add(Dense(1))\n",
    "\n",
    "    model.compile(loss='mse', optimizer='adam', metrics=['mae'])\n",
    "#     model.summary()\n",
    "    return model"
   ]
  },
  {
   "cell_type": "code",
   "execution_count": 13,
   "metadata": {},
   "outputs": [],
   "source": [
    "# #采用暴力搜索，所有参数进行组合，然后选择最好的参数\n",
    "# tuned_parameters=[{'output_dim1':Integer(28, 128),\n",
    "#                    'num_layer':Integer(3,12),\n",
    "#                    'output_dim2':Integer(28, 128)}]\n",
    "# # 'output_dim1':Integer(28, 128),\n",
    "# #             'num_layer':Integer(3,12),\n",
    "# #             'output_dim2':Integer(28, 128)"
   ]
  },
  {
   "cell_type": "code",
   "execution_count": 14,
   "metadata": {},
   "outputs": [],
   "source": [
    "# train_x, test_x, train_y, test_y = train_test_split(data_x, data_y, train_size=0.80, random_state=0)"
   ]
  },
  {
   "cell_type": "code",
   "execution_count": 15,
   "metadata": {
    "scrolled": true
   },
   "outputs": [],
   "source": [
    "# #采用随机搜索，给参数一个范围，然后系统随机选择参数，进行检验，然后选择最好的\n",
    "# tuned_parameters={'output_dim1':[28, 64, 96, 128],\n",
    "#                    'num_layer':[4,5,6],\n",
    "#                    'output_dim2':[28, 64, 96, 128]}\n",
    "\n",
    "# lstm=RandomizedSearchCV(model,tuned_parameters,scoring='neg_mean_squared_error',n_iter=2)\n",
    " \n",
    "# lstm.fit(data_x_train,data_y_train)\n",
    "# print('best parameters:',lstm.best_estimator_)\n",
    "# # print(classification_report(test_y,clf.predict(test_x)))\n",
    "# # print(metrics.confusion_matrix(test_y,clf.predict(test_x)))"
   ]
  },
  {
   "cell_type": "code",
   "execution_count": 14,
   "metadata": {},
   "outputs": [],
   "source": [
    "model=KerasRegressor(build_fn=create_model)"
   ]
  },
  {
   "cell_type": "code",
   "execution_count": 15,
   "metadata": {},
   "outputs": [],
   "source": [
    "bayes_cv_tuner = BayesSearchCV(estimator = model,\n",
    "                               search_spaces = { 'output_dim1':[35,86,128],\n",
    "                                                'num_layer':[3,4],\n",
    "                                                'output_dim2':[35,86,128]},\n",
    "                               scoring = 'neg_mean_squared_error',\n",
    "                               cv = 5,\n",
    "                               n_iter = 2,   \n",
    "                               verbose = 1,\n",
    "                               refit = True,\n",
    "                               random_state = 1885,\n",
    "                               return_train_score = True)\n"
   ]
  },
  {
   "cell_type": "code",
   "execution_count": 16,
   "metadata": {},
   "outputs": [],
   "source": [
    "def status_print(optim_result):\n",
    "    \"\"\"bayes参数优化过程中．．．\"\"\"\n",
    "\n",
    "    # Get all the models tested so far in DataFrame format\n",
    "    all_models = pd.DataFrame(bayes_cv_tuner.cv_results_)    \n",
    "\n",
    "    # Get current parameters and the best parameters    \n",
    "    best_params = pd.Series(bayes_cv_tuner.best_params_)\n",
    "    print('Model #{}\\nBest MSE: {}\\nBest params: {}\\n'.format(\n",
    "        len(all_models),\n",
    "        np.round(bayes_cv_tuner.best_score_, 5),\n",
    "        bayes_cv_tuner.best_params_\n",
    "    ))\n",
    "\n",
    "    # Save all model results\n",
    "    lstm_name = bayes_cv_tuner.estimator.__class__.__name__\n",
    "    all_models.to_csv(lstm_name+\"_cv_results.csv\")"
   ]
  },
  {
   "cell_type": "code",
   "execution_count": 17,
   "metadata": {
    "scrolled": false
   },
   "outputs": [
    {
     "name": "stdout",
     "output_type": "stream",
     "text": [
      "Fitting 5 folds for each of 1 candidates, totalling 5 fits\n"
     ]
    },
    {
     "name": "stderr",
     "output_type": "stream",
     "text": [
      "[Parallel(n_jobs=1)]: Using backend SequentialBackend with 1 concurrent workers.\n"
     ]
    },
    {
     "name": "stdout",
     "output_type": "stream",
     "text": [
      "WARNING:tensorflow:From e:\\envs\\python36env\\lib\\site-packages\\tensorflow\\python\\framework\\op_def_library.py:263: colocate_with (from tensorflow.python.framework.ops) is deprecated and will be removed in a future version.\n",
      "Instructions for updating:\n",
      "Colocations handled automatically by placer.\n"
     ]
    },
    {
     "name": "stderr",
     "output_type": "stream",
     "text": [
      "e:\\envs\\python36env\\lib\\site-packages\\ipykernel_launcher.py:7: UserWarning: Update your `LSTM` call to the Keras 2 API: `LSTM(input_shape=(10, 1), activation=\"relu\", return_sequences=True, units=86)`\n",
      "  import sys\n",
      "e:\\envs\\python36env\\lib\\site-packages\\ipykernel_launcher.py:11: UserWarning: Update your `LSTM` call to the Keras 2 API: `LSTM(activation=\"tanh\", return_sequences=True, units=86)`\n",
      "  # This is added back by InteractiveShellApp.init_path()\n",
      "e:\\envs\\python36env\\lib\\site-packages\\ipykernel_launcher.py:14: UserWarning: Update your `LSTM` call to the Keras 2 API: `LSTM(activation=\"tanh\", units=86)`\n",
      "  \n"
     ]
    },
    {
     "name": "stdout",
     "output_type": "stream",
     "text": [
      "WARNING:tensorflow:From e:\\envs\\python36env\\lib\\site-packages\\tensorflow\\python\\ops\\math_ops.py:3066: to_int32 (from tensorflow.python.ops.math_ops) is deprecated and will be removed in a future version.\n",
      "Instructions for updating:\n",
      "Use tf.cast instead.\n",
      "Epoch 1/1\n",
      "4800/4800 [==============================] - 24s 5ms/step - loss: 0.0831 - mean_absolute_error: 0.1546\n"
     ]
    },
    {
     "name": "stderr",
     "output_type": "stream",
     "text": [
      "e:\\envs\\python36env\\lib\\site-packages\\ipykernel_launcher.py:7: UserWarning: Update your `LSTM` call to the Keras 2 API: `LSTM(input_shape=(10, 1), activation=\"relu\", return_sequences=True, units=86)`\n",
      "  import sys\n",
      "e:\\envs\\python36env\\lib\\site-packages\\ipykernel_launcher.py:11: UserWarning: Update your `LSTM` call to the Keras 2 API: `LSTM(activation=\"tanh\", return_sequences=True, units=86)`\n",
      "  # This is added back by InteractiveShellApp.init_path()\n",
      "e:\\envs\\python36env\\lib\\site-packages\\ipykernel_launcher.py:14: UserWarning: Update your `LSTM` call to the Keras 2 API: `LSTM(activation=\"tanh\", units=86)`\n",
      "  \n"
     ]
    },
    {
     "name": "stdout",
     "output_type": "stream",
     "text": [
      "Epoch 1/1\n",
      "4800/4800 [==============================] - 25s 5ms/step - loss: 0.0776 - mean_absolute_error: 0.1534\n"
     ]
    },
    {
     "name": "stderr",
     "output_type": "stream",
     "text": [
      "e:\\envs\\python36env\\lib\\site-packages\\ipykernel_launcher.py:7: UserWarning: Update your `LSTM` call to the Keras 2 API: `LSTM(input_shape=(10, 1), activation=\"relu\", return_sequences=True, units=86)`\n",
      "  import sys\n",
      "e:\\envs\\python36env\\lib\\site-packages\\ipykernel_launcher.py:11: UserWarning: Update your `LSTM` call to the Keras 2 API: `LSTM(activation=\"tanh\", return_sequences=True, units=86)`\n",
      "  # This is added back by InteractiveShellApp.init_path()\n",
      "e:\\envs\\python36env\\lib\\site-packages\\ipykernel_launcher.py:14: UserWarning: Update your `LSTM` call to the Keras 2 API: `LSTM(activation=\"tanh\", units=86)`\n",
      "  \n"
     ]
    },
    {
     "name": "stdout",
     "output_type": "stream",
     "text": [
      "Epoch 1/1\n",
      "4800/4800 [==============================] - 25s 5ms/step - loss: 0.0715 - mean_absolute_error: 0.1434\n"
     ]
    },
    {
     "name": "stderr",
     "output_type": "stream",
     "text": [
      "e:\\envs\\python36env\\lib\\site-packages\\ipykernel_launcher.py:7: UserWarning: Update your `LSTM` call to the Keras 2 API: `LSTM(input_shape=(10, 1), activation=\"relu\", return_sequences=True, units=86)`\n",
      "  import sys\n",
      "e:\\envs\\python36env\\lib\\site-packages\\ipykernel_launcher.py:11: UserWarning: Update your `LSTM` call to the Keras 2 API: `LSTM(activation=\"tanh\", return_sequences=True, units=86)`\n",
      "  # This is added back by InteractiveShellApp.init_path()\n",
      "e:\\envs\\python36env\\lib\\site-packages\\ipykernel_launcher.py:14: UserWarning: Update your `LSTM` call to the Keras 2 API: `LSTM(activation=\"tanh\", units=86)`\n",
      "  \n"
     ]
    },
    {
     "name": "stdout",
     "output_type": "stream",
     "text": [
      "Epoch 1/1\n",
      "4800/4800 [==============================] - 29s 6ms/step - loss: 0.0755 - mean_absolute_error: 0.1449\n"
     ]
    },
    {
     "name": "stderr",
     "output_type": "stream",
     "text": [
      "e:\\envs\\python36env\\lib\\site-packages\\ipykernel_launcher.py:7: UserWarning: Update your `LSTM` call to the Keras 2 API: `LSTM(input_shape=(10, 1), activation=\"relu\", return_sequences=True, units=86)`\n",
      "  import sys\n",
      "e:\\envs\\python36env\\lib\\site-packages\\ipykernel_launcher.py:11: UserWarning: Update your `LSTM` call to the Keras 2 API: `LSTM(activation=\"tanh\", return_sequences=True, units=86)`\n",
      "  # This is added back by InteractiveShellApp.init_path()\n",
      "e:\\envs\\python36env\\lib\\site-packages\\ipykernel_launcher.py:14: UserWarning: Update your `LSTM` call to the Keras 2 API: `LSTM(activation=\"tanh\", units=86)`\n",
      "  \n"
     ]
    },
    {
     "name": "stdout",
     "output_type": "stream",
     "text": [
      "Epoch 1/1\n",
      "4800/4800 [==============================] - 31s 7ms/step - loss: 0.0783 - mean_absolute_error: 0.1497\n"
     ]
    },
    {
     "name": "stderr",
     "output_type": "stream",
     "text": [
      "[Parallel(n_jobs=1)]: Done   5 out of   5 | elapsed:  3.9min finished\n",
      "[Parallel(n_jobs=1)]: Using backend SequentialBackend with 1 concurrent workers.\n",
      "e:\\envs\\python36env\\lib\\site-packages\\ipykernel_launcher.py:7: UserWarning: Update your `LSTM` call to the Keras 2 API: `LSTM(input_shape=(10, 1), activation=\"relu\", return_sequences=True, units=86)`\n",
      "  import sys\n"
     ]
    },
    {
     "name": "stdout",
     "output_type": "stream",
     "text": [
      "Model #1\n",
      "Best MSE: -0.00589\n",
      "Best params: OrderedDict([('num_layer', 3), ('output_dim1', 86), ('output_dim2', 86)])\n",
      "\n",
      "Fitting 5 folds for each of 1 candidates, totalling 5 fits\n"
     ]
    },
    {
     "name": "stderr",
     "output_type": "stream",
     "text": [
      "e:\\envs\\python36env\\lib\\site-packages\\ipykernel_launcher.py:11: UserWarning: Update your `LSTM` call to the Keras 2 API: `LSTM(activation=\"tanh\", return_sequences=True, units=128)`\n",
      "  # This is added back by InteractiveShellApp.init_path()\n",
      "e:\\envs\\python36env\\lib\\site-packages\\ipykernel_launcher.py:14: UserWarning: Update your `LSTM` call to the Keras 2 API: `LSTM(activation=\"tanh\", units=128)`\n",
      "  \n"
     ]
    },
    {
     "name": "stdout",
     "output_type": "stream",
     "text": [
      "Epoch 1/1\n",
      "4800/4800 [==============================] - 53s 11ms/step - loss: 0.0766 - mean_absolute_error: 0.1547\n"
     ]
    },
    {
     "name": "stderr",
     "output_type": "stream",
     "text": [
      "e:\\envs\\python36env\\lib\\site-packages\\ipykernel_launcher.py:7: UserWarning: Update your `LSTM` call to the Keras 2 API: `LSTM(input_shape=(10, 1), activation=\"relu\", return_sequences=True, units=86)`\n",
      "  import sys\n",
      "e:\\envs\\python36env\\lib\\site-packages\\ipykernel_launcher.py:11: UserWarning: Update your `LSTM` call to the Keras 2 API: `LSTM(activation=\"tanh\", return_sequences=True, units=128)`\n",
      "  # This is added back by InteractiveShellApp.init_path()\n",
      "e:\\envs\\python36env\\lib\\site-packages\\ipykernel_launcher.py:14: UserWarning: Update your `LSTM` call to the Keras 2 API: `LSTM(activation=\"tanh\", units=128)`\n",
      "  \n"
     ]
    },
    {
     "name": "stdout",
     "output_type": "stream",
     "text": [
      "Epoch 1/1\n",
      "4800/4800 [==============================] - 71s 15ms/step - loss: 0.0764 - mean_absolute_error: 0.1635\n"
     ]
    },
    {
     "name": "stderr",
     "output_type": "stream",
     "text": [
      "e:\\envs\\python36env\\lib\\site-packages\\ipykernel_launcher.py:7: UserWarning: Update your `LSTM` call to the Keras 2 API: `LSTM(input_shape=(10, 1), activation=\"relu\", return_sequences=True, units=86)`\n",
      "  import sys\n",
      "e:\\envs\\python36env\\lib\\site-packages\\ipykernel_launcher.py:11: UserWarning: Update your `LSTM` call to the Keras 2 API: `LSTM(activation=\"tanh\", return_sequences=True, units=128)`\n",
      "  # This is added back by InteractiveShellApp.init_path()\n",
      "e:\\envs\\python36env\\lib\\site-packages\\ipykernel_launcher.py:14: UserWarning: Update your `LSTM` call to the Keras 2 API: `LSTM(activation=\"tanh\", units=128)`\n",
      "  \n"
     ]
    },
    {
     "name": "stdout",
     "output_type": "stream",
     "text": [
      "Epoch 1/1\n",
      "4800/4800 [==============================] - 79s 17ms/step - loss: 0.0665 - mean_absolute_error: 0.1426\n"
     ]
    },
    {
     "name": "stderr",
     "output_type": "stream",
     "text": [
      "e:\\envs\\python36env\\lib\\site-packages\\ipykernel_launcher.py:7: UserWarning: Update your `LSTM` call to the Keras 2 API: `LSTM(input_shape=(10, 1), activation=\"relu\", return_sequences=True, units=86)`\n",
      "  import sys\n",
      "e:\\envs\\python36env\\lib\\site-packages\\ipykernel_launcher.py:11: UserWarning: Update your `LSTM` call to the Keras 2 API: `LSTM(activation=\"tanh\", return_sequences=True, units=128)`\n",
      "  # This is added back by InteractiveShellApp.init_path()\n",
      "e:\\envs\\python36env\\lib\\site-packages\\ipykernel_launcher.py:14: UserWarning: Update your `LSTM` call to the Keras 2 API: `LSTM(activation=\"tanh\", units=128)`\n",
      "  \n"
     ]
    },
    {
     "name": "stdout",
     "output_type": "stream",
     "text": [
      "Epoch 1/1\n",
      "4800/4800 [==============================] - 83s 17ms/step - loss: 0.0617 - mean_absolute_error: 0.1318\n"
     ]
    },
    {
     "name": "stderr",
     "output_type": "stream",
     "text": [
      "e:\\envs\\python36env\\lib\\site-packages\\ipykernel_launcher.py:7: UserWarning: Update your `LSTM` call to the Keras 2 API: `LSTM(input_shape=(10, 1), activation=\"relu\", return_sequences=True, units=86)`\n",
      "  import sys\n",
      "e:\\envs\\python36env\\lib\\site-packages\\ipykernel_launcher.py:11: UserWarning: Update your `LSTM` call to the Keras 2 API: `LSTM(activation=\"tanh\", return_sequences=True, units=128)`\n",
      "  # This is added back by InteractiveShellApp.init_path()\n",
      "e:\\envs\\python36env\\lib\\site-packages\\ipykernel_launcher.py:14: UserWarning: Update your `LSTM` call to the Keras 2 API: `LSTM(activation=\"tanh\", units=128)`\n",
      "  \n"
     ]
    },
    {
     "name": "stdout",
     "output_type": "stream",
     "text": [
      "Epoch 1/1\n",
      "4800/4800 [==============================] - 102s 21ms/step - loss: 0.0802 - mean_absolute_error: 0.1709\n"
     ]
    },
    {
     "name": "stderr",
     "output_type": "stream",
     "text": [
      "[Parallel(n_jobs=1)]: Done   5 out of   5 | elapsed: 10.5min finished\n",
      "e:\\envs\\python36env\\lib\\site-packages\\ipykernel_launcher.py:7: UserWarning: Update your `LSTM` call to the Keras 2 API: `LSTM(input_shape=(10, 1), activation=\"relu\", return_sequences=True, units=86)`\n",
      "  import sys\n"
     ]
    },
    {
     "name": "stdout",
     "output_type": "stream",
     "text": [
      "Model #2\n",
      "Best MSE: -0.00449\n",
      "Best params: OrderedDict([('num_layer', 4), ('output_dim1', 86), ('output_dim2', 128)])\n",
      "\n"
     ]
    },
    {
     "name": "stderr",
     "output_type": "stream",
     "text": [
      "e:\\envs\\python36env\\lib\\site-packages\\ipykernel_launcher.py:11: UserWarning: Update your `LSTM` call to the Keras 2 API: `LSTM(activation=\"tanh\", return_sequences=True, units=128)`\n",
      "  # This is added back by InteractiveShellApp.init_path()\n",
      "e:\\envs\\python36env\\lib\\site-packages\\ipykernel_launcher.py:14: UserWarning: Update your `LSTM` call to the Keras 2 API: `LSTM(activation=\"tanh\", units=128)`\n",
      "  \n"
     ]
    },
    {
     "name": "stdout",
     "output_type": "stream",
     "text": [
      "Epoch 1/1\n",
      "6000/6000 [==============================] - 149s 25ms/step - loss: 0.0584 - mean_absolute_error: 0.1223\n"
     ]
    },
    {
     "data": {
      "text/plain": [
       "BayesSearchCV(cv=5, error_score='raise',\n",
       "              estimator=<keras.wrappers.scikit_learn.KerasRegressor object at 0x000001FE0694D0B8>,\n",
       "              fit_params=None, iid=True, n_iter=2, n_jobs=1, n_points=1,\n",
       "              optimizer_kwargs=None, pre_dispatch='2*n_jobs', random_state=1885,\n",
       "              refit=True, return_train_score=True,\n",
       "              scoring='neg_mean_squared_error',\n",
       "              search_spaces={'num_layer': [3, 4], 'output_dim1': [35, 86, 128],\n",
       "                             'output_dim2': [35, 86, 128]},\n",
       "              verbose=1)"
      ]
     },
     "execution_count": 17,
     "metadata": {},
     "output_type": "execute_result"
    }
   ],
   "source": [
    "bayes_cv_tuner.fit(data_x,data_y, callback=status_print)\n",
    "# bayes_cv_tuner.fit(data_x,data_y)"
   ]
  },
  {
   "cell_type": "code",
   "execution_count": 18,
   "metadata": {},
   "outputs": [
    {
     "data": {
      "text/plain": [
       "OrderedDict([('num_layer', 4), ('output_dim1', 86), ('output_dim2', 128)])"
      ]
     },
     "execution_count": 18,
     "metadata": {},
     "output_type": "execute_result"
    }
   ],
   "source": [
    "bayes_cv_tuner.best_params_"
   ]
  },
  {
   "cell_type": "code",
   "execution_count": 21,
   "metadata": {},
   "outputs": [
    {
     "name": "stderr",
     "output_type": "stream",
     "text": [
      "e:\\envs\\python36env\\lib\\site-packages\\ipykernel_launcher.py:7: UserWarning: Update your `LSTM` call to the Keras 2 API: `LSTM(input_shape=(10, 1), activation=\"relu\", return_sequences=True, units=86)`\n",
      "  import sys\n",
      "e:\\envs\\python36env\\lib\\site-packages\\ipykernel_launcher.py:11: UserWarning: Update your `LSTM` call to the Keras 2 API: `LSTM(activation=\"tanh\", return_sequences=True, units=128)`\n",
      "  # This is added back by InteractiveShellApp.init_path()\n",
      "e:\\envs\\python36env\\lib\\site-packages\\ipykernel_launcher.py:14: UserWarning: Update your `LSTM` call to the Keras 2 API: `LSTM(activation=\"tanh\", units=128)`\n",
      "  \n"
     ]
    }
   ],
   "source": [
    "model = create_model(86, 4, 128)"
   ]
  },
  {
   "cell_type": "code",
   "execution_count": 22,
   "metadata": {
    "scrolled": false
   },
   "outputs": [
    {
     "name": "stdout",
     "output_type": "stream",
     "text": [
      "Epoch 1/20\n",
      "6000/6000 [==============================] - 50s 8ms/step - loss: 1.3906 - mean_absolute_error: 1.1681\n",
      "Epoch 2/20\n",
      "6000/6000 [==============================] - 23s 4ms/step - loss: 1.0069 - mean_absolute_error: 0.9876\n",
      "Epoch 3/20\n",
      "6000/6000 [==============================] - 23s 4ms/step - loss: 0.2562 - mean_absolute_error: 0.4637\n",
      "Epoch 4/20\n",
      "6000/6000 [==============================] - 23s 4ms/step - loss: 0.1204 - mean_absolute_error: 0.2867\n",
      "Epoch 5/20\n",
      "6000/6000 [==============================] - 23s 4ms/step - loss: 0.1033 - mean_absolute_error: 0.2912\n",
      "Epoch 6/20\n",
      "6000/6000 [==============================] - 24s 4ms/step - loss: 0.1007 - mean_absolute_error: 0.2867\n",
      "Epoch 7/20\n",
      "6000/6000 [==============================] - 24s 4ms/step - loss: 0.0244 - mean_absolute_error: 0.1275\n",
      "Epoch 8/20\n",
      "6000/6000 [==============================] - 24s 4ms/step - loss: 0.0613 - mean_absolute_error: 0.2210\n",
      "Epoch 9/20\n",
      "6000/6000 [==============================] - 24s 4ms/step - loss: 0.0206 - mean_absolute_error: 0.1150\n",
      "Epoch 10/20\n",
      "6000/6000 [==============================] - 24s 4ms/step - loss: 0.0355 - mean_absolute_error: 0.1580\n",
      "Epoch 11/20\n",
      "6000/6000 [==============================] - 24s 4ms/step - loss: 0.0291 - mean_absolute_error: 0.1396\n",
      "Epoch 12/20\n",
      "6000/6000 [==============================] - 24s 4ms/step - loss: 0.0182 - mean_absolute_error: 0.1098\n",
      "Epoch 13/20\n",
      "6000/6000 [==============================] - 24s 4ms/step - loss: 0.0254 - mean_absolute_error: 0.1288\n",
      "Epoch 14/20\n",
      "6000/6000 [==============================] - 24s 4ms/step - loss: 0.0168 - mean_absolute_error: 0.1058\n",
      "Epoch 15/20\n",
      "6000/6000 [==============================] - 24s 4ms/step - loss: 0.0200 - mean_absolute_error: 0.1126\n",
      "Epoch 16/20\n",
      "6000/6000 [==============================] - 24s 4ms/step - loss: 0.0176 - mean_absolute_error: 0.1065\n",
      "Epoch 17/20\n",
      "6000/6000 [==============================] - 24s 4ms/step - loss: 0.0164 - mean_absolute_error: 0.1048\n",
      "Epoch 18/20\n",
      "6000/6000 [==============================] - 24s 4ms/step - loss: 0.0169 - mean_absolute_error: 0.1061\n",
      "Epoch 19/20\n",
      "6000/6000 [==============================] - 24s 4ms/step - loss: 0.0151 - mean_absolute_error: 0.1005\n",
      "Epoch 20/20\n",
      "6000/6000 [==============================] - 24s 4ms/step - loss: 0.0157 - mean_absolute_error: 0.1015\n"
     ]
    },
    {
     "data": {
      "text/plain": [
       "<keras.callbacks.History at 0x1fe4bf12518>"
      ]
     },
     "execution_count": 22,
     "metadata": {},
     "output_type": "execute_result"
    }
   ],
   "source": [
    "model.fit(data_x_train, data_y_train, epochs=20, batch_size=2000, verbose=1)"
   ]
  },
  {
   "cell_type": "code",
   "execution_count": 23,
   "metadata": {},
   "outputs": [
    {
     "name": "stdout",
     "output_type": "stream",
     "text": [
      "1000/1000 [==============================] - 17s 17ms/step\n",
      "\n",
      "test loss 0.00228\n",
      "mae 0.04080\n"
     ]
    }
   ],
   "source": [
    "# 评估模型,不输出预测结果\n",
    "loss,mae= model.evaluate(data_x_test,data_y_test)\n",
    "print('\\ntest loss','{:.5f}'.format(loss))\n",
    "print('mae','{:.5f}'.format(mae))"
   ]
  },
  {
   "cell_type": "code",
   "execution_count": 24,
   "metadata": {},
   "outputs": [],
   "source": [
    "y_pred = model.predict(data_x_test,batch_size = 1)"
   ]
  },
  {
   "cell_type": "code",
   "execution_count": null,
   "metadata": {},
   "outputs": [],
   "source": [
    "# y_pred[-10:]"
   ]
  },
  {
   "cell_type": "code",
   "execution_count": null,
   "metadata": {},
   "outputs": [],
   "source": [
    "# data_y_test[-10:,0]"
   ]
  },
  {
   "cell_type": "code",
   "execution_count": null,
   "metadata": {},
   "outputs": [],
   "source": [
    "# data_x_test[-10:,0,-1]"
   ]
  },
  {
   "cell_type": "code",
   "execution_count": null,
   "metadata": {},
   "outputs": [],
   "source": [
    "# t = []\n",
    "# for i in range(1000):\n",
    "#     if data_y_test[:,0][i]>data_x_test[:,0,-1][i]:\n",
    "#         t.append(1)\n",
    "#     else:\n",
    "#         t.append(0)\n",
    "# len(t)"
   ]
  },
  {
   "cell_type": "code",
   "execution_count": null,
   "metadata": {},
   "outputs": [],
   "source": [
    "# p = []\n",
    "# for i in range(1000):\n",
    "#     if y_pred[:,0][i]>data_x_test[:,0,-1][i]:\n",
    "#         p.append(1)\n",
    "#     else:\n",
    "#         p.append(0)\n",
    "# len(p)"
   ]
  },
  {
   "cell_type": "code",
   "execution_count": null,
   "metadata": {},
   "outputs": [],
   "source": [
    "# n = 0\n",
    "# for i in range(1000):\n",
    "#     if t[i]==p[i]:\n",
    "#         n=n+1\n",
    "# n/1000"
   ]
  },
  {
   "cell_type": "code",
   "execution_count": null,
   "metadata": {},
   "outputs": [],
   "source": [
    "# model.save('model.h5')#保存名为model的h5文件到程序所在目录"
   ]
  },
  {
   "cell_type": "code",
   "execution_count": null,
   "metadata": {},
   "outputs": [],
   "source": [
    "# data_x_test.shape"
   ]
  },
  {
   "cell_type": "code",
   "execution_count": null,
   "metadata": {},
   "outputs": [],
   "source": [
    "# model.predict(data_x_test,batch_size = 1)"
   ]
  },
  {
   "cell_type": "code",
   "execution_count": null,
   "metadata": {},
   "outputs": [],
   "source": [
    "# x_pred = [1.08244, 1.0776, 1.08229, 1.08564, 1.08607, 1.08739, 1.08386, 1.09066, 1.09798, 1.0912]\n",
    "# "
   ]
  },
  {
   "cell_type": "code",
   "execution_count": null,
   "metadata": {},
   "outputs": [],
   "source": [
    "# x_pred = np.array(x_pred).reshape(1,10,1)"
   ]
  },
  {
   "cell_type": "code",
   "execution_count": null,
   "metadata": {},
   "outputs": [],
   "source": [
    "# x_pred.shape"
   ]
  },
  {
   "cell_type": "code",
   "execution_count": null,
   "metadata": {},
   "outputs": [],
   "source": [
    "# model.predict(x_pred,batch_size = 1).tolist()[0][0]"
   ]
  },
  {
   "cell_type": "code",
   "execution_count": null,
   "metadata": {},
   "outputs": [],
   "source": [
    "# y_pred.shape"
   ]
  },
  {
   "cell_type": "code",
   "execution_count": null,
   "metadata": {},
   "outputs": [],
   "source": [
    "# y_pred"
   ]
  },
  {
   "cell_type": "code",
   "execution_count": 25,
   "metadata": {},
   "outputs": [],
   "source": [
    "y_t = data_y_test.reshape(1000)"
   ]
  },
  {
   "cell_type": "code",
   "execution_count": 26,
   "metadata": {},
   "outputs": [],
   "source": [
    "y_p = y_pred.reshape(1000)"
   ]
  },
  {
   "cell_type": "code",
   "execution_count": 27,
   "metadata": {},
   "outputs": [],
   "source": [
    " df_test_output = pd.DataFrame(columns=['真实值', '预测值'])"
   ]
  },
  {
   "cell_type": "code",
   "execution_count": 28,
   "metadata": {},
   "outputs": [],
   "source": [
    "df_test_output['真实值'] = y_t"
   ]
  },
  {
   "cell_type": "code",
   "execution_count": 29,
   "metadata": {},
   "outputs": [],
   "source": [
    "df_test_output['预测值'] = y_p"
   ]
  },
  {
   "cell_type": "code",
   "execution_count": 30,
   "metadata": {},
   "outputs": [
    {
     "data": {
      "text/html": [
       "<div>\n",
       "<style scoped>\n",
       "    .dataframe tbody tr th:only-of-type {\n",
       "        vertical-align: middle;\n",
       "    }\n",
       "\n",
       "    .dataframe tbody tr th {\n",
       "        vertical-align: top;\n",
       "    }\n",
       "\n",
       "    .dataframe thead th {\n",
       "        text-align: right;\n",
       "    }\n",
       "</style>\n",
       "<table border=\"1\" class=\"dataframe\">\n",
       "  <thead>\n",
       "    <tr style=\"text-align: right;\">\n",
       "      <th></th>\n",
       "      <th>真实值</th>\n",
       "      <th>预测值</th>\n",
       "    </tr>\n",
       "  </thead>\n",
       "  <tbody>\n",
       "    <tr>\n",
       "      <th>0</th>\n",
       "      <td>1.10989</td>\n",
       "      <td>1.162232</td>\n",
       "    </tr>\n",
       "    <tr>\n",
       "      <th>1</th>\n",
       "      <td>1.10601</td>\n",
       "      <td>1.161124</td>\n",
       "    </tr>\n",
       "    <tr>\n",
       "      <th>2</th>\n",
       "      <td>1.10497</td>\n",
       "      <td>1.158916</td>\n",
       "    </tr>\n",
       "    <tr>\n",
       "      <th>3</th>\n",
       "      <td>1.10568</td>\n",
       "      <td>1.158885</td>\n",
       "    </tr>\n",
       "    <tr>\n",
       "      <th>4</th>\n",
       "      <td>1.10604</td>\n",
       "      <td>1.159496</td>\n",
       "    </tr>\n",
       "    <tr>\n",
       "      <th>...</th>\n",
       "      <td>...</td>\n",
       "      <td>...</td>\n",
       "    </tr>\n",
       "    <tr>\n",
       "      <th>995</th>\n",
       "      <td>1.08319</td>\n",
       "      <td>1.152479</td>\n",
       "    </tr>\n",
       "    <tr>\n",
       "      <th>996</th>\n",
       "      <td>1.08386</td>\n",
       "      <td>1.153115</td>\n",
       "    </tr>\n",
       "    <tr>\n",
       "      <th>997</th>\n",
       "      <td>1.08060</td>\n",
       "      <td>1.153483</td>\n",
       "    </tr>\n",
       "    <tr>\n",
       "      <th>998</th>\n",
       "      <td>1.08469</td>\n",
       "      <td>1.153911</td>\n",
       "    </tr>\n",
       "    <tr>\n",
       "      <th>999</th>\n",
       "      <td>1.08173</td>\n",
       "      <td>1.154510</td>\n",
       "    </tr>\n",
       "  </tbody>\n",
       "</table>\n",
       "<p>1000 rows × 2 columns</p>\n",
       "</div>"
      ],
      "text/plain": [
       "         真实值       预测值\n",
       "0    1.10989  1.162232\n",
       "1    1.10601  1.161124\n",
       "2    1.10497  1.158916\n",
       "3    1.10568  1.158885\n",
       "4    1.10604  1.159496\n",
       "..       ...       ...\n",
       "995  1.08319  1.152479\n",
       "996  1.08386  1.153115\n",
       "997  1.08060  1.153483\n",
       "998  1.08469  1.153911\n",
       "999  1.08173  1.154510\n",
       "\n",
       "[1000 rows x 2 columns]"
      ]
     },
     "execution_count": 30,
     "metadata": {},
     "output_type": "execute_result"
    }
   ],
   "source": [
    "df_test_output"
   ]
  },
  {
   "cell_type": "code",
   "execution_count": null,
   "metadata": {},
   "outputs": [],
   "source": [
    "# df_test_output.to_csv('EURUSD_test_output.csv',encoding='utf_8_sig')"
   ]
  },
  {
   "cell_type": "code",
   "execution_count": null,
   "metadata": {},
   "outputs": [],
   "source": []
  }
 ],
 "metadata": {
  "kernelspec": {
   "display_name": "Python 3",
   "language": "python",
   "name": "python3"
  },
  "language_info": {
   "codemirror_mode": {
    "name": "ipython",
    "version": 3
   },
   "file_extension": ".py",
   "mimetype": "text/x-python",
   "name": "python",
   "nbconvert_exporter": "python",
   "pygments_lexer": "ipython3",
   "version": "3.6.5"
  }
 },
 "nbformat": 4,
 "nbformat_minor": 4
}
