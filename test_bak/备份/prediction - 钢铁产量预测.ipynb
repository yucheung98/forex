{
 "cells": [
  {
   "cell_type": "code",
   "execution_count": 98,
   "metadata": {
    "scrolled": false
   },
   "outputs": [],
   "source": [
    "import numpy as np \n",
    "import pandas as pd \n",
    "import matplotlib.pyplot as plt \n",
    "from sklearn import preprocessing\n",
    "from keras.layers.core import Dense, Activation, Dropout\n",
    "from keras.layers.recurrent import LSTM\n",
    "from keras.models import Sequential\n",
    "from keras import metrics"
   ]
  },
  {
   "cell_type": "code",
   "execution_count": 99,
   "metadata": {},
   "outputs": [],
   "source": [
    "data_xls = pd.read_excel('辽宁钢铁行业月用电量.xls')"
   ]
  },
  {
   "cell_type": "code",
   "execution_count": 100,
   "metadata": {},
   "outputs": [
    {
     "data": {
      "text/html": [
       "<div>\n",
       "<style scoped>\n",
       "    .dataframe tbody tr th:only-of-type {\n",
       "        vertical-align: middle;\n",
       "    }\n",
       "\n",
       "    .dataframe tbody tr th {\n",
       "        vertical-align: top;\n",
       "    }\n",
       "\n",
       "    .dataframe thead th {\n",
       "        text-align: right;\n",
       "    }\n",
       "</style>\n",
       "<table border=\"1\" class=\"dataframe\">\n",
       "  <thead>\n",
       "    <tr style=\"text-align: right;\">\n",
       "      <th></th>\n",
       "      <th>月份</th>\n",
       "      <th>辽宁钢铁行业月用电量（亿千万时）</th>\n",
       "      <th>钢铁产量</th>\n",
       "      <th>汽车产量</th>\n",
       "      <th>水泥产量</th>\n",
       "      <th>金属切削机床</th>\n",
       "      <th>大中型拖拉机</th>\n",
       "      <th>鞍钢股价</th>\n",
       "      <th>本钢股价</th>\n",
       "      <th>凌钢股价</th>\n",
       "    </tr>\n",
       "  </thead>\n",
       "  <tbody>\n",
       "    <tr>\n",
       "      <th>0</th>\n",
       "      <td>2007M01</td>\n",
       "      <td>13.856687</td>\n",
       "      <td>354.62</td>\n",
       "      <td>78.72</td>\n",
       "      <td>8370.22</td>\n",
       "      <td>4.12</td>\n",
       "      <td>14440.0</td>\n",
       "      <td>12.95</td>\n",
       "      <td>6.50</td>\n",
       "      <td>6.10</td>\n",
       "    </tr>\n",
       "    <tr>\n",
       "      <th>1</th>\n",
       "      <td>2007M02</td>\n",
       "      <td>11.941298</td>\n",
       "      <td>318.87</td>\n",
       "      <td>59.65</td>\n",
       "      <td>6500.82</td>\n",
       "      <td>3.35</td>\n",
       "      <td>13941.0</td>\n",
       "      <td>12.87</td>\n",
       "      <td>8.09</td>\n",
       "      <td>7.58</td>\n",
       "    </tr>\n",
       "    <tr>\n",
       "      <th>2</th>\n",
       "      <td>2007M03</td>\n",
       "      <td>14.555307</td>\n",
       "      <td>368.91</td>\n",
       "      <td>88.96</td>\n",
       "      <td>9308.57</td>\n",
       "      <td>4.78</td>\n",
       "      <td>26231.0</td>\n",
       "      <td>14.57</td>\n",
       "      <td>8.55</td>\n",
       "      <td>8.28</td>\n",
       "    </tr>\n",
       "    <tr>\n",
       "      <th>3</th>\n",
       "      <td>2007M04</td>\n",
       "      <td>13.656541</td>\n",
       "      <td>366.22</td>\n",
       "      <td>83.98</td>\n",
       "      <td>11643.56</td>\n",
       "      <td>5.41</td>\n",
       "      <td>22263.0</td>\n",
       "      <td>17.64</td>\n",
       "      <td>13.35</td>\n",
       "      <td>11.03</td>\n",
       "    </tr>\n",
       "    <tr>\n",
       "      <th>4</th>\n",
       "      <td>2007M05</td>\n",
       "      <td>13.143799</td>\n",
       "      <td>374.81</td>\n",
       "      <td>74.35</td>\n",
       "      <td>12869.06</td>\n",
       "      <td>5.34</td>\n",
       "      <td>14824.0</td>\n",
       "      <td>18.34</td>\n",
       "      <td>13.89</td>\n",
       "      <td>10.44</td>\n",
       "    </tr>\n",
       "    <tr>\n",
       "      <th>...</th>\n",
       "      <td>...</td>\n",
       "      <td>...</td>\n",
       "      <td>...</td>\n",
       "      <td>...</td>\n",
       "      <td>...</td>\n",
       "      <td>...</td>\n",
       "      <td>...</td>\n",
       "      <td>...</td>\n",
       "      <td>...</td>\n",
       "      <td>...</td>\n",
       "    </tr>\n",
       "    <tr>\n",
       "      <th>153</th>\n",
       "      <td>2019M10</td>\n",
       "      <td>19.591677</td>\n",
       "      <td>609.31</td>\n",
       "      <td>NaN</td>\n",
       "      <td>NaN</td>\n",
       "      <td>NaN</td>\n",
       "      <td>NaN</td>\n",
       "      <td>NaN</td>\n",
       "      <td>NaN</td>\n",
       "      <td>NaN</td>\n",
       "    </tr>\n",
       "    <tr>\n",
       "      <th>154</th>\n",
       "      <td>2019M11</td>\n",
       "      <td>21.042283</td>\n",
       "      <td>630.76</td>\n",
       "      <td>NaN</td>\n",
       "      <td>NaN</td>\n",
       "      <td>NaN</td>\n",
       "      <td>NaN</td>\n",
       "      <td>NaN</td>\n",
       "      <td>NaN</td>\n",
       "      <td>NaN</td>\n",
       "    </tr>\n",
       "    <tr>\n",
       "      <th>155</th>\n",
       "      <td>2019M12</td>\n",
       "      <td>21.137609</td>\n",
       "      <td>648.00</td>\n",
       "      <td>NaN</td>\n",
       "      <td>NaN</td>\n",
       "      <td>NaN</td>\n",
       "      <td>NaN</td>\n",
       "      <td>NaN</td>\n",
       "      <td>NaN</td>\n",
       "      <td>NaN</td>\n",
       "    </tr>\n",
       "    <tr>\n",
       "      <th>156</th>\n",
       "      <td>2020M01</td>\n",
       "      <td>22.502425</td>\n",
       "      <td>621.00</td>\n",
       "      <td>NaN</td>\n",
       "      <td>NaN</td>\n",
       "      <td>NaN</td>\n",
       "      <td>NaN</td>\n",
       "      <td>NaN</td>\n",
       "      <td>NaN</td>\n",
       "      <td>NaN</td>\n",
       "    </tr>\n",
       "    <tr>\n",
       "      <th>157</th>\n",
       "      <td>2020M02</td>\n",
       "      <td>19.675281</td>\n",
       "      <td>525.78</td>\n",
       "      <td>NaN</td>\n",
       "      <td>NaN</td>\n",
       "      <td>NaN</td>\n",
       "      <td>NaN</td>\n",
       "      <td>NaN</td>\n",
       "      <td>NaN</td>\n",
       "      <td>NaN</td>\n",
       "    </tr>\n",
       "  </tbody>\n",
       "</table>\n",
       "<p>158 rows × 10 columns</p>\n",
       "</div>"
      ],
      "text/plain": [
       "          月份  辽宁钢铁行业月用电量（亿千万时）    钢铁产量   汽车产量      水泥产量  金属切削机床   大中型拖拉机  \\\n",
       "0    2007M01         13.856687  354.62  78.72   8370.22    4.12  14440.0   \n",
       "1    2007M02         11.941298  318.87  59.65   6500.82    3.35  13941.0   \n",
       "2    2007M03         14.555307  368.91  88.96   9308.57    4.78  26231.0   \n",
       "3    2007M04         13.656541  366.22  83.98  11643.56    5.41  22263.0   \n",
       "4    2007M05         13.143799  374.81  74.35  12869.06    5.34  14824.0   \n",
       "..       ...               ...     ...    ...       ...     ...      ...   \n",
       "153  2019M10         19.591677  609.31    NaN       NaN     NaN      NaN   \n",
       "154  2019M11         21.042283  630.76    NaN       NaN     NaN      NaN   \n",
       "155  2019M12         21.137609  648.00    NaN       NaN     NaN      NaN   \n",
       "156  2020M01         22.502425  621.00    NaN       NaN     NaN      NaN   \n",
       "157  2020M02         19.675281  525.78    NaN       NaN     NaN      NaN   \n",
       "\n",
       "      鞍钢股价   本钢股价   凌钢股价  \n",
       "0    12.95   6.50   6.10  \n",
       "1    12.87   8.09   7.58  \n",
       "2    14.57   8.55   8.28  \n",
       "3    17.64  13.35  11.03  \n",
       "4    18.34  13.89  10.44  \n",
       "..     ...    ...    ...  \n",
       "153    NaN    NaN    NaN  \n",
       "154    NaN    NaN    NaN  \n",
       "155    NaN    NaN    NaN  \n",
       "156    NaN    NaN    NaN  \n",
       "157    NaN    NaN    NaN  \n",
       "\n",
       "[158 rows x 10 columns]"
      ]
     },
     "execution_count": 100,
     "metadata": {},
     "output_type": "execute_result"
    }
   ],
   "source": [
    "data_xls"
   ]
  },
  {
   "cell_type": "code",
   "execution_count": 101,
   "metadata": {},
   "outputs": [],
   "source": [
    "# data_xls.drop(['月份'，], axis=1, inplace=True)\n",
    "# data_xls"
   ]
  },
  {
   "cell_type": "code",
   "execution_count": 105,
   "metadata": {},
   "outputs": [
    {
     "name": "stdout",
     "output_type": "stream",
     "text": [
      "[[13.85668698 354.62 78.72 8370.22 4.12]\n",
      " [11.94129775 318.87 59.65 6500.82 3.35]\n",
      " [14.5553069 368.91 88.96 9308.57 4.78]\n",
      " [13.65654085 366.22 83.98 11643.56 5.41]\n",
      " [13.14379943 374.81 74.35 12869.06 5.34]\n",
      " [13.89728023 407.8 75.92 12733.27 5.51]\n",
      " [13.82012254 371.56 67.88 11748.24 5.27]\n",
      " [13.79591637 347.4 66.14 12081.19 5.31]\n",
      " [13.98148773 371.86 78.3 12520.21 5.73]\n",
      " [13.27588781 358.27 75.17 12379.76 5.3]\n",
      " [13.96807882 345.8 86.52 12547.31 5.24]\n",
      " [14.28233571 369.6 84.87 12328.41 5.06]\n",
      " [14.25003836 336.4 84.3 8268.01 5.07]\n",
      " [12.63311045 335.34 67.21 5958.28 4.69]\n",
      " [13.46243023 366.4 106.57 11322.94 5.85]\n",
      " [12.66591199 343.26 100.41 12488.42 6.03]\n",
      " [15.74872233 399.75 89.49 13198.24 7.13]\n",
      " [13.96355619 409.85 86.42 13181.24 5.89]\n",
      " [14.0412472 380.07 75.72 11943.23 5.4]\n",
      " [14.73483898 372.28 62.58 11985.87 5.31]\n",
      " [14.43095576 355.84 79.18 12422.85 5.11]\n",
      " [13.07001702 323.2 73.03 12309.27 5.0]\n",
      " [11.2565999 307.96 71.35 12679.63 4.35]\n",
      " [12.75663418 342.5 68.57 12527.17 3.81]\n",
      " [15.18040114 353.16 67.37 7580.12 3.41]\n",
      " [13.37540347 330.71 85.28 8289.98 4.08]\n",
      " [14.73297642 378.61 116.9 12206.74 5.41]\n",
      " [15.78046701 348.83 118.12 14677.55 5.53]\n",
      " [17.72041254 439.96 114.76 14888.43 5.47]\n",
      " [17.83488148 428.16 120.43 15759.93 5.99]\n",
      " [18.58404608 456.05 113.69 14486.98 5.3]\n",
      " [20.17703177 469.65 116.65 14975.2 5.24]\n",
      " [18.09534907 436.27 137.34 15630.78 5.47]\n",
      " [18.75590088 435.96 131.09 15635.07 5.27]\n",
      " [18.23257587 422.55 144.19 15095.85 5.81]\n",
      " [19.43319581 462.8 153.75 14498.48 5.38]\n",
      " [21.23330098 446.2 162.49 11520.47 4.55]\n",
      " [16.1386489 401.6 122.6 8377.5 3.8]\n",
      " [19.02165091 463.3 174.8 13598.7 5.2]\n",
      " [19.05428623 480.0 159.8 16114.5 5.9]\n",
      " [19.68678322 480.1 145.8 17357.6 6.2]\n",
      " [19.79838388 489.7 142.6 17448.3 6.6]\n",
      " [19.47129446 468.1 134.2 16492.2 6.3]\n",
      " [21.33109174 476.3 133.1 16780.4 6.8]\n",
      " [21.66244321 487.6 163.4 17045.8 6.6]\n",
      " [21.55903074 477.7 159.3 17029.7 6.6]\n",
      " [21.76134192 487.6 182.1 17658.4 7.1]\n",
      " [21.32224764 488.4 195.4 16966.2 7.1]\n",
      " [23.88102624 448.3 183.5 11614.95 5.58]\n",
      " [20.37005115 420.9 129.4 8814.1 4.4]\n",
      " [22.57014853 493.5 192.3 16455.6 6.7]\n",
      " [22.31149827 460.7 156.5 18555.6 7.2]\n",
      " [23.46213236 524.2 142.6 19628.3 8.1]\n",
      " [23.0468898 532.1 148.5 19794.5 8.4]\n",
      " [23.68748431 508.5 131.8 18307.7 8.4]\n",
      " [23.21969118 508.1 145.0 18242.9 7.9]\n",
      " [22.34132092 485.7 166.4 19031.3 7.6]\n",
      " [22.57994124 473.5 160.5 19062.7 7.0]\n",
      " [20.77764555 440.0 179.3 18806.0 6.7]\n",
      " [21.62859336 435.4 182.4 17508.3 6.5]\n",
      " [20.60581298 476.3 138.92 10174.14 4.85]\n",
      " [19.12035023 400.8 173.13 11414.22 6.36]\n",
      " [21.83852119 507.1 202.4 17927.7 6.9]\n",
      " [22.03478112 495.9 175.8 19666.2 6.4]\n",
      " [22.96754631 511.4 171.5 20510.9 6.5]\n",
      " [21.99876057 588.5 169.5 20716.5 7.4]\n",
      " [24.83276378 521.6 148.9 19117.0 5.9]\n",
      " [21.62148723 457.8 158.3 19555.2 5.6]\n",
      " [20.27768634 445.6 180.4 20966.3 7.6]\n",
      " [22.63204252 455.2 167.7 21005.8 6.2]\n",
      " [23.17493494 501.2 184.9 20107.6 6.8]\n",
      " [23.35720146 543.1 191.7 18179.7 6.8]\n",
      " [23.4494409 531.1 205.5 14232.7 6.4]\n",
      " [20.05551726 509.5 144.5 9496.5 5.3]\n",
      " [22.89831935 570.3 229.0 18697.6 6.4]\n",
      " [23.94298725 523.1 203.2 21487.8 6.5]\n",
      " [24.63203561 562.2 192.69 22426.73 6.93]\n",
      " [23.35155973 583.0 185.11 22753.7 6.73]\n",
      " [25.31567391 569.8 170.79 21182.24 6.07]\n",
      " [26.24082889 558.1 179.5 21483.39 6.2]\n",
      " [25.83558837 578.9 207.14 22505.32 6.34]\n",
      " [24.00818065 572.4 208.34 23253.73 6.12]\n",
      " [22.82075883 595.95 228.37 22371.42 6.16]\n",
      " [23.84022494 594.8 229.97 20529.5 6.61]]\n"
     ]
    }
   ],
   "source": [
    "data_origin = np.array(data_xls)[:84,1:6]\n",
    "print(data_origin)"
   ]
  },
  {
   "cell_type": "code",
   "execution_count": 143,
   "metadata": {},
   "outputs": [
    {
     "data": {
      "text/plain": [
       "array([354.62, 318.87, 368.91, 366.22, 374.81, 407.8, 371.56, 347.4,\n",
       "       371.86, 358.27, 345.8, 369.6, 336.4, 335.34, 366.4, 343.26, 399.75,\n",
       "       409.85, 380.07, 372.28, 355.84, 323.2, 307.96, 342.5, 353.16,\n",
       "       330.71, 378.61, 348.83, 439.96, 428.16, 456.05, 469.65, 436.27,\n",
       "       435.96, 422.55, 462.8, 446.2, 401.6, 463.3, 480.0, 480.1, 489.7,\n",
       "       468.1, 476.3, 487.6, 477.7, 487.6, 488.4, 448.3, 420.9, 493.5,\n",
       "       460.7, 524.2, 532.1, 508.5, 508.1, 485.7, 473.5, 440.0, 435.4,\n",
       "       476.3, 400.8, 507.1, 495.9, 511.4, 588.5, 521.6, 457.8, 445.6,\n",
       "       455.2, 501.2, 543.1, 531.1, 509.5, 570.3, 523.1, 562.2, 583.0,\n",
       "       569.8, 558.1, 578.9, 572.4, 595.95, 594.8], dtype=object)"
      ]
     },
     "execution_count": 143,
     "metadata": {},
     "output_type": "execute_result"
    }
   ],
   "source": [
    "data_y_origin = data_origin[:,1]\n",
    "data_y_origin"
   ]
  },
  {
   "cell_type": "code",
   "execution_count": 109,
   "metadata": {},
   "outputs": [
    {
     "name": "stdout",
     "output_type": "stream",
     "text": [
      "[[13.85668698 78.72 8370.22 4.12]\n",
      " [11.94129775 59.65 6500.82 3.35]\n",
      " [14.5553069 88.96 9308.57 4.78]\n",
      " [13.65654085 83.98 11643.56 5.41]\n",
      " [13.14379943 74.35 12869.06 5.34]\n",
      " [13.89728023 75.92 12733.27 5.51]\n",
      " [13.82012254 67.88 11748.24 5.27]\n",
      " [13.79591637 66.14 12081.19 5.31]\n",
      " [13.98148773 78.3 12520.21 5.73]\n",
      " [13.27588781 75.17 12379.76 5.3]\n",
      " [13.96807882 86.52 12547.31 5.24]\n",
      " [14.28233571 84.87 12328.41 5.06]\n",
      " [14.25003836 84.3 8268.01 5.07]\n",
      " [12.63311045 67.21 5958.28 4.69]\n",
      " [13.46243023 106.57 11322.94 5.85]\n",
      " [12.66591199 100.41 12488.42 6.03]\n",
      " [15.74872233 89.49 13198.24 7.13]\n",
      " [13.96355619 86.42 13181.24 5.89]\n",
      " [14.0412472 75.72 11943.23 5.4]\n",
      " [14.73483898 62.58 11985.87 5.31]\n",
      " [14.43095576 79.18 12422.85 5.11]\n",
      " [13.07001702 73.03 12309.27 5.0]\n",
      " [11.2565999 71.35 12679.63 4.35]\n",
      " [12.75663418 68.57 12527.17 3.81]\n",
      " [15.18040114 67.37 7580.12 3.41]\n",
      " [13.37540347 85.28 8289.98 4.08]\n",
      " [14.73297642 116.9 12206.74 5.41]\n",
      " [15.78046701 118.12 14677.55 5.53]\n",
      " [17.72041254 114.76 14888.43 5.47]\n",
      " [17.83488148 120.43 15759.93 5.99]\n",
      " [18.58404608 113.69 14486.98 5.3]\n",
      " [20.17703177 116.65 14975.2 5.24]\n",
      " [18.09534907 137.34 15630.78 5.47]\n",
      " [18.75590088 131.09 15635.07 5.27]\n",
      " [18.23257587 144.19 15095.85 5.81]\n",
      " [19.43319581 153.75 14498.48 5.38]\n",
      " [21.23330098 162.49 11520.47 4.55]\n",
      " [16.1386489 122.6 8377.5 3.8]\n",
      " [19.02165091 174.8 13598.7 5.2]\n",
      " [19.05428623 159.8 16114.5 5.9]\n",
      " [19.68678322 145.8 17357.6 6.2]\n",
      " [19.79838388 142.6 17448.3 6.6]\n",
      " [19.47129446 134.2 16492.2 6.3]\n",
      " [21.33109174 133.1 16780.4 6.8]\n",
      " [21.66244321 163.4 17045.8 6.6]\n",
      " [21.55903074 159.3 17029.7 6.6]\n",
      " [21.76134192 182.1 17658.4 7.1]\n",
      " [21.32224764 195.4 16966.2 7.1]\n",
      " [23.88102624 183.5 11614.95 5.58]\n",
      " [20.37005115 129.4 8814.1 4.4]\n",
      " [22.57014853 192.3 16455.6 6.7]\n",
      " [22.31149827 156.5 18555.6 7.2]\n",
      " [23.46213236 142.6 19628.3 8.1]\n",
      " [23.0468898 148.5 19794.5 8.4]\n",
      " [23.68748431 131.8 18307.7 8.4]\n",
      " [23.21969118 145.0 18242.9 7.9]\n",
      " [22.34132092 166.4 19031.3 7.6]\n",
      " [22.57994124 160.5 19062.7 7.0]\n",
      " [20.77764555 179.3 18806.0 6.7]\n",
      " [21.62859336 182.4 17508.3 6.5]\n",
      " [20.60581298 138.92 10174.14 4.85]\n",
      " [19.12035023 173.13 11414.22 6.36]\n",
      " [21.83852119 202.4 17927.7 6.9]\n",
      " [22.03478112 175.8 19666.2 6.4]\n",
      " [22.96754631 171.5 20510.9 6.5]\n",
      " [21.99876057 169.5 20716.5 7.4]\n",
      " [24.83276378 148.9 19117.0 5.9]\n",
      " [21.62148723 158.3 19555.2 5.6]\n",
      " [20.27768634 180.4 20966.3 7.6]\n",
      " [22.63204252 167.7 21005.8 6.2]\n",
      " [23.17493494 184.9 20107.6 6.8]\n",
      " [23.35720146 191.7 18179.7 6.8]\n",
      " [23.4494409 205.5 14232.7 6.4]\n",
      " [20.05551726 144.5 9496.5 5.3]\n",
      " [22.89831935 229.0 18697.6 6.4]\n",
      " [23.94298725 203.2 21487.8 6.5]\n",
      " [24.63203561 192.69 22426.73 6.93]\n",
      " [23.35155973 185.11 22753.7 6.73]\n",
      " [25.31567391 170.79 21182.24 6.07]\n",
      " [26.24082889 179.5 21483.39 6.2]\n",
      " [25.83558837 207.14 22505.32 6.34]\n",
      " [24.00818065 208.34 23253.73 6.12]\n",
      " [22.82075883 228.37 22371.42 6.16]\n",
      " [23.84022494 229.97 20529.5 6.61]]\n"
     ]
    }
   ],
   "source": [
    "data_x = np.delete(data_origin,1, axis = 1)\n",
    "print(data_x)"
   ]
  },
  {
   "cell_type": "code",
   "execution_count": 111,
   "metadata": {},
   "outputs": [],
   "source": [
    "# print(data_origin)"
   ]
  },
  {
   "cell_type": "code",
   "execution_count": 113,
   "metadata": {},
   "outputs": [],
   "source": [
    "# #Max-Min标准化\n",
    "# #建立MinMaxScaler对象\n",
    "scaler = preprocessing.MinMaxScaler()\n",
    "\n",
    "# # 标准化处理\n",
    "# scaler = preprocessing.StandardScaler()\n",
    "\n",
    "data_x = scaler.fit_transform(data_x)\n",
    "data_y = scaler.fit_transform(data_y.reshape(-1, 1))"
   ]
  },
  {
   "cell_type": "code",
   "execution_count": 6,
   "metadata": {},
   "outputs": [],
   "source": [
    "# n = 0\n",
    "# for i in range(data.shape[0]):\n",
    "#     if data[i,0]<0:\n",
    "#         n=n+1\n",
    "# print(n)"
   ]
  },
  {
   "cell_type": "code",
   "execution_count": 114,
   "metadata": {},
   "outputs": [
    {
     "name": "stdout",
     "output_type": "stream",
     "text": [
      "(84, 4)\n",
      "(84, 1)\n"
     ]
    }
   ],
   "source": [
    "print(data_x.shape)\n",
    "print(data_y.shape)"
   ]
  },
  {
   "cell_type": "code",
   "execution_count": 115,
   "metadata": {},
   "outputs": [],
   "source": [
    "# data.shape"
   ]
  },
  {
   "cell_type": "code",
   "execution_count": 116,
   "metadata": {},
   "outputs": [],
   "source": [
    "# data_x = data[:,0]"
   ]
  },
  {
   "cell_type": "code",
   "execution_count": 117,
   "metadata": {},
   "outputs": [],
   "source": [
    "# data_y = data[:,1]"
   ]
  },
  {
   "cell_type": "code",
   "execution_count": 118,
   "metadata": {},
   "outputs": [],
   "source": [
    "# data_y = data[-146:,:]\n",
    "# print(data_y.shape)"
   ]
  },
  {
   "cell_type": "code",
   "execution_count": 119,
   "metadata": {},
   "outputs": [],
   "source": [
    "# data_x = []\n",
    "# for r in range(146):\n",
    "#     for c in range(12):\n",
    "#         item = []\n",
    "#         item.append(data[r+c, 0])\n",
    "#         data_x.append(item)\n",
    "# data_x = np.array(data_x)\n",
    "# print(data_x)\n",
    "# print(data_x.shape)"
   ]
  },
  {
   "cell_type": "code",
   "execution_count": 120,
   "metadata": {},
   "outputs": [],
   "source": [
    "# data_x=data_x.reshape(84,1,1)"
   ]
  },
  {
   "cell_type": "code",
   "execution_count": 121,
   "metadata": {},
   "outputs": [],
   "source": [
    "# data_x.shape"
   ]
  },
  {
   "cell_type": "code",
   "execution_count": 122,
   "metadata": {
    "scrolled": true
   },
   "outputs": [],
   "source": [
    "# data_x"
   ]
  },
  {
   "cell_type": "code",
   "execution_count": 123,
   "metadata": {},
   "outputs": [],
   "source": [
    "# data_y = data_y.reshape(84,1,1)"
   ]
  },
  {
   "cell_type": "code",
   "execution_count": 124,
   "metadata": {},
   "outputs": [],
   "source": [
    "data_x_train = data_x[:70,:]\n",
    "data_y_train = data_y[:70,:]\n",
    "\n",
    "data_x_test = data_x[-14:,:]\n",
    "data_y_test = data_y[-14:,:]"
   ]
  },
  {
   "cell_type": "code",
   "execution_count": 125,
   "metadata": {},
   "outputs": [
    {
     "name": "stdout",
     "output_type": "stream",
     "text": [
      "(70, 4)\n",
      "(70, 1)\n",
      "(14, 4)\n",
      "(14, 1)\n"
     ]
    }
   ],
   "source": [
    "print(data_x_train.shape)\n",
    "print(data_y_train.shape)\n",
    "print(data_x_test.shape)\n",
    "print(data_y_test.shape)"
   ]
  },
  {
   "cell_type": "code",
   "execution_count": 126,
   "metadata": {},
   "outputs": [],
   "source": [
    "from sklearn.model_selection import train_test_split"
   ]
  },
  {
   "cell_type": "code",
   "execution_count": 127,
   "metadata": {},
   "outputs": [
    {
     "name": "stdout",
     "output_type": "stream",
     "text": [
      "(56, 4)\n",
      "(56, 1)\n",
      "(14, 4)\n",
      "(14, 1)\n"
     ]
    }
   ],
   "source": [
    "X_train, X_test, Y_train, Y_test = train_test_split(data_x_train, data_y_train, test_size=0.2, random_state=520)\n",
    "print(X_train.shape)\n",
    "print(Y_train.shape)\n",
    "print(X_test.shape)\n",
    "print(Y_test.shape)"
   ]
  },
  {
   "cell_type": "code",
   "execution_count": 18,
   "metadata": {},
   "outputs": [],
   "source": [
    "\n",
    "#     model = Sequential()\n",
    " \n",
    "#     model.add(LSTM(input_dim=10,output_dim=128,return_sequences=True))\n",
    "#     model.add(Dropout(0.1))\n",
    " \n",
    "#     model.add(LSTM(128,return_sequences=False))\n",
    "#     model.add(Dropout(0.1))\n",
    " \n",
    "#     model.add(Dense(output_dim=1))\n",
    "#     model.add(Activation(\"linear\"))\n",
    " \n",
    "#     model.compile(loss=\"mse\", optimizer=\"rmsprop\")"
   ]
  },
  {
   "cell_type": "code",
   "execution_count": 19,
   "metadata": {},
   "outputs": [],
   "source": [
    "# model = Sequential()\n",
    "\n",
    "# model.add(LSTM(output_dim=128, \n",
    "#                 input_shape=(10, 1),\n",
    "#                 activation='relu',\n",
    "#                 return_sequences=True))\n",
    "# for i in range(6):\n",
    "#     model.add(LSTM(output_dim=128,\n",
    "#                     activation='tanh',\n",
    "#                     return_sequences=True))\n",
    "# #     model.add(Dropout(0.1))\n",
    "\n",
    "# model.add(LSTM(output_dim=1,\n",
    "#                activation='linear',\n",
    "#                return_sequences=False))\n",
    "\n",
    "# model.compile(loss='mse', optimizer='adam', metrics=[metrics.mse])\n",
    "# model.summary()"
   ]
  },
  {
   "cell_type": "code",
   "execution_count": 20,
   "metadata": {},
   "outputs": [],
   "source": [
    "# def create_model(output_dim1, num_layer, output_dim2):\n",
    "#     model = Sequential()\n",
    "\n",
    "#     model.add(LSTM(output_dim=output_dim1, \n",
    "#                 input_shape=(1, 1),\n",
    "#                 activation='relu',\n",
    "#                 return_sequences=True))\n",
    "#     for i in range(num_layer):\n",
    "#         model.add(LSTM(output_dim=output_dim2,\n",
    "#                         activation='tanh',\n",
    "#                         return_sequences=True))\n",
    "# #     model.add(Dropout(0.1))\n",
    "\n",
    "#     model.add(LSTM(output_dim=1,\n",
    "#                activation='tanh',\n",
    "#                 return_sequences=False))\n",
    "\n",
    "#     model.compile(loss='mse', optimizer='adam', metrics=[metrics.mse])\n",
    "# #     model.summary()\n",
    "#     return model"
   ]
  },
  {
   "cell_type": "code",
   "execution_count": 21,
   "metadata": {},
   "outputs": [],
   "source": [
    "# from sklearn.model_selection import RandomizedSearchCV\n",
    "# from skopt.space import Real, Categorical, Integer\n",
    "# from keras.wrappers.scikit_learn import KerasRegressor\n",
    "# # from sklearn.model_selection import train_test_split"
   ]
  },
  {
   "cell_type": "code",
   "execution_count": 22,
   "metadata": {},
   "outputs": [],
   "source": [
    "# #采用暴力搜索，所有参数进行组合，然后选择最好的参数\n",
    "# tuned_parameters=[{'output_dim1':Integer(28, 128),\n",
    "#                    'num_layer':Integer(3,12),\n",
    "#                    'output_dim2':Integer(28, 128)}]\n",
    "# # 'output_dim1':Integer(28, 128),\n",
    "# #             'num_layer':Integer(3,12),\n",
    "# #             'output_dim2':Integer(28, 128)"
   ]
  },
  {
   "cell_type": "code",
   "execution_count": 23,
   "metadata": {},
   "outputs": [],
   "source": [
    "# train_x, test_x, train_y, test_y = train_test_split(data_x, data_y, train_size=0.80, random_state=0)"
   ]
  },
  {
   "cell_type": "code",
   "execution_count": 24,
   "metadata": {},
   "outputs": [],
   "source": [
    "# model=KerasRegressor(build_fn=create_model)"
   ]
  },
  {
   "cell_type": "code",
   "execution_count": 25,
   "metadata": {
    "scrolled": true
   },
   "outputs": [],
   "source": [
    "# #采用随机搜索，给参数一个范围，然后系统随机选择参数，进行检验，然后选择最好的\n",
    "# tuned_parameters={'output_dim1':[28, 64, 96,128],\n",
    "#                    'num_layer':[4,5,6,7,8],\n",
    "#                    'output_dim2':[28,64, 96,128]}\n",
    "\n",
    "# lstm=RandomizedSearchCV(model,tuned_parameters,scoring='neg_mean_squared_error',n_iter=10)\n",
    " \n",
    "# lstm.fit(data_x_train,data_y_train)"
   ]
  },
  {
   "cell_type": "code",
   "execution_count": 26,
   "metadata": {},
   "outputs": [],
   "source": [
    "# print('最优训练器:',lstm.best_estimator_)\n",
    "# print('最优训练器的精度:',lstm.best_score_)"
   ]
  },
  {
   "cell_type": "code",
   "execution_count": 27,
   "metadata": {},
   "outputs": [],
   "source": [
    "# best_estimator_ = lstm.best_estimator_"
   ]
  },
  {
   "cell_type": "code",
   "execution_count": 28,
   "metadata": {},
   "outputs": [],
   "source": [
    "# best_estimator_.predict(data_x_test,batch_size = 1)"
   ]
  },
  {
   "cell_type": "code",
   "execution_count": null,
   "metadata": {},
   "outputs": [],
   "source": []
  },
  {
   "cell_type": "code",
   "execution_count": null,
   "metadata": {},
   "outputs": [],
   "source": []
  },
  {
   "cell_type": "code",
   "execution_count": null,
   "metadata": {},
   "outputs": [],
   "source": []
  },
  {
   "cell_type": "code",
   "execution_count": null,
   "metadata": {},
   "outputs": [],
   "source": []
  },
  {
   "cell_type": "code",
   "execution_count": null,
   "metadata": {},
   "outputs": [],
   "source": []
  },
  {
   "cell_type": "code",
   "execution_count": 29,
   "metadata": {},
   "outputs": [],
   "source": [
    "# import sklearn\n",
    "# sorted(sklearn.metrics.SCORERS.keys())"
   ]
  },
  {
   "cell_type": "code",
   "execution_count": null,
   "metadata": {},
   "outputs": [],
   "source": []
  },
  {
   "cell_type": "code",
   "execution_count": 30,
   "metadata": {},
   "outputs": [],
   "source": [
    "# from sklearn.model_selection import train_test_split\n",
    "# from skopt import BayesSearchCV\n",
    "# from skopt.space import Real, Categorical, Integer"
   ]
  },
  {
   "cell_type": "code",
   "execution_count": 31,
   "metadata": {},
   "outputs": [],
   "source": [
    "# class FixedBayesSearchCV(BayesSearchCV):\n",
    "#     \"\"\"\n",
    "#     Dirty hack to avoid compatibility issues with sklearn 0.2 and skopt.\n",
    "#     Credit: https://www.kaggle.com/c/home-credit-default-risk/discussion/64004\n",
    "#     For context, on why the workaround see:\n",
    "#         - https://github.com/scikit-optimize/scikit-optimize/issues/718\n",
    "#         - https://github.com/scikit-optimize/scikit-optimize/issues/762\n",
    "#     \"\"\"\n",
    "#     def __init__(self, estimator, search_spaces, optimizer_kwargs=None,\n",
    "#                 n_iter=50, scoring=None, fit_params=None, n_jobs=1,\n",
    "#                 n_points=1, iid=True, refit=True, cv=None, verbose=0,\n",
    "#                 pre_dispatch='2*n_jobs', random_state=None,\n",
    "#                 error_score='raise', return_train_score=False):\n",
    "#         \"\"\"\n",
    "#         See: https://github.com/scikit-optimize/scikit-optimize/issues/762#issuecomment-493689266\n",
    "#         \"\"\"\n",
    " \n",
    "#         # Bug fix: Added this line\n",
    "#         self.fit_params = fit_params\n",
    " \n",
    "#         self.search_spaces = search_spaces\n",
    "#         self.n_iter = n_iter\n",
    "#         self.n_points = n_points\n",
    "#         self.random_state = random_state\n",
    "#         self.optimizer_kwargs = optimizer_kwargs\n",
    "#         self._check_search_space(self.search_spaces)\n",
    " \n",
    "#         # Removed the passing of fit_params to the parent class.\n",
    "#         super(BayesSearchCV, self).__init__(\n",
    "#                 estimator=estimator, scoring=scoring, n_jobs=n_jobs, iid=iid,\n",
    "#                 refit=refit, cv=cv, verbose=verbose, pre_dispatch=pre_dispatch,\n",
    "#                 error_score=error_score, return_train_score=return_train_score)\n",
    " \n",
    "#     def _run_search(self, x):\n",
    "#         raise BaseException('Use newer skopt')"
   ]
  },
  {
   "cell_type": "code",
   "execution_count": 32,
   "metadata": {},
   "outputs": [],
   "source": [
    "# def lstm_auto_para_tuning_bayesian(model,data_x,data_y):\n",
    "#     train_x, test_x, train_y, test_y = train_test_split(data_x, data_y, train_size=0.80, random_state=0)\n",
    "#     # cv：交叉验证 n_points：并行采样的超参组数\n",
    "# #     model=KerasRegressor(build_fn=create_model)\n",
    "#     opt = FixedBayesSearchCV(model,cv=5,n_points=2,n_jobs=4,verbose=1,\n",
    "#         search_spaces={\n",
    "#             'output_dim1':Integer(12, 48),\n",
    "#             'num_layer':Integer(3,12),\n",
    "#             'output_dim2':Integer(12, 48)\n",
    "#         },\n",
    "#          fit_params={\n",
    "#                  'eval_set':[(test_x[:,0,0], test_y[:,0,0])],\n",
    "#                  'eval_metric': 'mse',\n",
    "#                  'early_stopping_rounds': 50\n",
    "#                  })\n",
    "#     opt.fit(train_x,train_y)\n",
    "#     print(\"val. score: %s\" % opt.best_score_)\n",
    "#     print(\"test score: %s\" % opt.score(test_x, test_y))\n",
    "#     print(\"Best parameters: \", opt.best_params_)\n",
    "#     print(\"Best estimator:\", opt.best_estimator_)"
   ]
  },
  {
   "cell_type": "code",
   "execution_count": 33,
   "metadata": {},
   "outputs": [],
   "source": [
    "# model=KerasRegressor(build_fn=create_model)"
   ]
  },
  {
   "cell_type": "code",
   "execution_count": 34,
   "metadata": {},
   "outputs": [],
   "source": [
    "# lstm_auto_para_tuning_bayesian(model,data_x,data_y)"
   ]
  },
  {
   "cell_type": "code",
   "execution_count": null,
   "metadata": {},
   "outputs": [],
   "source": []
  },
  {
   "cell_type": "code",
   "execution_count": 35,
   "metadata": {},
   "outputs": [
    {
     "name": "stdout",
     "output_type": "stream",
     "text": [
      "WARNING:tensorflow:From e:\\envs\\python36env\\lib\\site-packages\\tensorflow\\python\\framework\\op_def_library.py:263: colocate_with (from tensorflow.python.framework.ops) is deprecated and will be removed in a future version.\n",
      "Instructions for updating:\n",
      "Colocations handled automatically by placer.\n"
     ]
    },
    {
     "name": "stderr",
     "output_type": "stream",
     "text": [
      "e:\\envs\\python36env\\lib\\site-packages\\ipykernel_launcher.py:7: UserWarning: Update your `LSTM` call to the Keras 2 API: `LSTM(input_shape=(1, 1), activation=\"relu\", return_sequences=True, units=24)`\n",
      "  import sys\n",
      "e:\\envs\\python36env\\lib\\site-packages\\ipykernel_launcher.py:11: UserWarning: Update your `LSTM` call to the Keras 2 API: `LSTM(activation=\"tanh\", return_sequences=True, units=24)`\n",
      "  # This is added back by InteractiveShellApp.init_path()\n",
      "e:\\envs\\python36env\\lib\\site-packages\\ipykernel_launcher.py:16: UserWarning: Update your `LSTM` call to the Keras 2 API: `LSTM(activation=\"tanh\", return_sequences=False, units=1)`\n",
      "  app.launch_new_instance()\n"
     ]
    }
   ],
   "source": [
    "# model = create_model(24, 4, 24)"
   ]
  },
  {
   "cell_type": "code",
   "execution_count": 36,
   "metadata": {},
   "outputs": [],
   "source": [
    "# lstm_auto_para_tuning_bayesian(model,data_x,data_y)"
   ]
  },
  {
   "cell_type": "code",
   "execution_count": 154,
   "metadata": {},
   "outputs": [
    {
     "data": {
      "text/plain": [
       "<keras.callbacks.History at 0x145d753def0>"
      ]
     },
     "execution_count": 154,
     "metadata": {},
     "output_type": "execute_result"
    }
   ],
   "source": [
    "model = Sequential()\n",
    "model.add(Dense(4, activation='relu',input_shape=(X_train.shape[1],)))\n",
    "model.add(Dense(6, activation='relu'))\n",
    "model.add(Dense(1,activation='sigmoid'))\n",
    "model.compile(optimizer = 'sgd',# 还可以通过optimizer = optimizers.RMSprop(lr=0.001)来为优化器指定参数.optimizer='rmsprop'\n",
    "              loss='mean_squared_error', # 等价于loss = losses.binary_crossentropy\n",
    "              metrics=['accuracy']) # 等价于metrics = [metircs.binary_accuracy]\n",
    "model.fit(X_train, Y_train,epochs=80, batch_size=20, verbose=0, validation_data=(X_test,Y_test))"
   ]
  },
  {
   "cell_type": "code",
   "execution_count": 155,
   "metadata": {},
   "outputs": [
    {
     "name": "stdout",
     "output_type": "stream",
     "text": [
      "\r",
      "14/14 [==============================] - 0s 71us/step\n"
     ]
    },
    {
     "data": {
      "text/plain": [
       "[0.07816202193498611, 0.0714285746216774]"
      ]
     },
     "execution_count": 155,
     "metadata": {},
     "output_type": "execute_result"
    }
   ],
   "source": [
    "model.evaluate(X_test,Y_test)"
   ]
  },
  {
   "cell_type": "code",
   "execution_count": null,
   "metadata": {},
   "outputs": [],
   "source": []
  },
  {
   "cell_type": "code",
   "execution_count": 76,
   "metadata": {
    "scrolled": false
   },
   "outputs": [],
   "source": [
    "# model.fit(data_x_train, data_y_train, epochs=20, batch_size=20, verbose=1)"
   ]
  },
  {
   "cell_type": "code",
   "execution_count": 156,
   "metadata": {},
   "outputs": [
    {
     "name": "stdout",
     "output_type": "stream",
     "text": [
      "14/14 [==============================] - 0s 72us/step\n",
      "\n",
      "test loss 0.07816\n",
      "accuracy 0.07143\n"
     ]
    }
   ],
   "source": [
    "# 评估模型,不输出预测结果\n",
    "loss,accuracy = model.evaluate(X_test,Y_test)\n",
    "print('\\ntest loss','{:.5f}'.format(loss))\n",
    "print('accuracy','{:.5f}'.format(accuracy))"
   ]
  },
  {
   "cell_type": "code",
   "execution_count": 157,
   "metadata": {},
   "outputs": [],
   "source": [
    "y_pred = model.predict(data_x_test,batch_size = 1)"
   ]
  },
  {
   "cell_type": "code",
   "execution_count": 158,
   "metadata": {},
   "outputs": [
    {
     "data": {
      "text/plain": [
       "array([[0.5394414 ],\n",
       "       [0.54390645],\n",
       "       [0.5470811 ],\n",
       "       [0.5117288 ],\n",
       "       [0.55145466],\n",
       "       [0.540781  ],\n",
       "       [0.5423729 ],\n",
       "       [0.5359737 ],\n",
       "       [0.5228757 ],\n",
       "       [0.52800155],\n",
       "       [0.5393841 ],\n",
       "       [0.53545654],\n",
       "       [0.544151  ],\n",
       "       [0.5533332 ]], dtype=float32)"
      ]
     },
     "execution_count": 158,
     "metadata": {},
     "output_type": "execute_result"
    }
   ],
   "source": [
    "y_pred"
   ]
  },
  {
   "cell_type": "code",
   "execution_count": 41,
   "metadata": {},
   "outputs": [],
   "source": [
    "# data_y_test[-10:,0]"
   ]
  },
  {
   "cell_type": "code",
   "execution_count": 42,
   "metadata": {},
   "outputs": [],
   "source": [
    "# data_x_test[-10:,0,-1]"
   ]
  },
  {
   "cell_type": "code",
   "execution_count": 43,
   "metadata": {},
   "outputs": [],
   "source": [
    "# t = []\n",
    "# for i in range(2000):\n",
    "#     if data_y_test[:,0][i]>data_x_test[:,0,-1][i]:\n",
    "#         t.append(1)\n",
    "#     else:\n",
    "#         t.append(0)\n",
    "# len(t)"
   ]
  },
  {
   "cell_type": "code",
   "execution_count": 44,
   "metadata": {},
   "outputs": [],
   "source": [
    "# p = []\n",
    "# for i in range(2000):\n",
    "#     if y_pred[:,0][i]>data_x_test[:,0,-1][i]:\n",
    "#         p.append(1)\n",
    "#     else:\n",
    "#         p.append(0)\n",
    "# len(p)"
   ]
  },
  {
   "cell_type": "code",
   "execution_count": 45,
   "metadata": {},
   "outputs": [],
   "source": [
    "# n = 0\n",
    "# for i in range(2000):\n",
    "#     if t[i]==p[i]:\n",
    "#         n=n+1\n",
    "# n/2000"
   ]
  },
  {
   "cell_type": "code",
   "execution_count": 46,
   "metadata": {},
   "outputs": [],
   "source": [
    "# data.shape"
   ]
  },
  {
   "cell_type": "code",
   "execution_count": 144,
   "metadata": {},
   "outputs": [],
   "source": [
    "data_y_max = np.max(data_y_origin)"
   ]
  },
  {
   "cell_type": "code",
   "execution_count": 145,
   "metadata": {},
   "outputs": [],
   "source": [
    "data_y_min = np.min(data_y_origin)"
   ]
  },
  {
   "cell_type": "code",
   "execution_count": 146,
   "metadata": {},
   "outputs": [
    {
     "data": {
      "text/plain": [
       "595.95"
      ]
     },
     "execution_count": 146,
     "metadata": {},
     "output_type": "execute_result"
    }
   ],
   "source": [
    "data_y_max"
   ]
  },
  {
   "cell_type": "code",
   "execution_count": 147,
   "metadata": {},
   "outputs": [
    {
     "data": {
      "text/plain": [
       "307.96"
      ]
     },
     "execution_count": 147,
     "metadata": {},
     "output_type": "execute_result"
    }
   ],
   "source": [
    "data_y_min "
   ]
  },
  {
   "cell_type": "code",
   "execution_count": 148,
   "metadata": {},
   "outputs": [],
   "source": [
    "y_test_origin = data_origin[-14:,1]"
   ]
  },
  {
   "cell_type": "code",
   "execution_count": 149,
   "metadata": {},
   "outputs": [
    {
     "data": {
      "text/plain": [
       "array([501.2, 543.1, 531.1, 509.5, 570.3, 523.1, 562.2, 583.0, 569.8,\n",
       "       558.1, 578.9, 572.4, 595.95, 594.8], dtype=object)"
      ]
     },
     "execution_count": 149,
     "metadata": {},
     "output_type": "execute_result"
    }
   ],
   "source": [
    "y_test_origin"
   ]
  },
  {
   "cell_type": "code",
   "execution_count": 150,
   "metadata": {},
   "outputs": [],
   "source": [
    "y_pred_to_origin = []\n",
    "for i in y_pred:\n",
    "    y = i*(data_y_max - data_y_min) + data_y_min\n",
    "    y_pred_to_origin.append(y)"
   ]
  },
  {
   "cell_type": "code",
   "execution_count": 151,
   "metadata": {},
   "outputs": [
    {
     "data": {
      "text/plain": [
       "[array([474.10693], dtype=float32),\n",
       " array([470.93274], dtype=float32),\n",
       " array([464.5332], dtype=float32),\n",
       " array([426.76337], dtype=float32),\n",
       " array([474.70056], dtype=float32),\n",
       " array([480.66336], dtype=float32),\n",
       " array([481.17557], dtype=float32),\n",
       " array([479.72363], dtype=float32),\n",
       " array([484.37314], dtype=float32),\n",
       " array([486.55176], dtype=float32),\n",
       " array([487.6755], dtype=float32),\n",
       " array([486.21002], dtype=float32),\n",
       " array([482.4904], dtype=float32),\n",
       " array([479.04443], dtype=float32)]"
      ]
     },
     "execution_count": 151,
     "metadata": {},
     "output_type": "execute_result"
    }
   ],
   "source": [
    "y_pred_to_origin"
   ]
  },
  {
   "cell_type": "code",
   "execution_count": null,
   "metadata": {},
   "outputs": [],
   "source": []
  },
  {
   "cell_type": "code",
   "execution_count": null,
   "metadata": {},
   "outputs": [],
   "source": []
  }
 ],
 "metadata": {
  "kernelspec": {
   "display_name": "Python 3",
   "language": "python",
   "name": "python3"
  },
  "language_info": {
   "codemirror_mode": {
    "name": "ipython",
    "version": 3
   },
   "file_extension": ".py",
   "mimetype": "text/x-python",
   "name": "python",
   "nbconvert_exporter": "python",
   "pygments_lexer": "ipython3",
   "version": "3.6.5"
  }
 },
 "nbformat": 4,
 "nbformat_minor": 4
}
