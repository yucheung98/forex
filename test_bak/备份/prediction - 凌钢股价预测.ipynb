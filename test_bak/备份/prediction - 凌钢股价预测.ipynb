{
 "cells": [
  {
   "cell_type": "code",
   "execution_count": 1,
   "metadata": {
    "scrolled": false
   },
   "outputs": [
    {
     "name": "stderr",
     "output_type": "stream",
     "text": [
      "Using TensorFlow backend.\n",
      "e:\\envs\\python36env\\lib\\site-packages\\tensorflow\\python\\framework\\dtypes.py:526: FutureWarning: Passing (type, 1) or '1type' as a synonym of type is deprecated; in a future version of numpy, it will be understood as (type, (1,)) / '(1,)type'.\n",
      "  _np_qint8 = np.dtype([(\"qint8\", np.int8, 1)])\n",
      "e:\\envs\\python36env\\lib\\site-packages\\tensorflow\\python\\framework\\dtypes.py:527: FutureWarning: Passing (type, 1) or '1type' as a synonym of type is deprecated; in a future version of numpy, it will be understood as (type, (1,)) / '(1,)type'.\n",
      "  _np_quint8 = np.dtype([(\"quint8\", np.uint8, 1)])\n",
      "e:\\envs\\python36env\\lib\\site-packages\\tensorflow\\python\\framework\\dtypes.py:528: FutureWarning: Passing (type, 1) or '1type' as a synonym of type is deprecated; in a future version of numpy, it will be understood as (type, (1,)) / '(1,)type'.\n",
      "  _np_qint16 = np.dtype([(\"qint16\", np.int16, 1)])\n",
      "e:\\envs\\python36env\\lib\\site-packages\\tensorflow\\python\\framework\\dtypes.py:529: FutureWarning: Passing (type, 1) or '1type' as a synonym of type is deprecated; in a future version of numpy, it will be understood as (type, (1,)) / '(1,)type'.\n",
      "  _np_quint16 = np.dtype([(\"quint16\", np.uint16, 1)])\n",
      "e:\\envs\\python36env\\lib\\site-packages\\tensorflow\\python\\framework\\dtypes.py:530: FutureWarning: Passing (type, 1) or '1type' as a synonym of type is deprecated; in a future version of numpy, it will be understood as (type, (1,)) / '(1,)type'.\n",
      "  _np_qint32 = np.dtype([(\"qint32\", np.int32, 1)])\n",
      "e:\\envs\\python36env\\lib\\site-packages\\tensorflow\\python\\framework\\dtypes.py:535: FutureWarning: Passing (type, 1) or '1type' as a synonym of type is deprecated; in a future version of numpy, it will be understood as (type, (1,)) / '(1,)type'.\n",
      "  np_resource = np.dtype([(\"resource\", np.ubyte, 1)])\n"
     ]
    }
   ],
   "source": [
    "import numpy as np \n",
    "import pandas as pd \n",
    "import matplotlib.pyplot as plt \n",
    "from sklearn import preprocessing\n",
    "from keras.layers.core import Dense, Activation, Dropout\n",
    "from keras.layers.recurrent import LSTM\n",
    "from keras.models import Sequential\n",
    "from keras import metrics"
   ]
  },
  {
   "cell_type": "code",
   "execution_count": 2,
   "metadata": {},
   "outputs": [],
   "source": [
    "data_xls = pd.read_excel('辽宁钢铁行业月用电量.xls')"
   ]
  },
  {
   "cell_type": "code",
   "execution_count": 3,
   "metadata": {},
   "outputs": [
    {
     "data": {
      "text/html": [
       "<div>\n",
       "<style scoped>\n",
       "    .dataframe tbody tr th:only-of-type {\n",
       "        vertical-align: middle;\n",
       "    }\n",
       "\n",
       "    .dataframe tbody tr th {\n",
       "        vertical-align: top;\n",
       "    }\n",
       "\n",
       "    .dataframe thead th {\n",
       "        text-align: right;\n",
       "    }\n",
       "</style>\n",
       "<table border=\"1\" class=\"dataframe\">\n",
       "  <thead>\n",
       "    <tr style=\"text-align: right;\">\n",
       "      <th></th>\n",
       "      <th>月份</th>\n",
       "      <th>辽宁钢铁行业月用电量（亿千万时）</th>\n",
       "      <th>钢铁产量</th>\n",
       "      <th>汽车产量</th>\n",
       "      <th>水泥产量</th>\n",
       "      <th>金属切削机床</th>\n",
       "      <th>大中型拖拉机</th>\n",
       "      <th>鞍钢股价</th>\n",
       "      <th>本钢股价</th>\n",
       "      <th>凌钢股价</th>\n",
       "    </tr>\n",
       "  </thead>\n",
       "  <tbody>\n",
       "    <tr>\n",
       "      <th>0</th>\n",
       "      <td>2007M01</td>\n",
       "      <td>13.856687</td>\n",
       "      <td>354.62</td>\n",
       "      <td>78.72</td>\n",
       "      <td>8370.22</td>\n",
       "      <td>4.12</td>\n",
       "      <td>14440.0</td>\n",
       "      <td>12.95</td>\n",
       "      <td>6.50</td>\n",
       "      <td>6.10</td>\n",
       "    </tr>\n",
       "    <tr>\n",
       "      <th>1</th>\n",
       "      <td>2007M02</td>\n",
       "      <td>11.941298</td>\n",
       "      <td>318.87</td>\n",
       "      <td>59.65</td>\n",
       "      <td>6500.82</td>\n",
       "      <td>3.35</td>\n",
       "      <td>13941.0</td>\n",
       "      <td>12.87</td>\n",
       "      <td>8.09</td>\n",
       "      <td>7.58</td>\n",
       "    </tr>\n",
       "    <tr>\n",
       "      <th>2</th>\n",
       "      <td>2007M03</td>\n",
       "      <td>14.555307</td>\n",
       "      <td>368.91</td>\n",
       "      <td>88.96</td>\n",
       "      <td>9308.57</td>\n",
       "      <td>4.78</td>\n",
       "      <td>26231.0</td>\n",
       "      <td>14.57</td>\n",
       "      <td>8.55</td>\n",
       "      <td>8.28</td>\n",
       "    </tr>\n",
       "    <tr>\n",
       "      <th>3</th>\n",
       "      <td>2007M04</td>\n",
       "      <td>13.656541</td>\n",
       "      <td>366.22</td>\n",
       "      <td>83.98</td>\n",
       "      <td>11643.56</td>\n",
       "      <td>5.41</td>\n",
       "      <td>22263.0</td>\n",
       "      <td>17.64</td>\n",
       "      <td>13.35</td>\n",
       "      <td>11.03</td>\n",
       "    </tr>\n",
       "    <tr>\n",
       "      <th>4</th>\n",
       "      <td>2007M05</td>\n",
       "      <td>13.143799</td>\n",
       "      <td>374.81</td>\n",
       "      <td>74.35</td>\n",
       "      <td>12869.06</td>\n",
       "      <td>5.34</td>\n",
       "      <td>14824.0</td>\n",
       "      <td>18.34</td>\n",
       "      <td>13.89</td>\n",
       "      <td>10.44</td>\n",
       "    </tr>\n",
       "    <tr>\n",
       "      <th>...</th>\n",
       "      <td>...</td>\n",
       "      <td>...</td>\n",
       "      <td>...</td>\n",
       "      <td>...</td>\n",
       "      <td>...</td>\n",
       "      <td>...</td>\n",
       "      <td>...</td>\n",
       "      <td>...</td>\n",
       "      <td>...</td>\n",
       "      <td>...</td>\n",
       "    </tr>\n",
       "    <tr>\n",
       "      <th>153</th>\n",
       "      <td>2019M10</td>\n",
       "      <td>19.591677</td>\n",
       "      <td>609.31</td>\n",
       "      <td>NaN</td>\n",
       "      <td>NaN</td>\n",
       "      <td>NaN</td>\n",
       "      <td>NaN</td>\n",
       "      <td>NaN</td>\n",
       "      <td>NaN</td>\n",
       "      <td>NaN</td>\n",
       "    </tr>\n",
       "    <tr>\n",
       "      <th>154</th>\n",
       "      <td>2019M11</td>\n",
       "      <td>21.042283</td>\n",
       "      <td>630.76</td>\n",
       "      <td>NaN</td>\n",
       "      <td>NaN</td>\n",
       "      <td>NaN</td>\n",
       "      <td>NaN</td>\n",
       "      <td>NaN</td>\n",
       "      <td>NaN</td>\n",
       "      <td>NaN</td>\n",
       "    </tr>\n",
       "    <tr>\n",
       "      <th>155</th>\n",
       "      <td>2019M12</td>\n",
       "      <td>21.137609</td>\n",
       "      <td>648.00</td>\n",
       "      <td>NaN</td>\n",
       "      <td>NaN</td>\n",
       "      <td>NaN</td>\n",
       "      <td>NaN</td>\n",
       "      <td>NaN</td>\n",
       "      <td>NaN</td>\n",
       "      <td>NaN</td>\n",
       "    </tr>\n",
       "    <tr>\n",
       "      <th>156</th>\n",
       "      <td>2020M01</td>\n",
       "      <td>22.502425</td>\n",
       "      <td>621.00</td>\n",
       "      <td>NaN</td>\n",
       "      <td>NaN</td>\n",
       "      <td>NaN</td>\n",
       "      <td>NaN</td>\n",
       "      <td>NaN</td>\n",
       "      <td>NaN</td>\n",
       "      <td>NaN</td>\n",
       "    </tr>\n",
       "    <tr>\n",
       "      <th>157</th>\n",
       "      <td>2020M02</td>\n",
       "      <td>19.675281</td>\n",
       "      <td>525.78</td>\n",
       "      <td>NaN</td>\n",
       "      <td>NaN</td>\n",
       "      <td>NaN</td>\n",
       "      <td>NaN</td>\n",
       "      <td>NaN</td>\n",
       "      <td>NaN</td>\n",
       "      <td>NaN</td>\n",
       "    </tr>\n",
       "  </tbody>\n",
       "</table>\n",
       "<p>158 rows × 10 columns</p>\n",
       "</div>"
      ],
      "text/plain": [
       "          月份  辽宁钢铁行业月用电量（亿千万时）    钢铁产量   汽车产量      水泥产量  金属切削机床   大中型拖拉机  \\\n",
       "0    2007M01         13.856687  354.62  78.72   8370.22    4.12  14440.0   \n",
       "1    2007M02         11.941298  318.87  59.65   6500.82    3.35  13941.0   \n",
       "2    2007M03         14.555307  368.91  88.96   9308.57    4.78  26231.0   \n",
       "3    2007M04         13.656541  366.22  83.98  11643.56    5.41  22263.0   \n",
       "4    2007M05         13.143799  374.81  74.35  12869.06    5.34  14824.0   \n",
       "..       ...               ...     ...    ...       ...     ...      ...   \n",
       "153  2019M10         19.591677  609.31    NaN       NaN     NaN      NaN   \n",
       "154  2019M11         21.042283  630.76    NaN       NaN     NaN      NaN   \n",
       "155  2019M12         21.137609  648.00    NaN       NaN     NaN      NaN   \n",
       "156  2020M01         22.502425  621.00    NaN       NaN     NaN      NaN   \n",
       "157  2020M02         19.675281  525.78    NaN       NaN     NaN      NaN   \n",
       "\n",
       "      鞍钢股价   本钢股价   凌钢股价  \n",
       "0    12.95   6.50   6.10  \n",
       "1    12.87   8.09   7.58  \n",
       "2    14.57   8.55   8.28  \n",
       "3    17.64  13.35  11.03  \n",
       "4    18.34  13.89  10.44  \n",
       "..     ...    ...    ...  \n",
       "153    NaN    NaN    NaN  \n",
       "154    NaN    NaN    NaN  \n",
       "155    NaN    NaN    NaN  \n",
       "156    NaN    NaN    NaN  \n",
       "157    NaN    NaN    NaN  \n",
       "\n",
       "[158 rows x 10 columns]"
      ]
     },
     "execution_count": 3,
     "metadata": {},
     "output_type": "execute_result"
    }
   ],
   "source": [
    "data_xls"
   ]
  },
  {
   "cell_type": "code",
   "execution_count": 4,
   "metadata": {},
   "outputs": [],
   "source": [
    "# data_xls.drop(['月份'，], axis=1, inplace=True)\n",
    "# data_xls"
   ]
  },
  {
   "cell_type": "code",
   "execution_count": 5,
   "metadata": {},
   "outputs": [
    {
     "name": "stdout",
     "output_type": "stream",
     "text": [
      "[['2007M01' 13.85668698 354.62 78.72 8370.22 4.12 14440.0 12.95 6.5 6.1]\n",
      " ['2007M02' 11.94129775 318.87 59.65 6500.82 3.35 13941.0 12.87 8.09 7.58]\n",
      " ['2007M03' 14.5553069 368.91 88.96 9308.57 4.78 26231.0 14.57 8.55 8.28]\n",
      " ['2007M04' 13.65654085 366.22 83.98 11643.56 5.41 22263.0 17.64 13.35\n",
      "  11.03]\n",
      " ['2007M05' 13.14379943 374.81 74.35 12869.06 5.34 14824.0 18.34 13.89\n",
      "  10.44]\n",
      " ['2007M06' 13.89728023 407.8 75.92 12733.27 5.51 12109.0 17.69 9.15 9.33]\n",
      " ['2007M07' 13.82012254 371.56 67.88 11748.24 5.27 15355.0 23.97 13.97\n",
      "  11.03]\n",
      " ['2007M08' 13.79591637 347.4 66.14 12081.19 5.31 17835.0 34.4 14.38 13.3]\n",
      " ['2007M09' 13.98148773 371.86 78.3 12520.21 5.73 21170.0 36.0 15.59\n",
      "  14.25]\n",
      " ['2007M10' 13.27588781 358.27 75.17 12379.76 5.3 13127.0 31.21 14.0\n",
      "  12.45]\n",
      " ['2007M11' 13.96807882 345.8 86.52 12547.31 5.24 11773.0 24.44 13.18\n",
      "  10.91]\n",
      " ['2007M12' 14.28233571 369.6 84.87 12328.41 5.06 17212.0 30.18 14.7\n",
      "  13.45]\n",
      " ['2008M01' 14.25003836 336.4 84.3 8268.01 5.07 19463.0 22.36 13.29 13.45]\n",
      " ['2008M02' 12.63311045 335.34 67.21 5958.28 4.69 16623.0 25.98 15.09\n",
      "  13.45]\n",
      " ['2008M03' 13.46243023 366.4 106.57 11322.94 5.85 29568.0 19.4 10.76\n",
      "  12.7]\n",
      " ['2008M04' 12.66591199 343.26 100.41 12488.42 6.03 35420.0 21.5 10.34\n",
      "  11.18]\n",
      " ['2008M05' 15.74872233 399.75 89.49 13198.24 7.13 29929.0 20.52 9.83\n",
      "  14.45]\n",
      " ['2008M06' 13.96355619 409.85 86.42 13181.24 5.89 18569.0 13.03 6.7\n",
      "  10.42]\n",
      " ['2008M07' 14.0412472 380.07 75.72 11943.23 5.4 17175.0 12.5 6.52 9.02]\n",
      " ['2008M08' 14.73483898 372.28 62.58 11985.87 5.31 18255.0 9.39 5.21 6.32]\n",
      " ['2008M09' 14.43095576 355.84 79.18 12422.85 5.11 20960.0 8.8 5.42 6.49]\n",
      " ['2008M10' 13.07001702 323.2 73.03 12309.27 5.0 12662.0 5.63 3.57 3.72]\n",
      " ['2008M11' 11.2565999 307.96 71.35 12679.63 4.35 9851.0 7.32 4.41 5.03]\n",
      " ['2008M12' 12.75663418 342.5 68.57 12527.17 3.81 13449.0 6.95 4.1 4.43]\n",
      " ['2009M01' 15.18040114 353.16 67.37 7580.12 3.41 17285.0 7.93 4.76 5.52]\n",
      " ['2009M02' 13.37540347 330.71 85.28 8289.98 4.08 23729.0 7.45 5.04 5.04]\n",
      " ['2009M03' 14.73297642 378.61 116.9 12206.74 5.41 42212.0 8.24 6.18 6.58]\n",
      " ['2009M04' 15.78046701 348.83 118.12 14677.55 5.53 54333.0 8.69 5.81\n",
      "  6.97]\n",
      " ['2009M05' 17.72041254 439.96 114.76 14888.43 5.47 38962.0 9.82 6.14\n",
      "  7.73]\n",
      " ['2009M06' 17.83488148 428.16 120.43 15759.93 5.99 25524.0 13.19 7.87\n",
      "  9.03]\n",
      " ['2009M07' 18.58404608 456.05 113.69 14486.98 5.3 24695.1 17.35 9.91\n",
      "  13.59]\n",
      " ['2009M08' 20.17703177 469.65 116.65 14975.2 5.24 27439.0 11.08 6.32\n",
      "  9.22]\n",
      " ['2009M09' 18.09534907 436.27 137.34 15630.78 5.47 29321.0 11.34 5.97\n",
      "  8.07]\n",
      " ['2009M10' 18.75590088 435.96 131.09 15635.07 5.27 19657.0 12.46 6.2\n",
      "  9.94]\n",
      " ['2009M11' 18.23257587 422.55 144.19 15095.85 5.81 23597.0 14.38 7.28\n",
      "  12.34]\n",
      " ['2009M12' 19.43319581 462.8 153.75 14498.48 5.38 33050.0 16.0 7.07\n",
      "  13.02]\n",
      " ['2010M01' 21.23330098 446.2 162.49 11520.47 4.55 37395.0 11.82 6.1\n",
      "  10.14]\n",
      " ['2010M02' 16.1386489 401.6 122.6 8377.5 3.8 34001.0 11.91 6.28 11.0]\n",
      " ['2010M03' 19.02165091 463.3 174.8 13598.7 5.2 50977.0 11.69 6.33 11.53]\n",
      " ['2010M04' 19.05428623 480.0 159.8 16114.5 5.9 41769.0 9.51 6.0 9.12]\n",
      " ['2010M05' 19.68678322 480.1 145.8 17357.6 6.2 34468.0 8.18 5.2 7.09]\n",
      " ['2010M06' 19.79838388 489.7 142.6 17448.3 6.6 23408.0 7.18 4.85 5.82]\n",
      " ['2010M07' 19.47129446 468.1 134.2 16492.2 6.3 22727.0 8.8 5.47 7.24]\n",
      " ['2010M08' 21.33109174 476.3 133.1 16780.4 6.8 25484.0 8.11 5.82 7.58]\n",
      " ['2010M09' 21.66244321 487.6 163.4 17045.8 6.6 31689.0 8.28 5.65 7.92]\n",
      " ['2010M10' 21.55903074 477.7 159.3 17029.7 6.6 25507.0 9.29 6.57 9.67]\n",
      " ['2010M11' 21.76134192 487.6 182.1 17658.4 7.1 20348.0 7.75 6.17 8.58]\n",
      " ['2010M12' 21.32224764 488.4 195.4 16966.2 7.1 38096.0 7.73 6.27 8.71]\n",
      " ['2011M01' 23.88102624 448.3 183.5 11614.95 5.58 42046.0 7.72 6.81 9.56]\n",
      " ['2011M02' 20.37005115 420.9 129.4 8814.1 4.4 37213.75 7.83 6.73 10.47]\n",
      " ['2011M03' 22.57014853 493.5 192.3 16455.6 6.7 55812.25 7.92 7.51 10.4]\n",
      " ['2011M04' 22.31149827 460.7 156.5 18555.6 7.2 64963.0 7.88 8.53 9.6]\n",
      " ['2011M05' 23.46213236 524.2 142.6 19628.3 8.1 45954.0 7.05 6.59 8.55]\n",
      " ['2011M06' 23.0468898 532.1 148.5 19794.5 8.4 30055.0 6.8 6.59 9.12]\n",
      " ['2011M07' 23.68748431 508.5 131.8 18307.7 8.4 25766.0 6.28 6.08 8.49]\n",
      " ['2011M08' 23.21969118 508.1 145.0 18242.9 7.9 29912.0 5.59 5.5 8.21]\n",
      " ['2011M09' 22.34132092 485.7 166.4 19031.3 7.6 31569.0 5.18 4.96 6.59]\n",
      " ['2011M10' 22.57994124 473.5 160.5 19062.7 7.0 29864.0 5.32 5.63 6.94]\n",
      " ['2011M11' 20.77764555 440.0 179.3 18806.0 6.7 32279.0 4.78 5.02 6.13]\n",
      " ['2011M12' 21.62859336 435.4 182.4 17508.3 6.5 37271.0 4.55 4.66 5.49]\n",
      " ['2012M01' 20.60581298 476.3 138.92 10174.14 4.85 40124.0 4.58 4.62 5.34]\n",
      " ['2012M02' 19.12035023 400.8 173.13 11414.22 6.36 45223.0 4.94 4.95 6.06]\n",
      " ['2012M03' 21.83852119 507.1 202.4 17927.7 6.9 52725.0 4.28 4.51 5.15]\n",
      " ['2012M04' 22.03478112 495.9 175.8 19666.2 6.4 52183.0 4.4 4.72 5.01]\n",
      " ['2012M05' 22.96754631 511.4 171.5 20510.9 6.5 32126.0 4.22 4.95 5.57]\n",
      " ['2012M06' 21.99876057 588.5 169.5 20716.5 7.4 25253.0 3.9 4.23 4.65]\n",
      " ['2012M07' 24.83276378 521.6 148.9 19117.0 5.9 25288.0 3.66 3.77 3.85]\n",
      " ['2012M08' 21.62148723 457.8 158.3 19555.2 5.6 32777.0 3.54 3.55 3.67]\n",
      " ['2012M09' 20.27768634 445.6 180.4 20966.3 7.6 35006.0 3.43 3.42 3.71]\n",
      " ['2012M10' 22.63204252 455.2 167.7 21005.8 6.2 33561.0 3.44 3.45 3.86]\n",
      " ['2012M11' 23.17493494 501.2 184.9 20107.6 6.8 35768.0 3.39 3.1 3.69]\n",
      " ['2012M12' 23.35720146 543.1 191.7 18179.7 6.8 40399.0 3.88 3.4 4.75]\n",
      " ['2013M01' 23.4494409 531.1 205.5 14232.7 6.4 49400.0 3.97 3.81 4.44]\n",
      " ['2013M02' 20.05551726 509.5 144.5 9496.5 5.3 37607.0 3.73 3.84 4.33]\n",
      " ['2013M03' 22.89831935 570.3 229.0 18697.6 6.4 69395.0 3.31 3.34 4.83]\n",
      " ['2013M04' 23.94298725 523.1 203.2 21487.8 6.5 74868.0 3.35 3.22 3.71]\n",
      " ['2013M05' 24.63203561 562.2 192.69 22426.73 6.93 56726.0 3.29 3.34 3.88]\n",
      " ['2013M06' 23.35155973 583.0 185.11 22753.7 6.73 42633.0 2.62 2.64 3.16]\n",
      " ['2013M07' 25.31567391 569.8 170.79 21182.24 6.07 32474.0 2.82 2.54 3.03]\n",
      " ['2013M08' 26.24082889 558.1 179.5 21483.39 6.2 43781.0 3.03 2.83 3.31]\n",
      " ['2013M09' 25.83558837 578.9 207.14 22505.32 6.34 51303.0 3.01 2.84 3.28]\n",
      " ['2013M10' 24.00818065 572.4 208.34 23253.73 6.12 42886.0 3.02 3.04 3.24]\n",
      " ['2013M11' 22.82075883 595.95 228.37 22371.42 6.16 43015.0 3.23 3.15\n",
      "  3.35]\n",
      " ['2013M12' 23.84022494 594.8 229.97 20529.5 6.61 55191.0 3.21 3.02 3.22]]\n"
     ]
    }
   ],
   "source": [
    "data_origin = np.array(data_xls)[:84,:]\n",
    "print(data_origin)"
   ]
  },
  {
   "cell_type": "code",
   "execution_count": 6,
   "metadata": {},
   "outputs": [
    {
     "data": {
      "text/plain": [
       "array([6.1, 7.58, 8.28, 11.03, 10.44, 9.33, 11.03, 13.3, 14.25, 12.45,\n",
       "       10.91, 13.45, 13.45, 13.45, 12.7, 11.18, 14.45, 10.42, 9.02, 6.32,\n",
       "       6.49, 3.72, 5.03, 4.43, 5.52, 5.04, 6.58, 6.97, 7.73, 9.03, 13.59,\n",
       "       9.22, 8.07, 9.94, 12.34, 13.02, 10.14, 11.0, 11.53, 9.12, 7.09,\n",
       "       5.82, 7.24, 7.58, 7.92, 9.67, 8.58, 8.71, 9.56, 10.47, 10.4, 9.6,\n",
       "       8.55, 9.12, 8.49, 8.21, 6.59, 6.94, 6.13, 5.49, 5.34, 6.06, 5.15,\n",
       "       5.01, 5.57, 4.65, 3.85, 3.67, 3.71, 3.86, 3.69, 4.75, 4.44, 4.33,\n",
       "       4.83, 3.71, 3.88, 3.16, 3.03, 3.31, 3.28, 3.24, 3.35, 3.22],\n",
       "      dtype=object)"
      ]
     },
     "execution_count": 6,
     "metadata": {},
     "output_type": "execute_result"
    }
   ],
   "source": [
    "data_y_origin = data_origin[:,9]\n",
    "data_y_origin"
   ]
  },
  {
   "cell_type": "code",
   "execution_count": 7,
   "metadata": {
    "scrolled": true
   },
   "outputs": [
    {
     "name": "stdout",
     "output_type": "stream",
     "text": [
      "[[13.85668698 354.62 78.72 8370.22 4.12 6.1]\n",
      " [11.94129775 318.87 59.65 6500.82 3.35 7.58]\n",
      " [14.5553069 368.91 88.96 9308.57 4.78 8.28]\n",
      " [13.65654085 366.22 83.98 11643.56 5.41 11.03]\n",
      " [13.14379943 374.81 74.35 12869.06 5.34 10.44]\n",
      " [13.89728023 407.8 75.92 12733.27 5.51 9.33]\n",
      " [13.82012254 371.56 67.88 11748.24 5.27 11.03]\n",
      " [13.79591637 347.4 66.14 12081.19 5.31 13.3]\n",
      " [13.98148773 371.86 78.3 12520.21 5.73 14.25]\n",
      " [13.27588781 358.27 75.17 12379.76 5.3 12.45]\n",
      " [13.96807882 345.8 86.52 12547.31 5.24 10.91]\n",
      " [14.28233571 369.6 84.87 12328.41 5.06 13.45]\n",
      " [14.25003836 336.4 84.3 8268.01 5.07 13.45]\n",
      " [12.63311045 335.34 67.21 5958.28 4.69 13.45]\n",
      " [13.46243023 366.4 106.57 11322.94 5.85 12.7]\n",
      " [12.66591199 343.26 100.41 12488.42 6.03 11.18]\n",
      " [15.74872233 399.75 89.49 13198.24 7.13 14.45]\n",
      " [13.96355619 409.85 86.42 13181.24 5.89 10.42]\n",
      " [14.0412472 380.07 75.72 11943.23 5.4 9.02]\n",
      " [14.73483898 372.28 62.58 11985.87 5.31 6.32]\n",
      " [14.43095576 355.84 79.18 12422.85 5.11 6.49]\n",
      " [13.07001702 323.2 73.03 12309.27 5.0 3.72]\n",
      " [11.2565999 307.96 71.35 12679.63 4.35 5.03]\n",
      " [12.75663418 342.5 68.57 12527.17 3.81 4.43]\n",
      " [15.18040114 353.16 67.37 7580.12 3.41 5.52]\n",
      " [13.37540347 330.71 85.28 8289.98 4.08 5.04]\n",
      " [14.73297642 378.61 116.9 12206.74 5.41 6.58]\n",
      " [15.78046701 348.83 118.12 14677.55 5.53 6.97]\n",
      " [17.72041254 439.96 114.76 14888.43 5.47 7.73]\n",
      " [17.83488148 428.16 120.43 15759.93 5.99 9.03]\n",
      " [18.58404608 456.05 113.69 14486.98 5.3 13.59]\n",
      " [20.17703177 469.65 116.65 14975.2 5.24 9.22]\n",
      " [18.09534907 436.27 137.34 15630.78 5.47 8.07]\n",
      " [18.75590088 435.96 131.09 15635.07 5.27 9.94]\n",
      " [18.23257587 422.55 144.19 15095.85 5.81 12.34]\n",
      " [19.43319581 462.8 153.75 14498.48 5.38 13.02]\n",
      " [21.23330098 446.2 162.49 11520.47 4.55 10.14]\n",
      " [16.1386489 401.6 122.6 8377.5 3.8 11.0]\n",
      " [19.02165091 463.3 174.8 13598.7 5.2 11.53]\n",
      " [19.05428623 480.0 159.8 16114.5 5.9 9.12]\n",
      " [19.68678322 480.1 145.8 17357.6 6.2 7.09]\n",
      " [19.79838388 489.7 142.6 17448.3 6.6 5.82]\n",
      " [19.47129446 468.1 134.2 16492.2 6.3 7.24]\n",
      " [21.33109174 476.3 133.1 16780.4 6.8 7.58]\n",
      " [21.66244321 487.6 163.4 17045.8 6.6 7.92]\n",
      " [21.55903074 477.7 159.3 17029.7 6.6 9.67]\n",
      " [21.76134192 487.6 182.1 17658.4 7.1 8.58]\n",
      " [21.32224764 488.4 195.4 16966.2 7.1 8.71]\n",
      " [23.88102624 448.3 183.5 11614.95 5.58 9.56]\n",
      " [20.37005115 420.9 129.4 8814.1 4.4 10.47]\n",
      " [22.57014853 493.5 192.3 16455.6 6.7 10.4]\n",
      " [22.31149827 460.7 156.5 18555.6 7.2 9.6]\n",
      " [23.46213236 524.2 142.6 19628.3 8.1 8.55]\n",
      " [23.0468898 532.1 148.5 19794.5 8.4 9.12]\n",
      " [23.68748431 508.5 131.8 18307.7 8.4 8.49]\n",
      " [23.21969118 508.1 145.0 18242.9 7.9 8.21]\n",
      " [22.34132092 485.7 166.4 19031.3 7.6 6.59]\n",
      " [22.57994124 473.5 160.5 19062.7 7.0 6.94]\n",
      " [20.77764555 440.0 179.3 18806.0 6.7 6.13]\n",
      " [21.62859336 435.4 182.4 17508.3 6.5 5.49]\n",
      " [20.60581298 476.3 138.92 10174.14 4.85 5.34]\n",
      " [19.12035023 400.8 173.13 11414.22 6.36 6.06]\n",
      " [21.83852119 507.1 202.4 17927.7 6.9 5.15]\n",
      " [22.03478112 495.9 175.8 19666.2 6.4 5.01]\n",
      " [22.96754631 511.4 171.5 20510.9 6.5 5.57]\n",
      " [21.99876057 588.5 169.5 20716.5 7.4 4.65]\n",
      " [24.83276378 521.6 148.9 19117.0 5.9 3.85]\n",
      " [21.62148723 457.8 158.3 19555.2 5.6 3.67]\n",
      " [20.27768634 445.6 180.4 20966.3 7.6 3.71]\n",
      " [22.63204252 455.2 167.7 21005.8 6.2 3.86]\n",
      " [23.17493494 501.2 184.9 20107.6 6.8 3.69]\n",
      " [23.35720146 543.1 191.7 18179.7 6.8 4.75]\n",
      " [23.4494409 531.1 205.5 14232.7 6.4 4.44]\n",
      " [20.05551726 509.5 144.5 9496.5 5.3 4.33]\n",
      " [22.89831935 570.3 229.0 18697.6 6.4 4.83]\n",
      " [23.94298725 523.1 203.2 21487.8 6.5 3.71]\n",
      " [24.63203561 562.2 192.69 22426.73 6.93 3.88]\n",
      " [23.35155973 583.0 185.11 22753.7 6.73 3.16]\n",
      " [25.31567391 569.8 170.79 21182.24 6.07 3.03]\n",
      " [26.24082889 558.1 179.5 21483.39 6.2 3.31]\n",
      " [25.83558837 578.9 207.14 22505.32 6.34 3.28]\n",
      " [24.00818065 572.4 208.34 23253.73 6.12 3.24]\n",
      " [22.82075883 595.95 228.37 22371.42 6.16 3.35]\n",
      " [23.84022494 594.8 229.97 20529.5 6.61 3.22]]\n"
     ]
    }
   ],
   "source": [
    "data_x_origin = np.delete(data_origin,[0,6,7,8], axis = 1)\n",
    "print(data_x_origin)"
   ]
  },
  {
   "cell_type": "code",
   "execution_count": 8,
   "metadata": {},
   "outputs": [
    {
     "name": "stdout",
     "output_type": "stream",
     "text": [
      "(84, 6)\n"
     ]
    }
   ],
   "source": [
    "print(data_x_origin.shape)"
   ]
  },
  {
   "cell_type": "code",
   "execution_count": 9,
   "metadata": {},
   "outputs": [],
   "source": [
    "# #Max-Min标准化\n",
    "# #建立MinMaxScaler对象\n",
    "scaler = preprocessing.MinMaxScaler()\n",
    "\n",
    "# # 标准化处理\n",
    "# scaler = preprocessing.StandardScaler()\n",
    "data_x = data_x_origin\n",
    "data_x[:,0] = scaler.fit_transform(data_x_origin[:,0].reshape(-1, 1)).reshape(84)\n",
    "data_x[:,1] = scaler.fit_transform(data_x_origin[:,1].reshape(-1, 1)).reshape(84)\n",
    "data_x[:,2] = scaler.fit_transform(data_x_origin[:,2].reshape(-1, 1)).reshape(84)\n",
    "data_x[:,3] = scaler.fit_transform(data_x_origin[:,3].reshape(-1, 1)).reshape(84)\n",
    "data_x[:,4] = scaler.fit_transform(data_x_origin[:,4].reshape(-1, 1)).reshape(84)\n",
    "data_x[:,5] = scaler.fit_transform(data_x_origin[:,5].reshape(-1, 1)).reshape(84)\n",
    "data_y = scaler.fit_transform(data_y_origin.reshape(-1, 1))"
   ]
  },
  {
   "cell_type": "code",
   "execution_count": 10,
   "metadata": {},
   "outputs": [],
   "source": [
    "# n = 0\n",
    "# for i in range(data.shape[0]):\n",
    "#     if data[i,0]<0:\n",
    "#         n=n+1\n",
    "# print(n)"
   ]
  },
  {
   "cell_type": "code",
   "execution_count": 11,
   "metadata": {},
   "outputs": [
    {
     "name": "stdout",
     "output_type": "stream",
     "text": [
      "(84, 6)\n",
      "(84, 1)\n"
     ]
    }
   ],
   "source": [
    "print(data_x.shape)\n",
    "print(data_y.shape)"
   ]
  },
  {
   "cell_type": "code",
   "execution_count": 12,
   "metadata": {},
   "outputs": [],
   "source": [
    "# data.shape"
   ]
  },
  {
   "cell_type": "code",
   "execution_count": 13,
   "metadata": {},
   "outputs": [],
   "source": [
    "# data_x = data[:,0]"
   ]
  },
  {
   "cell_type": "code",
   "execution_count": 14,
   "metadata": {},
   "outputs": [],
   "source": [
    "# data_y = data[:,1]"
   ]
  },
  {
   "cell_type": "code",
   "execution_count": 15,
   "metadata": {},
   "outputs": [],
   "source": [
    "# data_y = data[-146:,:]\n",
    "# print(data_y.shape)"
   ]
  },
  {
   "cell_type": "code",
   "execution_count": 16,
   "metadata": {},
   "outputs": [],
   "source": [
    "# data_x = []\n",
    "# for r in range(146):\n",
    "#     for c in range(12):\n",
    "#         item = []\n",
    "#         item.append(data[r+c, 0])\n",
    "#         data_x.append(item)\n",
    "# data_x = np.array(data_x)\n",
    "# print(data_x)\n",
    "# print(data_x.shape)"
   ]
  },
  {
   "cell_type": "code",
   "execution_count": 17,
   "metadata": {},
   "outputs": [],
   "source": [
    "# data_x=data_x.reshape(84,1,1)"
   ]
  },
  {
   "cell_type": "code",
   "execution_count": 18,
   "metadata": {},
   "outputs": [],
   "source": [
    "# data_x.shape"
   ]
  },
  {
   "cell_type": "code",
   "execution_count": 19,
   "metadata": {
    "scrolled": true
   },
   "outputs": [],
   "source": [
    "# data_x"
   ]
  },
  {
   "cell_type": "code",
   "execution_count": 20,
   "metadata": {},
   "outputs": [],
   "source": [
    "# data_y = data_y.reshape(84,1,1)"
   ]
  },
  {
   "cell_type": "code",
   "execution_count": 21,
   "metadata": {},
   "outputs": [],
   "source": [
    "data_x_train = data_x[:70,:]\n",
    "data_y_train = data_y[:70,:]\n",
    "\n",
    "data_x_test = data_x[-14:,:]\n",
    "data_y_test = data_y[-14:,:]"
   ]
  },
  {
   "cell_type": "code",
   "execution_count": 22,
   "metadata": {},
   "outputs": [
    {
     "name": "stdout",
     "output_type": "stream",
     "text": [
      "(70, 6)\n",
      "(70, 1)\n",
      "(14, 6)\n",
      "(14, 1)\n"
     ]
    }
   ],
   "source": [
    "print(data_x_train.shape)\n",
    "print(data_y_train.shape)\n",
    "print(data_x_test.shape)\n",
    "print(data_y_test.shape)"
   ]
  },
  {
   "cell_type": "code",
   "execution_count": 23,
   "metadata": {},
   "outputs": [],
   "source": [
    "from sklearn.model_selection import train_test_split"
   ]
  },
  {
   "cell_type": "code",
   "execution_count": 24,
   "metadata": {},
   "outputs": [
    {
     "name": "stdout",
     "output_type": "stream",
     "text": [
      "(56, 6)\n",
      "(56, 1)\n",
      "(14, 6)\n",
      "(14, 1)\n"
     ]
    }
   ],
   "source": [
    "X_train, X_test, Y_train, Y_test = train_test_split(data_x_train, data_y_train, test_size=0.2, random_state=520)\n",
    "print(X_train.shape)\n",
    "print(Y_train.shape)\n",
    "print(X_test.shape)\n",
    "print(Y_test.shape)"
   ]
  },
  {
   "cell_type": "code",
   "execution_count": 25,
   "metadata": {},
   "outputs": [],
   "source": [
    "\n",
    "#     model = Sequential()\n",
    " \n",
    "#     model.add(LSTM(input_dim=10,output_dim=128,return_sequences=True))\n",
    "#     model.add(Dropout(0.1))\n",
    " \n",
    "#     model.add(LSTM(128,return_sequences=False))\n",
    "#     model.add(Dropout(0.1))\n",
    " \n",
    "#     model.add(Dense(output_dim=1))\n",
    "#     model.add(Activation(\"linear\"))\n",
    " \n",
    "#     model.compile(loss=\"mse\", optimizer=\"rmsprop\")"
   ]
  },
  {
   "cell_type": "code",
   "execution_count": 26,
   "metadata": {},
   "outputs": [],
   "source": [
    "# model = Sequential()\n",
    "\n",
    "# model.add(LSTM(output_dim=128, \n",
    "#                 input_shape=(10, 1),\n",
    "#                 activation='relu',\n",
    "#                 return_sequences=True))\n",
    "# for i in range(6):\n",
    "#     model.add(LSTM(output_dim=128,\n",
    "#                     activation='tanh',\n",
    "#                     return_sequences=True))\n",
    "# #     model.add(Dropout(0.1))\n",
    "\n",
    "# model.add(LSTM(output_dim=1,\n",
    "#                activation='linear',\n",
    "#                return_sequences=False))\n",
    "\n",
    "# model.compile(loss='mse', optimizer='adam', metrics=[metrics.mse])\n",
    "# model.summary()"
   ]
  },
  {
   "cell_type": "code",
   "execution_count": 27,
   "metadata": {},
   "outputs": [],
   "source": [
    "# def create_model(output_dim1, num_layer, output_dim2):\n",
    "#     model = Sequential()\n",
    "\n",
    "#     model.add(LSTM(output_dim=output_dim1, \n",
    "#                 input_shape=(1, 1),\n",
    "#                 activation='relu',\n",
    "#                 return_sequences=True))\n",
    "#     for i in range(num_layer):\n",
    "#         model.add(LSTM(output_dim=output_dim2,\n",
    "#                         activation='tanh',\n",
    "#                         return_sequences=True))\n",
    "# #     model.add(Dropout(0.1))\n",
    "\n",
    "#     model.add(LSTM(output_dim=1,\n",
    "#                activation='tanh',\n",
    "#                 return_sequences=False))\n",
    "\n",
    "#     model.compile(loss='mse', optimizer='adam', metrics=[metrics.mse])\n",
    "# #     model.summary()\n",
    "#     return model"
   ]
  },
  {
   "cell_type": "code",
   "execution_count": 28,
   "metadata": {},
   "outputs": [],
   "source": [
    "# from sklearn.model_selection import RandomizedSearchCV\n",
    "# from skopt.space import Real, Categorical, Integer\n",
    "# from keras.wrappers.scikit_learn import KerasRegressor\n",
    "# # from sklearn.model_selection import train_test_split"
   ]
  },
  {
   "cell_type": "code",
   "execution_count": 29,
   "metadata": {},
   "outputs": [],
   "source": [
    "# #采用暴力搜索，所有参数进行组合，然后选择最好的参数\n",
    "# tuned_parameters=[{'output_dim1':Integer(28, 128),\n",
    "#                    'num_layer':Integer(3,12),\n",
    "#                    'output_dim2':Integer(28, 128)}]\n",
    "# # 'output_dim1':Integer(28, 128),\n",
    "# #             'num_layer':Integer(3,12),\n",
    "# #             'output_dim2':Integer(28, 128)"
   ]
  },
  {
   "cell_type": "code",
   "execution_count": 30,
   "metadata": {},
   "outputs": [],
   "source": [
    "# train_x, test_x, train_y, test_y = train_test_split(data_x, data_y, train_size=0.80, random_state=0)"
   ]
  },
  {
   "cell_type": "code",
   "execution_count": 31,
   "metadata": {},
   "outputs": [],
   "source": [
    "# model=KerasRegressor(build_fn=create_model)"
   ]
  },
  {
   "cell_type": "code",
   "execution_count": 32,
   "metadata": {
    "scrolled": true
   },
   "outputs": [],
   "source": [
    "# #采用随机搜索，给参数一个范围，然后系统随机选择参数，进行检验，然后选择最好的\n",
    "# tuned_parameters={'output_dim1':[28, 64, 96,128],\n",
    "#                    'num_layer':[4,5,6,7,8],\n",
    "#                    'output_dim2':[28,64, 96,128]}\n",
    "\n",
    "# lstm=RandomizedSearchCV(model,tuned_parameters,scoring='neg_mean_squared_error',n_iter=10)\n",
    " \n",
    "# lstm.fit(data_x_train,data_y_train)"
   ]
  },
  {
   "cell_type": "code",
   "execution_count": 33,
   "metadata": {},
   "outputs": [],
   "source": [
    "# print('最优训练器:',lstm.best_estimator_)\n",
    "# print('最优训练器的精度:',lstm.best_score_)"
   ]
  },
  {
   "cell_type": "code",
   "execution_count": 34,
   "metadata": {},
   "outputs": [],
   "source": [
    "# best_estimator_ = lstm.best_estimator_"
   ]
  },
  {
   "cell_type": "code",
   "execution_count": 35,
   "metadata": {},
   "outputs": [],
   "source": [
    "# best_estimator_.predict(data_x_test,batch_size = 1)"
   ]
  },
  {
   "cell_type": "code",
   "execution_count": null,
   "metadata": {},
   "outputs": [],
   "source": []
  },
  {
   "cell_type": "code",
   "execution_count": null,
   "metadata": {},
   "outputs": [],
   "source": []
  },
  {
   "cell_type": "code",
   "execution_count": null,
   "metadata": {},
   "outputs": [],
   "source": []
  },
  {
   "cell_type": "code",
   "execution_count": null,
   "metadata": {},
   "outputs": [],
   "source": []
  },
  {
   "cell_type": "code",
   "execution_count": null,
   "metadata": {},
   "outputs": [],
   "source": []
  },
  {
   "cell_type": "code",
   "execution_count": 36,
   "metadata": {},
   "outputs": [],
   "source": [
    "# import sklearn\n",
    "# sorted(sklearn.metrics.SCORERS.keys())"
   ]
  },
  {
   "cell_type": "code",
   "execution_count": null,
   "metadata": {},
   "outputs": [],
   "source": []
  },
  {
   "cell_type": "code",
   "execution_count": 37,
   "metadata": {},
   "outputs": [],
   "source": [
    "# from sklearn.model_selection import train_test_split\n",
    "# from skopt import BayesSearchCV\n",
    "# from skopt.space import Real, Categorical, Integer"
   ]
  },
  {
   "cell_type": "code",
   "execution_count": 38,
   "metadata": {},
   "outputs": [],
   "source": [
    "# class FixedBayesSearchCV(BayesSearchCV):\n",
    "#     \"\"\"\n",
    "#     Dirty hack to avoid compatibility issues with sklearn 0.2 and skopt.\n",
    "#     Credit: https://www.kaggle.com/c/home-credit-default-risk/discussion/64004\n",
    "#     For context, on why the workaround see:\n",
    "#         - https://github.com/scikit-optimize/scikit-optimize/issues/718\n",
    "#         - https://github.com/scikit-optimize/scikit-optimize/issues/762\n",
    "#     \"\"\"\n",
    "#     def __init__(self, estimator, search_spaces, optimizer_kwargs=None,\n",
    "#                 n_iter=50, scoring=None, fit_params=None, n_jobs=1,\n",
    "#                 n_points=1, iid=True, refit=True, cv=None, verbose=0,\n",
    "#                 pre_dispatch='2*n_jobs', random_state=None,\n",
    "#                 error_score='raise', return_train_score=False):\n",
    "#         \"\"\"\n",
    "#         See: https://github.com/scikit-optimize/scikit-optimize/issues/762#issuecomment-493689266\n",
    "#         \"\"\"\n",
    " \n",
    "#         # Bug fix: Added this line\n",
    "#         self.fit_params = fit_params\n",
    " \n",
    "#         self.search_spaces = search_spaces\n",
    "#         self.n_iter = n_iter\n",
    "#         self.n_points = n_points\n",
    "#         self.random_state = random_state\n",
    "#         self.optimizer_kwargs = optimizer_kwargs\n",
    "#         self._check_search_space(self.search_spaces)\n",
    " \n",
    "#         # Removed the passing of fit_params to the parent class.\n",
    "#         super(BayesSearchCV, self).__init__(\n",
    "#                 estimator=estimator, scoring=scoring, n_jobs=n_jobs, iid=iid,\n",
    "#                 refit=refit, cv=cv, verbose=verbose, pre_dispatch=pre_dispatch,\n",
    "#                 error_score=error_score, return_train_score=return_train_score)\n",
    " \n",
    "#     def _run_search(self, x):\n",
    "#         raise BaseException('Use newer skopt')"
   ]
  },
  {
   "cell_type": "code",
   "execution_count": 39,
   "metadata": {},
   "outputs": [],
   "source": [
    "# def lstm_auto_para_tuning_bayesian(model,data_x,data_y):\n",
    "#     train_x, test_x, train_y, test_y = train_test_split(data_x, data_y, train_size=0.80, random_state=0)\n",
    "#     # cv：交叉验证 n_points：并行采样的超参组数\n",
    "# #     model=KerasRegressor(build_fn=create_model)\n",
    "#     opt = FixedBayesSearchCV(model,cv=5,n_points=2,n_jobs=4,verbose=1,\n",
    "#         search_spaces={\n",
    "#             'output_dim1':Integer(12, 48),\n",
    "#             'num_layer':Integer(3,12),\n",
    "#             'output_dim2':Integer(12, 48)\n",
    "#         },\n",
    "#          fit_params={\n",
    "#                  'eval_set':[(test_x[:,0,0], test_y[:,0,0])],\n",
    "#                  'eval_metric': 'mse',\n",
    "#                  'early_stopping_rounds': 50\n",
    "#                  })\n",
    "#     opt.fit(train_x,train_y)\n",
    "#     print(\"val. score: %s\" % opt.best_score_)\n",
    "#     print(\"test score: %s\" % opt.score(test_x, test_y))\n",
    "#     print(\"Best parameters: \", opt.best_params_)\n",
    "#     print(\"Best estimator:\", opt.best_estimator_)"
   ]
  },
  {
   "cell_type": "code",
   "execution_count": 40,
   "metadata": {},
   "outputs": [],
   "source": [
    "# model=KerasRegressor(build_fn=create_model)"
   ]
  },
  {
   "cell_type": "code",
   "execution_count": 41,
   "metadata": {},
   "outputs": [],
   "source": [
    "# lstm_auto_para_tuning_bayesian(model,data_x,data_y)"
   ]
  },
  {
   "cell_type": "code",
   "execution_count": null,
   "metadata": {},
   "outputs": [],
   "source": []
  },
  {
   "cell_type": "code",
   "execution_count": 42,
   "metadata": {},
   "outputs": [],
   "source": [
    "# model = create_model(24, 4, 24)"
   ]
  },
  {
   "cell_type": "code",
   "execution_count": 43,
   "metadata": {},
   "outputs": [],
   "source": [
    "# lstm_auto_para_tuning_bayesian(model,data_x,data_y)"
   ]
  },
  {
   "cell_type": "code",
   "execution_count": 44,
   "metadata": {},
   "outputs": [
    {
     "name": "stdout",
     "output_type": "stream",
     "text": [
      "WARNING:tensorflow:From e:\\envs\\python36env\\lib\\site-packages\\tensorflow\\python\\framework\\op_def_library.py:263: colocate_with (from tensorflow.python.framework.ops) is deprecated and will be removed in a future version.\n",
      "Instructions for updating:\n",
      "Colocations handled automatically by placer.\n",
      "WARNING:tensorflow:From e:\\envs\\python36env\\lib\\site-packages\\tensorflow\\python\\ops\\math_ops.py:3066: to_int32 (from tensorflow.python.ops.math_ops) is deprecated and will be removed in a future version.\n",
      "Instructions for updating:\n",
      "Use tf.cast instead.\n"
     ]
    },
    {
     "data": {
      "text/plain": [
       "<keras.callbacks.History at 0x246ceb09ef0>"
      ]
     },
     "execution_count": 44,
     "metadata": {},
     "output_type": "execute_result"
    }
   ],
   "source": [
    "model = Sequential()\n",
    "model.add(Dense(6, activation='relu',input_shape=(X_train.shape[1],)))\n",
    "model.add(Dense(6, activation='relu'))\n",
    "model.add(Dense(1,activation='sigmoid'))\n",
    "model.compile(optimizer = 'sgd',# 还可以通过optimizer = optimizers.RMSprop(lr=0.001)来为优化器指定参数.optimizer='rmsprop'\n",
    "              loss='mean_squared_error', # 等价于loss = losses.binary_crossentropy\n",
    "              metrics=['mse']) # 等价于metrics = [metircs.binary_accuracy]\n",
    "model.fit(X_train, Y_train,epochs=80, batch_size=20, verbose=0, validation_data=(X_test,Y_test))"
   ]
  },
  {
   "cell_type": "code",
   "execution_count": 45,
   "metadata": {},
   "outputs": [
    {
     "name": "stdout",
     "output_type": "stream",
     "text": [
      "\r",
      "14/14 [==============================] - 0s 142us/step\n"
     ]
    },
    {
     "data": {
      "text/plain": [
       "[0.06811218708753586, 0.06811218708753586]"
      ]
     },
     "execution_count": 45,
     "metadata": {},
     "output_type": "execute_result"
    }
   ],
   "source": [
    "model.evaluate(X_test,Y_test)"
   ]
  },
  {
   "cell_type": "code",
   "execution_count": null,
   "metadata": {},
   "outputs": [],
   "source": []
  },
  {
   "cell_type": "code",
   "execution_count": 46,
   "metadata": {
    "scrolled": false
   },
   "outputs": [],
   "source": [
    "# model.fit(data_x_train, data_y_train, epochs=20, batch_size=20, verbose=1)"
   ]
  },
  {
   "cell_type": "code",
   "execution_count": 47,
   "metadata": {},
   "outputs": [
    {
     "name": "stdout",
     "output_type": "stream",
     "text": [
      "14/14 [==============================] - 0s 143us/step\n",
      "\n",
      "test loss 0.06811\n",
      "accuracy 0.06811\n"
     ]
    }
   ],
   "source": [
    "# 评估模型,不输出预测结果\n",
    "loss,accuracy = model.evaluate(X_test,Y_test)\n",
    "print('\\ntest loss','{:.5f}'.format(loss))\n",
    "print('accuracy','{:.5f}'.format(accuracy))"
   ]
  },
  {
   "cell_type": "code",
   "execution_count": 48,
   "metadata": {},
   "outputs": [],
   "source": [
    "y_pred = model.predict(data_x_test,batch_size = 1)"
   ]
  },
  {
   "cell_type": "code",
   "execution_count": 49,
   "metadata": {},
   "outputs": [
    {
     "data": {
      "text/plain": [
       "array([[0.409288  ],\n",
       "       [0.44375923],\n",
       "       [0.5003203 ],\n",
       "       [0.51315963],\n",
       "       [0.50066876],\n",
       "       [0.4270532 ],\n",
       "       [0.40591213],\n",
       "       [0.4172614 ],\n",
       "       [0.41766876],\n",
       "       [0.41197392],\n",
       "       [0.43555093],\n",
       "       [0.44464248],\n",
       "       [0.48870987],\n",
       "       [0.48751017]], dtype=float32)"
      ]
     },
     "execution_count": 49,
     "metadata": {},
     "output_type": "execute_result"
    }
   ],
   "source": [
    "y_pred"
   ]
  },
  {
   "cell_type": "code",
   "execution_count": 50,
   "metadata": {},
   "outputs": [],
   "source": [
    "# data_y_test[-10:,0]"
   ]
  },
  {
   "cell_type": "code",
   "execution_count": 51,
   "metadata": {},
   "outputs": [],
   "source": [
    "# data_x_test[-10:,0,-1]"
   ]
  },
  {
   "cell_type": "code",
   "execution_count": 52,
   "metadata": {},
   "outputs": [],
   "source": [
    "# t = []\n",
    "# for i in range(2000):\n",
    "#     if data_y_test[:,0][i]>data_x_test[:,0,-1][i]:\n",
    "#         t.append(1)\n",
    "#     else:\n",
    "#         t.append(0)\n",
    "# len(t)"
   ]
  },
  {
   "cell_type": "code",
   "execution_count": 53,
   "metadata": {},
   "outputs": [],
   "source": [
    "# p = []\n",
    "# for i in range(2000):\n",
    "#     if y_pred[:,0][i]>data_x_test[:,0,-1][i]:\n",
    "#         p.append(1)\n",
    "#     else:\n",
    "#         p.append(0)\n",
    "# len(p)"
   ]
  },
  {
   "cell_type": "code",
   "execution_count": 54,
   "metadata": {},
   "outputs": [],
   "source": [
    "# n = 0\n",
    "# for i in range(2000):\n",
    "#     if t[i]==p[i]:\n",
    "#         n=n+1\n",
    "# n/2000"
   ]
  },
  {
   "cell_type": "code",
   "execution_count": 55,
   "metadata": {},
   "outputs": [],
   "source": [
    "# data.shape"
   ]
  },
  {
   "cell_type": "code",
   "execution_count": 56,
   "metadata": {},
   "outputs": [],
   "source": [
    "data_y_max = np.max(data_y_origin)"
   ]
  },
  {
   "cell_type": "code",
   "execution_count": 57,
   "metadata": {},
   "outputs": [],
   "source": [
    "data_y_min = np.min(data_y_origin)"
   ]
  },
  {
   "cell_type": "code",
   "execution_count": 58,
   "metadata": {},
   "outputs": [
    {
     "data": {
      "text/plain": [
       "14.45"
      ]
     },
     "execution_count": 58,
     "metadata": {},
     "output_type": "execute_result"
    }
   ],
   "source": [
    "data_y_max"
   ]
  },
  {
   "cell_type": "code",
   "execution_count": 59,
   "metadata": {},
   "outputs": [
    {
     "data": {
      "text/plain": [
       "3.03"
      ]
     },
     "execution_count": 59,
     "metadata": {},
     "output_type": "execute_result"
    }
   ],
   "source": [
    "data_y_min "
   ]
  },
  {
   "cell_type": "code",
   "execution_count": 60,
   "metadata": {},
   "outputs": [],
   "source": [
    "y_test_origin = data_y_origin[-14:]"
   ]
  },
  {
   "cell_type": "code",
   "execution_count": 61,
   "metadata": {},
   "outputs": [
    {
     "data": {
      "text/plain": [
       "array([3.69, 4.75, 4.44, 4.33, 4.83, 3.71, 3.88, 3.16, 3.03, 3.31, 3.28,\n",
       "       3.24, 3.35, 3.22], dtype=object)"
      ]
     },
     "execution_count": 61,
     "metadata": {},
     "output_type": "execute_result"
    }
   ],
   "source": [
    "y_test_origin"
   ]
  },
  {
   "cell_type": "code",
   "execution_count": 62,
   "metadata": {},
   "outputs": [],
   "source": [
    "y_pred_to_origin = []\n",
    "for i in y_pred:\n",
    "    y = i*(data_y_max - data_y_min) + data_y_min\n",
    "    y_pred_to_origin.append(y)"
   ]
  },
  {
   "cell_type": "code",
   "execution_count": 63,
   "metadata": {},
   "outputs": [
    {
     "data": {
      "text/plain": [
       "[array([7.704069], dtype=float32),\n",
       " array([8.097731], dtype=float32),\n",
       " array([8.743658], dtype=float32),\n",
       " array([8.890283], dtype=float32),\n",
       " array([8.747638], dtype=float32),\n",
       " array([7.906948], dtype=float32),\n",
       " array([7.665517], dtype=float32),\n",
       " array([7.795125], dtype=float32),\n",
       " array([7.799777], dtype=float32),\n",
       " array([7.734742], dtype=float32),\n",
       " array([8.003991], dtype=float32),\n",
       " array([8.107818], dtype=float32),\n",
       " array([8.611067], dtype=float32),\n",
       " array([8.597366], dtype=float32)]"
      ]
     },
     "execution_count": 63,
     "metadata": {},
     "output_type": "execute_result"
    }
   ],
   "source": [
    "y_pred_to_origin"
   ]
  },
  {
   "cell_type": "code",
   "execution_count": null,
   "metadata": {},
   "outputs": [],
   "source": []
  },
  {
   "cell_type": "code",
   "execution_count": null,
   "metadata": {},
   "outputs": [],
   "source": []
  }
 ],
 "metadata": {
  "kernelspec": {
   "display_name": "Python 3",
   "language": "python",
   "name": "python3"
  },
  "language_info": {
   "codemirror_mode": {
    "name": "ipython",
    "version": 3
   },
   "file_extension": ".py",
   "mimetype": "text/x-python",
   "name": "python",
   "nbconvert_exporter": "python",
   "pygments_lexer": "ipython3",
   "version": "3.6.5"
  }
 },
 "nbformat": 4,
 "nbformat_minor": 4
}
