{
 "cells": [
  {
   "cell_type": "code",
   "execution_count": 1,
   "metadata": {
    "scrolled": false
   },
   "outputs": [
    {
     "name": "stderr",
     "output_type": "stream",
     "text": [
      "Using TensorFlow backend.\n",
      "e:\\envs\\python36env\\lib\\site-packages\\tensorflow\\python\\framework\\dtypes.py:526: FutureWarning: Passing (type, 1) or '1type' as a synonym of type is deprecated; in a future version of numpy, it will be understood as (type, (1,)) / '(1,)type'.\n",
      "  _np_qint8 = np.dtype([(\"qint8\", np.int8, 1)])\n",
      "e:\\envs\\python36env\\lib\\site-packages\\tensorflow\\python\\framework\\dtypes.py:527: FutureWarning: Passing (type, 1) or '1type' as a synonym of type is deprecated; in a future version of numpy, it will be understood as (type, (1,)) / '(1,)type'.\n",
      "  _np_quint8 = np.dtype([(\"quint8\", np.uint8, 1)])\n",
      "e:\\envs\\python36env\\lib\\site-packages\\tensorflow\\python\\framework\\dtypes.py:528: FutureWarning: Passing (type, 1) or '1type' as a synonym of type is deprecated; in a future version of numpy, it will be understood as (type, (1,)) / '(1,)type'.\n",
      "  _np_qint16 = np.dtype([(\"qint16\", np.int16, 1)])\n",
      "e:\\envs\\python36env\\lib\\site-packages\\tensorflow\\python\\framework\\dtypes.py:529: FutureWarning: Passing (type, 1) or '1type' as a synonym of type is deprecated; in a future version of numpy, it will be understood as (type, (1,)) / '(1,)type'.\n",
      "  _np_quint16 = np.dtype([(\"quint16\", np.uint16, 1)])\n",
      "e:\\envs\\python36env\\lib\\site-packages\\tensorflow\\python\\framework\\dtypes.py:530: FutureWarning: Passing (type, 1) or '1type' as a synonym of type is deprecated; in a future version of numpy, it will be understood as (type, (1,)) / '(1,)type'.\n",
      "  _np_qint32 = np.dtype([(\"qint32\", np.int32, 1)])\n",
      "e:\\envs\\python36env\\lib\\site-packages\\tensorflow\\python\\framework\\dtypes.py:535: FutureWarning: Passing (type, 1) or '1type' as a synonym of type is deprecated; in a future version of numpy, it will be understood as (type, (1,)) / '(1,)type'.\n",
      "  np_resource = np.dtype([(\"resource\", np.ubyte, 1)])\n"
     ]
    }
   ],
   "source": [
    "import numpy as np \n",
    "import pandas as pd \n",
    "import matplotlib.pyplot as plt \n",
    "from sklearn import preprocessing\n",
    "from keras.layers.core import Dense, Activation, Dropout\n",
    "from keras.layers.recurrent import LSTM\n",
    "from keras.models import Sequential\n",
    "from keras import metrics\n",
    "from sklearn.model_selection import train_test_split\n",
    "from skopt import BayesSearchCV\n",
    "from keras.wrappers.scikit_learn import KerasRegressor"
   ]
  },
  {
   "cell_type": "code",
   "execution_count": 80,
   "metadata": {},
   "outputs": [],
   "source": [
    "data_csv = pd.read_csv('USDJPY_data_D1.csv')"
   ]
  },
  {
   "cell_type": "code",
   "execution_count": 81,
   "metadata": {},
   "outputs": [],
   "source": [
    "data_csv.drop(['Unnamed: 0'], axis=1, inplace=True)"
   ]
  },
  {
   "cell_type": "code",
   "execution_count": 82,
   "metadata": {},
   "outputs": [
    {
     "name": "stdout",
     "output_type": "stream",
     "text": [
      "        close\n",
      "0      78.552\n",
      "1      78.534\n",
      "2      78.666\n",
      "3      78.749\n",
      "4      78.530\n",
      "...       ...\n",
      "2005  107.164\n",
      "2006  107.295\n",
      "2007  107.695\n",
      "2008  107.484\n",
      "2009  107.598\n",
      "\n",
      "[2010 rows x 1 columns]\n"
     ]
    }
   ],
   "source": [
    "print(data_csv)"
   ]
  },
  {
   "cell_type": "code",
   "execution_count": 83,
   "metadata": {},
   "outputs": [
    {
     "data": {
      "text/plain": [
       "array([[-3.12605538],\n",
       "       [-3.12797475],\n",
       "       [-3.11389933],\n",
       "       ...,\n",
       "       [-0.01848011],\n",
       "       [-0.04097946],\n",
       "       [-0.02882342]])"
      ]
     },
     "execution_count": 83,
     "metadata": {},
     "output_type": "execute_result"
    }
   ],
   "source": [
    "data_origin = np.array(data_csv)\n",
    "# #Max-Min标准化\n",
    "# #建立MinMaxScaler对象\n",
    "scaler = preprocessing.StandardScaler()\n",
    "# # 标准化处理\n",
    "# scaler = preprocessing.MinMaxScaler()\n",
    "data = scaler.fit_transform(data_origin)\n",
    "\n",
    "data"
   ]
  },
  {
   "cell_type": "code",
   "execution_count": 84,
   "metadata": {},
   "outputs": [
    {
     "name": "stdout",
     "output_type": "stream",
     "text": [
      "(2000, 1)\n"
     ]
    }
   ],
   "source": [
    "data_y = data[-2000:,:]\n",
    "print(data_y.shape)"
   ]
  },
  {
   "cell_type": "code",
   "execution_count": 85,
   "metadata": {},
   "outputs": [
    {
     "name": "stdout",
     "output_type": "stream",
     "text": [
      "[[-3.12605538]\n",
      " [-3.12797475]\n",
      " [-3.11389933]\n",
      " ...\n",
      " [-0.0611329 ]\n",
      " [-0.01848011]\n",
      " [-0.04097946]]\n",
      "(20000, 1)\n"
     ]
    }
   ],
   "source": [
    "data_x = []\n",
    "for r in range(2000):\n",
    "    for c in range(10):\n",
    "        item = []\n",
    "        item.append(data[r+c, 0])\n",
    "        data_x.append(item)\n",
    "data_x = np.array(data_x)\n",
    "print(data_x)\n",
    "print(data_x.shape)"
   ]
  },
  {
   "cell_type": "code",
   "execution_count": 86,
   "metadata": {},
   "outputs": [],
   "source": [
    "data_x=data_x.reshape(2000,10,1)"
   ]
  },
  {
   "cell_type": "code",
   "execution_count": 87,
   "metadata": {},
   "outputs": [
    {
     "data": {
      "text/plain": [
       "(2000, 10, 1)"
      ]
     },
     "execution_count": 87,
     "metadata": {},
     "output_type": "execute_result"
    }
   ],
   "source": [
    "data_x.shape"
   ]
  },
  {
   "cell_type": "code",
   "execution_count": 88,
   "metadata": {},
   "outputs": [],
   "source": [
    "data_x_train = data_x[:,:, :]\n",
    "data_y_train = data_y[:,:]\n",
    "\n",
    "data_x_test = data_x[-200:,:, :]\n",
    "data_y_test = data_y[-200:,:]"
   ]
  },
  {
   "cell_type": "code",
   "execution_count": 89,
   "metadata": {},
   "outputs": [
    {
     "name": "stdout",
     "output_type": "stream",
     "text": [
      "(2000, 10, 1)\n",
      "(2000, 1)\n",
      "(200, 10, 1)\n",
      "(200, 1)\n"
     ]
    }
   ],
   "source": [
    "print(data_x_train.shape)\n",
    "print(data_y_train.shape)\n",
    "print(data_x_test.shape)\n",
    "print(data_y_test.shape)"
   ]
  },
  {
   "cell_type": "code",
   "execution_count": 90,
   "metadata": {},
   "outputs": [],
   "source": [
    "def create_model(output_dim1, num_layer, output_dim2):\n",
    "    model = Sequential()\n",
    "\n",
    "    model.add(LSTM(output_dim=output_dim1, \n",
    "                input_shape=(10, 1),\n",
    "                activation='relu',\n",
    "                return_sequences=True))\n",
    "    for i in range(num_layer):\n",
    "        model.add(LSTM(output_dim=output_dim2,\n",
    "                        activation='tanh',\n",
    "                        return_sequences=True))\n",
    "#     model.add(Dropout(0.1))\n",
    "    model.add(LSTM(output_dim=output_dim2,\n",
    "                        activation='tanh'))\n",
    "    model.add(Dense(1))\n",
    "\n",
    "    model.compile(loss='mse', optimizer='adam', metrics=['mae'])\n",
    "#     model.summary()\n",
    "    return model"
   ]
  },
  {
   "cell_type": "code",
   "execution_count": 13,
   "metadata": {},
   "outputs": [],
   "source": [
    "# #采用暴力搜索，所有参数进行组合，然后选择最好的参数\n",
    "# tuned_parameters=[{'output_dim1':Integer(28, 128),\n",
    "#                    'num_layer':Integer(3,12),\n",
    "#                    'output_dim2':Integer(28, 128)}]\n",
    "# # 'output_dim1':Integer(28, 128),\n",
    "# #             'num_layer':Integer(3,12),\n",
    "# #             'output_dim2':Integer(28, 128)"
   ]
  },
  {
   "cell_type": "code",
   "execution_count": 14,
   "metadata": {},
   "outputs": [],
   "source": [
    "# train_x, test_x, train_y, test_y = train_test_split(data_x, data_y, train_size=0.80, random_state=0)"
   ]
  },
  {
   "cell_type": "code",
   "execution_count": 15,
   "metadata": {
    "scrolled": true
   },
   "outputs": [],
   "source": [
    "# #采用随机搜索，给参数一个范围，然后系统随机选择参数，进行检验，然后选择最好的\n",
    "# tuned_parameters={'output_dim1':[28, 64, 96, 128],\n",
    "#                    'num_layer':[4,5,6],\n",
    "#                    'output_dim2':[28, 64, 96, 128]}\n",
    "\n",
    "# lstm=RandomizedSearchCV(model,tuned_parameters,scoring='neg_mean_squared_error',n_iter=2)\n",
    " \n",
    "# lstm.fit(data_x_train,data_y_train)\n",
    "# print('best parameters:',lstm.best_estimator_)\n",
    "# # print(classification_report(test_y,clf.predict(test_x)))\n",
    "# # print(metrics.confusion_matrix(test_y,clf.predict(test_x)))"
   ]
  },
  {
   "cell_type": "code",
   "execution_count": 16,
   "metadata": {},
   "outputs": [],
   "source": [
    "model=KerasRegressor(build_fn=create_model)"
   ]
  },
  {
   "cell_type": "code",
   "execution_count": 17,
   "metadata": {},
   "outputs": [],
   "source": [
    "bayes_cv_tuner = BayesSearchCV(estimator = model,\n",
    "                               search_spaces = { 'output_dim1':[12,48,64,88,128],\n",
    "                                                'num_layer':[4,5],\n",
    "                                                'output_dim2':[12,48,64,88,128]},\n",
    "                               scoring = 'neg_mean_squared_error',\n",
    "                               cv = 5,\n",
    "                               n_iter = 2,   \n",
    "                               verbose = 1,\n",
    "                               refit = True,\n",
    "                               random_state = 1885,\n",
    "                               return_train_score = True)\n"
   ]
  },
  {
   "cell_type": "code",
   "execution_count": 18,
   "metadata": {},
   "outputs": [],
   "source": [
    "# def status_print(optim_result):\n",
    "#     \"\"\"bayes参数优化过程中．．．\"\"\"\n",
    "\n",
    "#     # Get all the models tested so far in DataFrame format\n",
    "#     all_models = pd.DataFrame(bayes_cv_tuner.cv_results_)    \n",
    "\n",
    "#     # Get current parameters and the best parameters    \n",
    "#     best_params = pd.Series(bayes_cv_tuner.best_params_)\n",
    "#     print('Model #{}\\nBest MSE: {}\\nBest params: {}\\n'.format(\n",
    "#         len(all_models),\n",
    "#         np.round(bayes_cv_tuner.best_score_, 5),\n",
    "#         bayes_cv_tuner.best_params_\n",
    "#     ))\n",
    "\n",
    "#     # Save all model results\n",
    "#     lstm_name = bayes_cv_tuner.estimator.__class__.__name__\n",
    "#     all_models.to_csv(lstm_name+\"_cv_results.csv\")"
   ]
  },
  {
   "cell_type": "code",
   "execution_count": 19,
   "metadata": {
    "scrolled": true
   },
   "outputs": [
    {
     "name": "stdout",
     "output_type": "stream",
     "text": [
      "Fitting 5 folds for each of 1 candidates, totalling 5 fits\n"
     ]
    },
    {
     "name": "stderr",
     "output_type": "stream",
     "text": [
      "[Parallel(n_jobs=1)]: Using backend SequentialBackend with 1 concurrent workers.\n"
     ]
    },
    {
     "name": "stdout",
     "output_type": "stream",
     "text": [
      "WARNING:tensorflow:From e:\\envs\\python36env\\lib\\site-packages\\tensorflow\\python\\framework\\op_def_library.py:263: colocate_with (from tensorflow.python.framework.ops) is deprecated and will be removed in a future version.\n",
      "Instructions for updating:\n",
      "Colocations handled automatically by placer.\n"
     ]
    },
    {
     "name": "stderr",
     "output_type": "stream",
     "text": [
      "e:\\envs\\python36env\\lib\\site-packages\\ipykernel_launcher.py:7: UserWarning: Update your `LSTM` call to the Keras 2 API: `LSTM(input_shape=(10, 1), activation=\"relu\", return_sequences=True, units=64)`\n",
      "  import sys\n",
      "e:\\envs\\python36env\\lib\\site-packages\\ipykernel_launcher.py:11: UserWarning: Update your `LSTM` call to the Keras 2 API: `LSTM(activation=\"tanh\", return_sequences=True, units=88)`\n",
      "  # This is added back by InteractiveShellApp.init_path()\n",
      "e:\\envs\\python36env\\lib\\site-packages\\ipykernel_launcher.py:14: UserWarning: Update your `LSTM` call to the Keras 2 API: `LSTM(activation=\"tanh\", units=88)`\n",
      "  \n"
     ]
    },
    {
     "name": "stdout",
     "output_type": "stream",
     "text": [
      "WARNING:tensorflow:From e:\\envs\\python36env\\lib\\site-packages\\tensorflow\\python\\ops\\math_ops.py:3066: to_int32 (from tensorflow.python.ops.math_ops) is deprecated and will be removed in a future version.\n",
      "Instructions for updating:\n",
      "Use tf.cast instead.\n",
      "Epoch 1/1\n",
      "1600/1600 [==============================] - 18s 12ms/step - loss: 0.0803 - mean_absolute_error: 0.1959\n"
     ]
    },
    {
     "name": "stderr",
     "output_type": "stream",
     "text": [
      "e:\\envs\\python36env\\lib\\site-packages\\ipykernel_launcher.py:7: UserWarning: Update your `LSTM` call to the Keras 2 API: `LSTM(input_shape=(10, 1), activation=\"relu\", return_sequences=True, units=64)`\n",
      "  import sys\n",
      "e:\\envs\\python36env\\lib\\site-packages\\ipykernel_launcher.py:11: UserWarning: Update your `LSTM` call to the Keras 2 API: `LSTM(activation=\"tanh\", return_sequences=True, units=88)`\n",
      "  # This is added back by InteractiveShellApp.init_path()\n",
      "e:\\envs\\python36env\\lib\\site-packages\\ipykernel_launcher.py:14: UserWarning: Update your `LSTM` call to the Keras 2 API: `LSTM(activation=\"tanh\", units=88)`\n",
      "  \n"
     ]
    },
    {
     "name": "stdout",
     "output_type": "stream",
     "text": [
      "Epoch 1/1\n",
      "1600/1600 [==============================] - 20s 12ms/step - loss: 0.0649 - mean_absolute_error: 0.1822\n"
     ]
    },
    {
     "name": "stderr",
     "output_type": "stream",
     "text": [
      "e:\\envs\\python36env\\lib\\site-packages\\ipykernel_launcher.py:7: UserWarning: Update your `LSTM` call to the Keras 2 API: `LSTM(input_shape=(10, 1), activation=\"relu\", return_sequences=True, units=64)`\n",
      "  import sys\n",
      "e:\\envs\\python36env\\lib\\site-packages\\ipykernel_launcher.py:11: UserWarning: Update your `LSTM` call to the Keras 2 API: `LSTM(activation=\"tanh\", return_sequences=True, units=88)`\n",
      "  # This is added back by InteractiveShellApp.init_path()\n",
      "e:\\envs\\python36env\\lib\\site-packages\\ipykernel_launcher.py:14: UserWarning: Update your `LSTM` call to the Keras 2 API: `LSTM(activation=\"tanh\", units=88)`\n",
      "  \n"
     ]
    },
    {
     "name": "stdout",
     "output_type": "stream",
     "text": [
      "Epoch 1/1\n",
      "1600/1600 [==============================] - 22s 14ms/step - loss: 0.0729 - mean_absolute_error: 0.1958\n"
     ]
    },
    {
     "name": "stderr",
     "output_type": "stream",
     "text": [
      "e:\\envs\\python36env\\lib\\site-packages\\ipykernel_launcher.py:7: UserWarning: Update your `LSTM` call to the Keras 2 API: `LSTM(input_shape=(10, 1), activation=\"relu\", return_sequences=True, units=64)`\n",
      "  import sys\n",
      "e:\\envs\\python36env\\lib\\site-packages\\ipykernel_launcher.py:11: UserWarning: Update your `LSTM` call to the Keras 2 API: `LSTM(activation=\"tanh\", return_sequences=True, units=88)`\n",
      "  # This is added back by InteractiveShellApp.init_path()\n",
      "e:\\envs\\python36env\\lib\\site-packages\\ipykernel_launcher.py:14: UserWarning: Update your `LSTM` call to the Keras 2 API: `LSTM(activation=\"tanh\", units=88)`\n",
      "  \n"
     ]
    },
    {
     "name": "stdout",
     "output_type": "stream",
     "text": [
      "Epoch 1/1\n",
      "1600/1600 [==============================] - 25s 16ms/step - loss: 0.0745 - mean_absolute_error: 0.1994\n"
     ]
    },
    {
     "name": "stderr",
     "output_type": "stream",
     "text": [
      "e:\\envs\\python36env\\lib\\site-packages\\ipykernel_launcher.py:7: UserWarning: Update your `LSTM` call to the Keras 2 API: `LSTM(input_shape=(10, 1), activation=\"relu\", return_sequences=True, units=64)`\n",
      "  import sys\n",
      "e:\\envs\\python36env\\lib\\site-packages\\ipykernel_launcher.py:11: UserWarning: Update your `LSTM` call to the Keras 2 API: `LSTM(activation=\"tanh\", return_sequences=True, units=88)`\n",
      "  # This is added back by InteractiveShellApp.init_path()\n",
      "e:\\envs\\python36env\\lib\\site-packages\\ipykernel_launcher.py:14: UserWarning: Update your `LSTM` call to the Keras 2 API: `LSTM(activation=\"tanh\", units=88)`\n",
      "  \n"
     ]
    },
    {
     "name": "stdout",
     "output_type": "stream",
     "text": [
      "Epoch 1/1\n",
      "1600/1600 [==============================] - 28s 17ms/step - loss: 0.0825 - mean_absolute_error: 0.2133\n"
     ]
    },
    {
     "name": "stderr",
     "output_type": "stream",
     "text": [
      "[Parallel(n_jobs=1)]: Done   5 out of   5 | elapsed:  3.9min finished\n",
      "[Parallel(n_jobs=1)]: Using backend SequentialBackend with 1 concurrent workers.\n",
      "e:\\envs\\python36env\\lib\\site-packages\\ipykernel_launcher.py:7: UserWarning: Update your `LSTM` call to the Keras 2 API: `LSTM(input_shape=(10, 1), activation=\"relu\", return_sequences=True, units=64)`\n",
      "  import sys\n"
     ]
    },
    {
     "name": "stdout",
     "output_type": "stream",
     "text": [
      "Fitting 5 folds for each of 1 candidates, totalling 5 fits\n"
     ]
    },
    {
     "name": "stderr",
     "output_type": "stream",
     "text": [
      "e:\\envs\\python36env\\lib\\site-packages\\ipykernel_launcher.py:11: UserWarning: Update your `LSTM` call to the Keras 2 API: `LSTM(activation=\"tanh\", return_sequences=True, units=88)`\n",
      "  # This is added back by InteractiveShellApp.init_path()\n",
      "e:\\envs\\python36env\\lib\\site-packages\\ipykernel_launcher.py:14: UserWarning: Update your `LSTM` call to the Keras 2 API: `LSTM(activation=\"tanh\", units=88)`\n",
      "  \n"
     ]
    },
    {
     "name": "stdout",
     "output_type": "stream",
     "text": [
      "Epoch 1/1\n",
      "1600/1600 [==============================] - 35s 22ms/step - loss: 0.0788 - mean_absolute_error: 0.1989\n"
     ]
    },
    {
     "name": "stderr",
     "output_type": "stream",
     "text": [
      "e:\\envs\\python36env\\lib\\site-packages\\ipykernel_launcher.py:7: UserWarning: Update your `LSTM` call to the Keras 2 API: `LSTM(input_shape=(10, 1), activation=\"relu\", return_sequences=True, units=64)`\n",
      "  import sys\n",
      "e:\\envs\\python36env\\lib\\site-packages\\ipykernel_launcher.py:11: UserWarning: Update your `LSTM` call to the Keras 2 API: `LSTM(activation=\"tanh\", return_sequences=True, units=88)`\n",
      "  # This is added back by InteractiveShellApp.init_path()\n",
      "e:\\envs\\python36env\\lib\\site-packages\\ipykernel_launcher.py:14: UserWarning: Update your `LSTM` call to the Keras 2 API: `LSTM(activation=\"tanh\", units=88)`\n",
      "  \n"
     ]
    },
    {
     "name": "stdout",
     "output_type": "stream",
     "text": [
      "Epoch 1/1\n",
      "1600/1600 [==============================] - 39s 24ms/step - loss: 0.0825 - mean_absolute_error: 0.2124\n"
     ]
    },
    {
     "name": "stderr",
     "output_type": "stream",
     "text": [
      "e:\\envs\\python36env\\lib\\site-packages\\ipykernel_launcher.py:7: UserWarning: Update your `LSTM` call to the Keras 2 API: `LSTM(input_shape=(10, 1), activation=\"relu\", return_sequences=True, units=64)`\n",
      "  import sys\n",
      "e:\\envs\\python36env\\lib\\site-packages\\ipykernel_launcher.py:11: UserWarning: Update your `LSTM` call to the Keras 2 API: `LSTM(activation=\"tanh\", return_sequences=True, units=88)`\n",
      "  # This is added back by InteractiveShellApp.init_path()\n",
      "e:\\envs\\python36env\\lib\\site-packages\\ipykernel_launcher.py:14: UserWarning: Update your `LSTM` call to the Keras 2 API: `LSTM(activation=\"tanh\", units=88)`\n",
      "  \n"
     ]
    },
    {
     "name": "stdout",
     "output_type": "stream",
     "text": [
      "Epoch 1/1\n",
      "1600/1600 [==============================] - 41s 26ms/step - loss: 0.0790 - mean_absolute_error: 0.2042\n"
     ]
    },
    {
     "name": "stderr",
     "output_type": "stream",
     "text": [
      "e:\\envs\\python36env\\lib\\site-packages\\ipykernel_launcher.py:7: UserWarning: Update your `LSTM` call to the Keras 2 API: `LSTM(input_shape=(10, 1), activation=\"relu\", return_sequences=True, units=64)`\n",
      "  import sys\n",
      "e:\\envs\\python36env\\lib\\site-packages\\ipykernel_launcher.py:11: UserWarning: Update your `LSTM` call to the Keras 2 API: `LSTM(activation=\"tanh\", return_sequences=True, units=88)`\n",
      "  # This is added back by InteractiveShellApp.init_path()\n",
      "e:\\envs\\python36env\\lib\\site-packages\\ipykernel_launcher.py:14: UserWarning: Update your `LSTM` call to the Keras 2 API: `LSTM(activation=\"tanh\", units=88)`\n",
      "  \n"
     ]
    },
    {
     "name": "stdout",
     "output_type": "stream",
     "text": [
      "Epoch 1/1\n",
      "1600/1600 [==============================] - 37s 23ms/step - loss: 0.0960 - mean_absolute_error: 0.2344\n"
     ]
    },
    {
     "name": "stderr",
     "output_type": "stream",
     "text": [
      "e:\\envs\\python36env\\lib\\site-packages\\ipykernel_launcher.py:7: UserWarning: Update your `LSTM` call to the Keras 2 API: `LSTM(input_shape=(10, 1), activation=\"relu\", return_sequences=True, units=64)`\n",
      "  import sys\n",
      "e:\\envs\\python36env\\lib\\site-packages\\ipykernel_launcher.py:11: UserWarning: Update your `LSTM` call to the Keras 2 API: `LSTM(activation=\"tanh\", return_sequences=True, units=88)`\n",
      "  # This is added back by InteractiveShellApp.init_path()\n",
      "e:\\envs\\python36env\\lib\\site-packages\\ipykernel_launcher.py:14: UserWarning: Update your `LSTM` call to the Keras 2 API: `LSTM(activation=\"tanh\", units=88)`\n",
      "  \n"
     ]
    },
    {
     "name": "stdout",
     "output_type": "stream",
     "text": [
      "Epoch 1/1\n",
      "1600/1600 [==============================] - 46s 29ms/step - loss: 0.0842 - mean_absolute_error: 0.2187\n"
     ]
    },
    {
     "name": "stderr",
     "output_type": "stream",
     "text": [
      "[Parallel(n_jobs=1)]: Done   5 out of   5 | elapsed:  6.0min finished\n",
      "e:\\envs\\python36env\\lib\\site-packages\\ipykernel_launcher.py:7: UserWarning: Update your `LSTM` call to the Keras 2 API: `LSTM(input_shape=(10, 1), activation=\"relu\", return_sequences=True, units=64)`\n",
      "  import sys\n",
      "e:\\envs\\python36env\\lib\\site-packages\\ipykernel_launcher.py:11: UserWarning: Update your `LSTM` call to the Keras 2 API: `LSTM(activation=\"tanh\", return_sequences=True, units=88)`\n",
      "  # This is added back by InteractiveShellApp.init_path()\n",
      "e:\\envs\\python36env\\lib\\site-packages\\ipykernel_launcher.py:14: UserWarning: Update your `LSTM` call to the Keras 2 API: `LSTM(activation=\"tanh\", units=88)`\n",
      "  \n"
     ]
    },
    {
     "name": "stdout",
     "output_type": "stream",
     "text": [
      "Epoch 1/1\n",
      "2000/2000 [==============================] - 47s 24ms/step - loss: 0.0625 - mean_absolute_error: 0.1774\n"
     ]
    },
    {
     "data": {
      "text/plain": [
       "BayesSearchCV(cv=5, error_score='raise',\n",
       "              estimator=<keras.wrappers.scikit_learn.KerasRegressor object at 0x00000183065D75F8>,\n",
       "              fit_params=None, iid=True, n_iter=2, n_jobs=1, n_points=1,\n",
       "              optimizer_kwargs=None, pre_dispatch='2*n_jobs', random_state=1885,\n",
       "              refit=True, return_train_score=True,\n",
       "              scoring='neg_mean_squared_error',\n",
       "              search_spaces={'num_layer': [4, 5],\n",
       "                             'output_dim1': [12, 48, 64, 88, 128],\n",
       "                             'output_dim2': [12, 48, 64, 88, 128]},\n",
       "              verbose=1)"
      ]
     },
     "execution_count": 19,
     "metadata": {},
     "output_type": "execute_result"
    }
   ],
   "source": [
    "bayes_cv_tuner.fit(data_x,data_y)\n",
    "# bayes_cv_tuner.fit(data_x,data_y)"
   ]
  },
  {
   "cell_type": "code",
   "execution_count": 20,
   "metadata": {},
   "outputs": [
    {
     "data": {
      "text/plain": [
       "OrderedDict([('num_layer', 4), ('output_dim1', 64), ('output_dim2', 88)])"
      ]
     },
     "execution_count": 20,
     "metadata": {},
     "output_type": "execute_result"
    }
   ],
   "source": [
    "bayes_cv_tuner.best_params_"
   ]
  },
  {
   "cell_type": "code",
   "execution_count": 91,
   "metadata": {},
   "outputs": [
    {
     "name": "stderr",
     "output_type": "stream",
     "text": [
      "e:\\envs\\python36env\\lib\\site-packages\\ipykernel_launcher.py:7: UserWarning: Update your `LSTM` call to the Keras 2 API: `LSTM(input_shape=(10, 1), activation=\"relu\", return_sequences=True, units=64)`\n",
      "  import sys\n",
      "e:\\envs\\python36env\\lib\\site-packages\\ipykernel_launcher.py:11: UserWarning: Update your `LSTM` call to the Keras 2 API: `LSTM(activation=\"tanh\", return_sequences=True, units=88)`\n",
      "  # This is added back by InteractiveShellApp.init_path()\n",
      "e:\\envs\\python36env\\lib\\site-packages\\ipykernel_launcher.py:14: UserWarning: Update your `LSTM` call to the Keras 2 API: `LSTM(activation=\"tanh\", units=88)`\n",
      "  \n"
     ]
    }
   ],
   "source": [
    "model = create_model(64, 4, 88)"
   ]
  },
  {
   "cell_type": "code",
   "execution_count": 92,
   "metadata": {
    "scrolled": false
   },
   "outputs": [
    {
     "name": "stdout",
     "output_type": "stream",
     "text": [
      "Epoch 1/50\n",
      "2000/2000 [==============================] - 46s 23ms/step - loss: 0.9492 - mean_absolute_error: 0.7127\n",
      "Epoch 2/50\n",
      "2000/2000 [==============================] - 19s 9ms/step - loss: 0.8772 - mean_absolute_error: 0.6812\n",
      "Epoch 3/50\n",
      "2000/2000 [==============================] - 19s 9ms/step - loss: 0.5754 - mean_absolute_error: 0.5402\n",
      "Epoch 4/50\n",
      "2000/2000 [==============================] - 18s 9ms/step - loss: 0.1942 - mean_absolute_error: 0.3316\n",
      "Epoch 5/50\n",
      "2000/2000 [==============================] - 18s 9ms/step - loss: 0.1226 - mean_absolute_error: 0.2714\n",
      "Epoch 6/50\n",
      "2000/2000 [==============================] - 18s 9ms/step - loss: 0.1019 - mean_absolute_error: 0.2353\n",
      "Epoch 7/50\n",
      "2000/2000 [==============================] - 18s 9ms/step - loss: 0.0781 - mean_absolute_error: 0.2063\n",
      "Epoch 8/50\n",
      "2000/2000 [==============================] - 17s 9ms/step - loss: 0.0767 - mean_absolute_error: 0.2137\n",
      "Epoch 9/50\n",
      "2000/2000 [==============================] - 19s 9ms/step - loss: 0.0578 - mean_absolute_error: 0.1970\n",
      "Epoch 10/50\n",
      "2000/2000 [==============================] - 18s 9ms/step - loss: 0.0455 - mean_absolute_error: 0.1635\n",
      "Epoch 11/50\n",
      "2000/2000 [==============================] - 19s 9ms/step - loss: 0.0469 - mean_absolute_error: 0.1670\n",
      "Epoch 12/50\n",
      "2000/2000 [==============================] - 18s 9ms/step - loss: 0.0443 - mean_absolute_error: 0.1566\n",
      "Epoch 13/50\n",
      "2000/2000 [==============================] - 18s 9ms/step - loss: 0.0379 - mean_absolute_error: 0.1458\n",
      "Epoch 14/50\n",
      "2000/2000 [==============================] - 19s 9ms/step - loss: 0.0356 - mean_absolute_error: 0.1421\n",
      "Epoch 15/50\n",
      "2000/2000 [==============================] - 18s 9ms/step - loss: 0.0346 - mean_absolute_error: 0.1408\n",
      "Epoch 16/50\n",
      "2000/2000 [==============================] - 19s 9ms/step - loss: 0.0334 - mean_absolute_error: 0.1384\n",
      "Epoch 17/50\n",
      "2000/2000 [==============================] - 19s 9ms/step - loss: 0.0325 - mean_absolute_error: 0.1359\n",
      "Epoch 18/50\n",
      "2000/2000 [==============================] - 19s 9ms/step - loss: 0.0320 - mean_absolute_error: 0.1342\n",
      "Epoch 19/50\n",
      "2000/2000 [==============================] - 19s 9ms/step - loss: 0.0314 - mean_absolute_error: 0.1331\n",
      "Epoch 20/50\n",
      "2000/2000 [==============================] - 18s 9ms/step - loss: 0.0313 - mean_absolute_error: 0.1331\n",
      "Epoch 21/50\n",
      "2000/2000 [==============================] - 19s 9ms/step - loss: 0.0313 - mean_absolute_error: 0.1331\n",
      "Epoch 22/50\n",
      "2000/2000 [==============================] - 19s 9ms/step - loss: 0.0310 - mean_absolute_error: 0.1322\n",
      "Epoch 23/50\n",
      "2000/2000 [==============================] - 19s 9ms/step - loss: 0.0307 - mean_absolute_error: 0.1317\n",
      "Epoch 24/50\n",
      "2000/2000 [==============================] - 19s 9ms/step - loss: 0.0306 - mean_absolute_error: 0.1309\n",
      "Epoch 25/50\n",
      "2000/2000 [==============================] - 19s 9ms/step - loss: 0.0304 - mean_absolute_error: 0.1306\n",
      "Epoch 26/50\n",
      "2000/2000 [==============================] - 19s 9ms/step - loss: 0.0303 - mean_absolute_error: 0.1309\n",
      "Epoch 27/50\n",
      "2000/2000 [==============================] - 18s 9ms/step - loss: 0.0301 - mean_absolute_error: 0.1298\n",
      "Epoch 28/50\n",
      "2000/2000 [==============================] - 18s 9ms/step - loss: 0.0300 - mean_absolute_error: 0.1297\n",
      "Epoch 29/50\n",
      "2000/2000 [==============================] - 19s 9ms/step - loss: 0.0300 - mean_absolute_error: 0.1292\n",
      "Epoch 30/50\n",
      "2000/2000 [==============================] - 19s 9ms/step - loss: 0.0298 - mean_absolute_error: 0.1293\n",
      "Epoch 31/50\n",
      "2000/2000 [==============================] - 19s 9ms/step - loss: 0.0296 - mean_absolute_error: 0.1287\n",
      "Epoch 32/50\n",
      "2000/2000 [==============================] - 19s 9ms/step - loss: 0.0295 - mean_absolute_error: 0.1280\n",
      "Epoch 33/50\n",
      "2000/2000 [==============================] - 19s 9ms/step - loss: 0.0295 - mean_absolute_error: 0.1288\n",
      "Epoch 34/50\n",
      "2000/2000 [==============================] - 19s 9ms/step - loss: 0.0295 - mean_absolute_error: 0.1276\n",
      "Epoch 35/50\n",
      "2000/2000 [==============================] - 19s 9ms/step - loss: 0.0295 - mean_absolute_error: 0.1287\n",
      "Epoch 36/50\n",
      "2000/2000 [==============================] - 19s 9ms/step - loss: 0.0292 - mean_absolute_error: 0.1272\n",
      "Epoch 37/50\n",
      "2000/2000 [==============================] - 19s 9ms/step - loss: 0.0290 - mean_absolute_error: 0.1265\n",
      "Epoch 38/50\n",
      "2000/2000 [==============================] - 19s 9ms/step - loss: 0.0292 - mean_absolute_error: 0.1282\n",
      "Epoch 39/50\n",
      "2000/2000 [==============================] - 19s 9ms/step - loss: 0.0290 - mean_absolute_error: 0.1263\n",
      "Epoch 40/50\n",
      "2000/2000 [==============================] - 19s 9ms/step - loss: 0.0287 - mean_absolute_error: 0.1264\n",
      "Epoch 41/50\n",
      "2000/2000 [==============================] - 19s 9ms/step - loss: 0.0289 - mean_absolute_error: 0.1265\n",
      "Epoch 42/50\n",
      "2000/2000 [==============================] - 19s 9ms/step - loss: 0.0290 - mean_absolute_error: 0.1272\n",
      "Epoch 43/50\n",
      "2000/2000 [==============================] - 19s 9ms/step - loss: 0.0290 - mean_absolute_error: 0.1264\n",
      "Epoch 44/50\n",
      "2000/2000 [==============================] - 18s 9ms/step - loss: 0.0285 - mean_absolute_error: 0.1261\n",
      "Epoch 45/50\n",
      "2000/2000 [==============================] - 19s 9ms/step - loss: 0.0282 - mean_absolute_error: 0.1250\n",
      "Epoch 46/50\n",
      "2000/2000 [==============================] - 19s 9ms/step - loss: 0.0283 - mean_absolute_error: 0.1245\n",
      "Epoch 47/50\n",
      "2000/2000 [==============================] - 19s 9ms/step - loss: 0.0281 - mean_absolute_error: 0.1251\n",
      "Epoch 48/50\n",
      "2000/2000 [==============================] - 19s 9ms/step - loss: 0.0281 - mean_absolute_error: 0.1241\n",
      "Epoch 49/50\n",
      "2000/2000 [==============================] - 19s 9ms/step - loss: 0.0279 - mean_absolute_error: 0.1244\n",
      "Epoch 50/50\n",
      "2000/2000 [==============================] - 19s 9ms/step - loss: 0.0277 - mean_absolute_error: 0.1233\n"
     ]
    },
    {
     "data": {
      "text/plain": [
       "<keras.callbacks.History at 0x183acd31d30>"
      ]
     },
     "execution_count": 92,
     "metadata": {},
     "output_type": "execute_result"
    }
   ],
   "source": [
    "model.fit(data_x_train, data_y_train, epochs=50, batch_size=500, verbose=1)"
   ]
  },
  {
   "cell_type": "code",
   "execution_count": 93,
   "metadata": {},
   "outputs": [
    {
     "name": "stdout",
     "output_type": "stream",
     "text": [
      "200/200 [==============================] - 9s 46ms/step\n",
      "\n",
      "test loss 0.02610\n",
      "mae 0.10358\n"
     ]
    }
   ],
   "source": [
    "# 评估模型,不输出预测结果\n",
    "loss,mae= model.evaluate(data_x_test,data_y_test)\n",
    "print('\\ntest loss','{:.5f}'.format(loss))\n",
    "print('mae','{:.5f}'.format(mae))"
   ]
  },
  {
   "cell_type": "code",
   "execution_count": 94,
   "metadata": {},
   "outputs": [],
   "source": [
    "y_pred = model.predict(data_x_test,batch_size = 1)"
   ]
  },
  {
   "cell_type": "code",
   "execution_count": 25,
   "metadata": {},
   "outputs": [],
   "source": [
    "# y_pred[-10:]"
   ]
  },
  {
   "cell_type": "code",
   "execution_count": 26,
   "metadata": {},
   "outputs": [],
   "source": [
    "# data_y_test[-10:,0]"
   ]
  },
  {
   "cell_type": "code",
   "execution_count": 27,
   "metadata": {},
   "outputs": [],
   "source": [
    "# data_x_test[-10:,0,-1]"
   ]
  },
  {
   "cell_type": "code",
   "execution_count": 28,
   "metadata": {},
   "outputs": [],
   "source": [
    "# t = []\n",
    "# for i in range(1000):\n",
    "#     if data_y_test[:,0][i]>data_x_test[:,0,-1][i]:\n",
    "#         t.append(1)\n",
    "#     else:\n",
    "#         t.append(0)\n",
    "# len(t)"
   ]
  },
  {
   "cell_type": "code",
   "execution_count": 29,
   "metadata": {},
   "outputs": [],
   "source": [
    "# p = []\n",
    "# for i in range(1000):\n",
    "#     if y_pred[:,0][i]>data_x_test[:,0,-1][i]:\n",
    "#         p.append(1)\n",
    "#     else:\n",
    "#         p.append(0)\n",
    "# len(p)"
   ]
  },
  {
   "cell_type": "code",
   "execution_count": 30,
   "metadata": {},
   "outputs": [],
   "source": [
    "# n = 0\n",
    "# for i in range(1000):\n",
    "#     if t[i]==p[i]:\n",
    "#         n=n+1\n",
    "# n/1000"
   ]
  },
  {
   "cell_type": "code",
   "execution_count": 31,
   "metadata": {},
   "outputs": [],
   "source": [
    "# model.save('model.h5')#保存名为model的h5文件到程序所在目录"
   ]
  },
  {
   "cell_type": "code",
   "execution_count": 32,
   "metadata": {},
   "outputs": [],
   "source": [
    "# data_x_test.shape"
   ]
  },
  {
   "cell_type": "code",
   "execution_count": 33,
   "metadata": {},
   "outputs": [],
   "source": [
    "# model.predict(data_x_test,batch_size = 1)"
   ]
  },
  {
   "cell_type": "code",
   "execution_count": 34,
   "metadata": {},
   "outputs": [],
   "source": [
    "# x_pred = [1.08244, 1.0776, 1.08229, 1.08564, 1.08607, 1.08739, 1.08386, 1.09066, 1.09798, 1.0912]\n",
    "# "
   ]
  },
  {
   "cell_type": "code",
   "execution_count": 35,
   "metadata": {},
   "outputs": [],
   "source": [
    "# x_pred = np.array(x_pred).reshape(1,10,1)"
   ]
  },
  {
   "cell_type": "code",
   "execution_count": 36,
   "metadata": {},
   "outputs": [],
   "source": [
    "# x_pred.shape"
   ]
  },
  {
   "cell_type": "code",
   "execution_count": 37,
   "metadata": {},
   "outputs": [],
   "source": [
    "# model.predict(x_pred,batch_size = 1).tolist()[0][0]"
   ]
  },
  {
   "cell_type": "code",
   "execution_count": 38,
   "metadata": {},
   "outputs": [],
   "source": [
    "# y_pred.shape"
   ]
  },
  {
   "cell_type": "code",
   "execution_count": 39,
   "metadata": {},
   "outputs": [],
   "source": [
    "# y_pred"
   ]
  },
  {
   "cell_type": "code",
   "execution_count": 95,
   "metadata": {},
   "outputs": [],
   "source": [
    "y_t = data_y_test.reshape(200)"
   ]
  },
  {
   "cell_type": "code",
   "execution_count": 96,
   "metadata": {},
   "outputs": [],
   "source": [
    "y_p = y_pred.reshape(200)"
   ]
  },
  {
   "cell_type": "code",
   "execution_count": 97,
   "metadata": {},
   "outputs": [],
   "source": [
    " df_test_output = pd.DataFrame(columns=['真实值', '预测值'])"
   ]
  },
  {
   "cell_type": "code",
   "execution_count": 98,
   "metadata": {},
   "outputs": [],
   "source": [
    "df_test_output['真实值'] = y_t"
   ]
  },
  {
   "cell_type": "code",
   "execution_count": 99,
   "metadata": {},
   "outputs": [],
   "source": [
    "df_test_output['预测值'] = y_p"
   ]
  },
  {
   "cell_type": "code",
   "execution_count": 100,
   "metadata": {},
   "outputs": [
    {
     "data": {
      "text/html": [
       "<div>\n",
       "<style scoped>\n",
       "    .dataframe tbody tr th:only-of-type {\n",
       "        vertical-align: middle;\n",
       "    }\n",
       "\n",
       "    .dataframe tbody tr th {\n",
       "        vertical-align: top;\n",
       "    }\n",
       "\n",
       "    .dataframe thead th {\n",
       "        text-align: right;\n",
       "    }\n",
       "</style>\n",
       "<table border=\"1\" class=\"dataframe\">\n",
       "  <thead>\n",
       "    <tr style=\"text-align: right;\">\n",
       "      <th></th>\n",
       "      <th>真实值</th>\n",
       "      <th>预测值</th>\n",
       "    </tr>\n",
       "  </thead>\n",
       "  <tbody>\n",
       "    <tr>\n",
       "      <th>0</th>\n",
       "      <td>-0.209458</td>\n",
       "      <td>-0.074198</td>\n",
       "    </tr>\n",
       "    <tr>\n",
       "      <th>1</th>\n",
       "      <td>-0.186319</td>\n",
       "      <td>-0.134611</td>\n",
       "    </tr>\n",
       "    <tr>\n",
       "      <th>2</th>\n",
       "      <td>-0.159874</td>\n",
       "      <td>-0.165903</td>\n",
       "    </tr>\n",
       "    <tr>\n",
       "      <th>3</th>\n",
       "      <td>-0.132043</td>\n",
       "      <td>-0.178199</td>\n",
       "    </tr>\n",
       "    <tr>\n",
       "      <th>4</th>\n",
       "      <td>-0.175549</td>\n",
       "      <td>-0.176059</td>\n",
       "    </tr>\n",
       "    <tr>\n",
       "      <th>...</th>\n",
       "      <td>...</td>\n",
       "      <td>...</td>\n",
       "    </tr>\n",
       "    <tr>\n",
       "      <th>195</th>\n",
       "      <td>-0.075102</td>\n",
       "      <td>-0.123765</td>\n",
       "    </tr>\n",
       "    <tr>\n",
       "      <th>196</th>\n",
       "      <td>-0.061133</td>\n",
       "      <td>-0.129690</td>\n",
       "    </tr>\n",
       "    <tr>\n",
       "      <th>197</th>\n",
       "      <td>-0.018480</td>\n",
       "      <td>-0.127450</td>\n",
       "    </tr>\n",
       "    <tr>\n",
       "      <th>198</th>\n",
       "      <td>-0.040979</td>\n",
       "      <td>-0.116328</td>\n",
       "    </tr>\n",
       "    <tr>\n",
       "      <th>199</th>\n",
       "      <td>-0.028823</td>\n",
       "      <td>-0.092130</td>\n",
       "    </tr>\n",
       "  </tbody>\n",
       "</table>\n",
       "<p>200 rows × 2 columns</p>\n",
       "</div>"
      ],
      "text/plain": [
       "          真实值       预测值\n",
       "0   -0.209458 -0.074198\n",
       "1   -0.186319 -0.134611\n",
       "2   -0.159874 -0.165903\n",
       "3   -0.132043 -0.178199\n",
       "4   -0.175549 -0.176059\n",
       "..        ...       ...\n",
       "195 -0.075102 -0.123765\n",
       "196 -0.061133 -0.129690\n",
       "197 -0.018480 -0.127450\n",
       "198 -0.040979 -0.116328\n",
       "199 -0.028823 -0.092130\n",
       "\n",
       "[200 rows x 2 columns]"
      ]
     },
     "execution_count": 100,
     "metadata": {},
     "output_type": "execute_result"
    }
   ],
   "source": [
    "df_test_output"
   ]
  },
  {
   "cell_type": "code",
   "execution_count": 101,
   "metadata": {},
   "outputs": [
    {
     "data": {
      "image/png": "[encoded data removed]",
      "text/plain": [
       "<Figure size 432x288 with 1 Axes>"
      ]
     },
     "metadata": {
      "needs_background": "light"
     },
     "output_type": "display_data"
    }
   ],
   "source": [
    "x_axix = range(200)\n",
    "#x_axix，train_pn_dis这些都是长度相同的list()\n",
    "\n",
    "#开始画图\n",
    "plt.title('Result Analysis')\n",
    "plt.plot(x_axix, y_t, color='green', label='true')\n",
    "plt.plot(x_axix, y_p, color='red', label='pred')\n",
    "plt.legend() # 显示图例\n",
    "\n",
    "# plt.xlabel('iteration times')\n",
    "# plt.ylabel('rate')\n",
    "plt.show()"
   ]
  },
  {
   "cell_type": "code",
   "execution_count": 102,
   "metadata": {},
   "outputs": [],
   "source": [
    "mean = np.mean(data_origin, axis=0)\n",
    "std = np.std(data_origin, axis=0)"
   ]
  },
  {
   "cell_type": "code",
   "execution_count": 110,
   "metadata": {},
   "outputs": [
    {
     "name": "stdout",
     "output_type": "stream",
     "text": [
      "[107.86830746]\n"
     ]
    }
   ],
   "source": [
    "print(mean)"
   ]
  },
  {
   "cell_type": "code",
   "execution_count": 111,
   "metadata": {},
   "outputs": [
    {
     "name": "stdout",
     "output_type": "stream",
     "text": [
      "[9.37805123]\n"
     ]
    }
   ],
   "source": [
    "print(std)"
   ]
  },
  {
   "cell_type": "code",
   "execution_count": null,
   "metadata": {},
   "outputs": [],
   "source": []
  },
  {
   "cell_type": "code",
   "execution_count": 47,
   "metadata": {},
   "outputs": [],
   "source": [
    "# df_test_output.to_csv('EURUSD_test_output.csv',encoding='utf_8_sig')"
   ]
  },
  {
   "cell_type": "code",
   "execution_count": 48,
   "metadata": {},
   "outputs": [],
   "source": [
    "# y_t.tolist()"
   ]
  },
  {
   "cell_type": "code",
   "execution_count": 49,
   "metadata": {},
   "outputs": [],
   "source": [
    "# y_p.tolist()"
   ]
  },
  {
   "cell_type": "code",
   "execution_count": 50,
   "metadata": {},
   "outputs": [],
   "source": [
    "# data_max = np.max(data_origin)\n",
    "# data_min = np.min(data_origin)\n",
    "# print(data_max)\n",
    "# print(data_min)"
   ]
  },
  {
   "cell_type": "code",
   "execution_count": 104,
   "metadata": {},
   "outputs": [],
   "source": [
    "y_pred_to_origin = []\n",
    "for i in y_p:\n",
    "    y = i*std + mean\n",
    "    y_pred_to_origin.append(y)"
   ]
  },
  {
   "cell_type": "code",
   "execution_count": 105,
   "metadata": {},
   "outputs": [
    {
     "data": {
      "text/plain": [
       "200"
      ]
     },
     "execution_count": 105,
     "metadata": {},
     "output_type": "execute_result"
    }
   ],
   "source": [
    "len(y_pred_to_origin)"
   ]
  },
  {
   "cell_type": "code",
   "execution_count": 106,
   "metadata": {},
   "outputs": [],
   "source": [
    "y_test_to_origin=data_origin[-200:,:]"
   ]
  },
  {
   "cell_type": "code",
   "execution_count": 107,
   "metadata": {},
   "outputs": [
    {
     "data": {
      "text/plain": [
       "200"
      ]
     },
     "execution_count": 107,
     "metadata": {},
     "output_type": "execute_result"
    }
   ],
   "source": [
    "len(y_test_to_origin)"
   ]
  },
  {
   "cell_type": "code",
   "execution_count": 108,
   "metadata": {},
   "outputs": [
    {
     "data": {
      "image/png": "[encoded data removed]",
      "text/plain": [
       "<Figure size 432x288 with 1 Axes>"
      ]
     },
     "metadata": {
      "needs_background": "light"
     },
     "output_type": "display_data"
    }
   ],
   "source": [
    "x_axix = range(200)\n",
    "#x_axix，train_pn_dis这些都是长度相同的list()\n",
    "\n",
    "#开始画图\n",
    "plt.title('Result Analysis')\n",
    "plt.plot(x_axix, y_test_to_origin, color='green', label='true')\n",
    "plt.plot(x_axix, y_pred_to_origin, color='red', label='pred')\n",
    "plt.legend() # 显示图例\n",
    "\n",
    "# plt.xlabel('iteration times')\n",
    "# plt.ylabel('rate')\n",
    "plt.show()"
   ]
  },
  {
   "cell_type": "code",
   "execution_count": 109,
   "metadata": {},
   "outputs": [],
   "source": [
    "model.save('USDJPY_pre_model.h5')#保存名为model的h5文件到程序所在目录"
   ]
  },
  {
   "cell_type": "code",
   "execution_count": null,
   "metadata": {},
   "outputs": [],
   "source": []
  }
 ],
 "metadata": {
  "kernelspec": {
   "display_name": "Python 3",
   "language": "python",
   "name": "python3"
  },
  "language_info": {
   "codemirror_mode": {
    "name": "ipython",
    "version": 3
   },
   "file_extension": ".py",
   "mimetype": "text/x-python",
   "name": "python",
   "nbconvert_exporter": "python",
   "pygments_lexer": "ipython3",
   "version": "3.6.5"
  }
 },
 "nbformat": 4,
 "nbformat_minor": 4
}
