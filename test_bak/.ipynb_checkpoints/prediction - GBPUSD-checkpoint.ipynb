{
 "cells": [
  {
   "cell_type": "code",
   "execution_count": 1,
   "metadata": {
    "scrolled": false
   },
   "outputs": [
    {
     "name": "stderr",
     "output_type": "stream",
     "text": [
      "Using TensorFlow backend.\n",
      "e:\\envs\\python36env\\lib\\site-packages\\tensorflow\\python\\framework\\dtypes.py:526: FutureWarning: Passing (type, 1) or '1type' as a synonym of type is deprecated; in a future version of numpy, it will be understood as (type, (1,)) / '(1,)type'.\n",
      "  _np_qint8 = np.dtype([(\"qint8\", np.int8, 1)])\n",
      "e:\\envs\\python36env\\lib\\site-packages\\tensorflow\\python\\framework\\dtypes.py:527: FutureWarning: Passing (type, 1) or '1type' as a synonym of type is deprecated; in a future version of numpy, it will be understood as (type, (1,)) / '(1,)type'.\n",
      "  _np_quint8 = np.dtype([(\"quint8\", np.uint8, 1)])\n",
      "e:\\envs\\python36env\\lib\\site-packages\\tensorflow\\python\\framework\\dtypes.py:528: FutureWarning: Passing (type, 1) or '1type' as a synonym of type is deprecated; in a future version of numpy, it will be understood as (type, (1,)) / '(1,)type'.\n",
      "  _np_qint16 = np.dtype([(\"qint16\", np.int16, 1)])\n",
      "e:\\envs\\python36env\\lib\\site-packages\\tensorflow\\python\\framework\\dtypes.py:529: FutureWarning: Passing (type, 1) or '1type' as a synonym of type is deprecated; in a future version of numpy, it will be understood as (type, (1,)) / '(1,)type'.\n",
      "  _np_quint16 = np.dtype([(\"quint16\", np.uint16, 1)])\n",
      "e:\\envs\\python36env\\lib\\site-packages\\tensorflow\\python\\framework\\dtypes.py:530: FutureWarning: Passing (type, 1) or '1type' as a synonym of type is deprecated; in a future version of numpy, it will be understood as (type, (1,)) / '(1,)type'.\n",
      "  _np_qint32 = np.dtype([(\"qint32\", np.int32, 1)])\n",
      "e:\\envs\\python36env\\lib\\site-packages\\tensorflow\\python\\framework\\dtypes.py:535: FutureWarning: Passing (type, 1) or '1type' as a synonym of type is deprecated; in a future version of numpy, it will be understood as (type, (1,)) / '(1,)type'.\n",
      "  np_resource = np.dtype([(\"resource\", np.ubyte, 1)])\n"
     ]
    }
   ],
   "source": [
    "import numpy as np \n",
    "import pandas as pd \n",
    "import matplotlib.pyplot as plt \n",
    "from sklearn import preprocessing\n",
    "from keras.layers.core import Dense, Activation, Dropout\n",
    "from keras.layers.recurrent import LSTM\n",
    "from keras.models import Sequential\n",
    "from keras import metrics\n",
    "from sklearn.model_selection import train_test_split\n",
    "from skopt import BayesSearchCV\n",
    "from keras.wrappers.scikit_learn import KerasRegressor"
   ]
  },
  {
   "cell_type": "code",
   "execution_count": 2,
   "metadata": {},
   "outputs": [],
   "source": [
    "data_csv = pd.read_csv('GBPUSD_data_D1.csv')"
   ]
  },
  {
   "cell_type": "code",
   "execution_count": 3,
   "metadata": {},
   "outputs": [],
   "source": [
    "data_csv.drop(['Unnamed: 0'], axis=1, inplace=True)"
   ]
  },
  {
   "cell_type": "code",
   "execution_count": 4,
   "metadata": {},
   "outputs": [
    {
     "name": "stdout",
     "output_type": "stream",
     "text": [
      "        close\n",
      "0     1.58809\n",
      "1     1.58578\n",
      "2     1.58089\n",
      "3     1.57886\n",
      "4     1.58176\n",
      "...       ...\n",
      "2005  1.21020\n",
      "2006  1.21937\n",
      "2007  1.22502\n",
      "2008  1.22363\n",
      "2009  1.22161\n",
      "\n",
      "[2010 rows x 1 columns]\n"
     ]
    }
   ],
   "source": [
    "print(data_csv)"
   ]
  },
  {
   "cell_type": "code",
   "execution_count": 5,
   "metadata": {},
   "outputs": [
    {
     "data": {
      "text/plain": [
       "array([[0.77503379],\n",
       "       [0.77097924],\n",
       "       [0.76239622],\n",
       "       ...,\n",
       "       [0.13776701],\n",
       "       [0.13532726],\n",
       "       [0.13178172]])"
      ]
     },
     "execution_count": 5,
     "metadata": {},
     "output_type": "execute_result"
    }
   ],
   "source": [
    "data_origin = np.array(data_csv)\n",
    "# #Max-Min标准化\n",
    "# #建立MinMaxScaler对象\n",
    "# scaler = preprocessing.StandardScaler()\n",
    "# # 标准化处理\n",
    "scaler = preprocessing.MinMaxScaler()\n",
    "data = scaler.fit_transform(data_origin)\n",
    "\n",
    "data"
   ]
  },
  {
   "cell_type": "code",
   "execution_count": 6,
   "metadata": {},
   "outputs": [
    {
     "name": "stdout",
     "output_type": "stream",
     "text": [
      "(2000, 1)\n"
     ]
    }
   ],
   "source": [
    "data_y = data[-2000:,:]\n",
    "print(data_y.shape)"
   ]
  },
  {
   "cell_type": "code",
   "execution_count": 7,
   "metadata": {},
   "outputs": [
    {
     "name": "stdout",
     "output_type": "stream",
     "text": [
      "[[0.77503379]\n",
      " [0.77097924]\n",
      " [0.76239622]\n",
      " ...\n",
      " [0.12785003]\n",
      " [0.13776701]\n",
      " [0.13532726]]\n",
      "(20000, 1)\n"
     ]
    }
   ],
   "source": [
    "data_x = []\n",
    "for r in range(2000):\n",
    "    for c in range(10):\n",
    "        item = []\n",
    "        item.append(data[r+c, 0])\n",
    "        data_x.append(item)\n",
    "data_x = np.array(data_x)\n",
    "print(data_x)\n",
    "print(data_x.shape)"
   ]
  },
  {
   "cell_type": "code",
   "execution_count": 8,
   "metadata": {},
   "outputs": [],
   "source": [
    "data_x=data_x.reshape(2000,10,1)"
   ]
  },
  {
   "cell_type": "code",
   "execution_count": 9,
   "metadata": {},
   "outputs": [
    {
     "data": {
      "text/plain": [
       "(2000, 10, 1)"
      ]
     },
     "execution_count": 9,
     "metadata": {},
     "output_type": "execute_result"
    }
   ],
   "source": [
    "data_x.shape"
   ]
  },
  {
   "cell_type": "code",
   "execution_count": 10,
   "metadata": {},
   "outputs": [],
   "source": [
    "data_x_train = data_x[:,:, :]\n",
    "data_y_train = data_y[:,:]\n",
    "\n",
    "data_x_test = data_x[-200:,:, :]\n",
    "data_y_test = data_y[-200:,:]"
   ]
  },
  {
   "cell_type": "code",
   "execution_count": 11,
   "metadata": {},
   "outputs": [
    {
     "name": "stdout",
     "output_type": "stream",
     "text": [
      "(2000, 10, 1)\n",
      "(2000, 1)\n",
      "(200, 10, 1)\n",
      "(200, 1)\n"
     ]
    }
   ],
   "source": [
    "print(data_x_train.shape)\n",
    "print(data_y_train.shape)\n",
    "print(data_x_test.shape)\n",
    "print(data_y_test.shape)"
   ]
  },
  {
   "cell_type": "code",
   "execution_count": 12,
   "metadata": {},
   "outputs": [],
   "source": [
    "def create_model(output_dim1, num_layer, output_dim2):\n",
    "    model = Sequential()\n",
    "\n",
    "    model.add(LSTM(output_dim=output_dim1, \n",
    "                input_shape=(10, 1),\n",
    "                activation='relu',\n",
    "                return_sequences=True))\n",
    "    for i in range(num_layer):\n",
    "        model.add(LSTM(output_dim=output_dim2,\n",
    "                        activation='tanh',\n",
    "                        return_sequences=True))\n",
    "#     model.add(Dropout(0.1))\n",
    "    model.add(LSTM(output_dim=output_dim2,\n",
    "                        activation='tanh'))\n",
    "    model.add(Dense(1))\n",
    "\n",
    "    model.compile(loss='mse', optimizer='adam', metrics=['mae'])\n",
    "#     model.summary()\n",
    "    return model"
   ]
  },
  {
   "cell_type": "code",
   "execution_count": 13,
   "metadata": {},
   "outputs": [],
   "source": [
    "# #采用暴力搜索，所有参数进行组合，然后选择最好的参数\n",
    "# tuned_parameters=[{'output_dim1':Integer(28, 128),\n",
    "#                    'num_layer':Integer(3,12),\n",
    "#                    'output_dim2':Integer(28, 128)}]\n",
    "# # 'output_dim1':Integer(28, 128),\n",
    "# #             'num_layer':Integer(3,12),\n",
    "# #             'output_dim2':Integer(28, 128)"
   ]
  },
  {
   "cell_type": "code",
   "execution_count": 14,
   "metadata": {},
   "outputs": [],
   "source": [
    "# train_x, test_x, train_y, test_y = train_test_split(data_x, data_y, train_size=0.80, random_state=0)"
   ]
  },
  {
   "cell_type": "code",
   "execution_count": 15,
   "metadata": {
    "scrolled": true
   },
   "outputs": [],
   "source": [
    "# #采用随机搜索，给参数一个范围，然后系统随机选择参数，进行检验，然后选择最好的\n",
    "# tuned_parameters={'output_dim1':[28, 64, 96, 128],\n",
    "#                    'num_layer':[4,5,6],\n",
    "#                    'output_dim2':[28, 64, 96, 128]}\n",
    "\n",
    "# lstm=RandomizedSearchCV(model,tuned_parameters,scoring='neg_mean_squared_error',n_iter=2)\n",
    " \n",
    "# lstm.fit(data_x_train,data_y_train)\n",
    "# print('best parameters:',lstm.best_estimator_)\n",
    "# # print(classification_report(test_y,clf.predict(test_x)))\n",
    "# # print(metrics.confusion_matrix(test_y,clf.predict(test_x)))"
   ]
  },
  {
   "cell_type": "code",
   "execution_count": 77,
   "metadata": {},
   "outputs": [],
   "source": [
    "model=KerasRegressor(build_fn=create_model)"
   ]
  },
  {
   "cell_type": "code",
   "execution_count": 81,
   "metadata": {},
   "outputs": [],
   "source": [
    "bayes_cv_tuner = BayesSearchCV(estimator = model,\n",
    "                               search_spaces = { 'output_dim1':[12,48,64,88,128],\n",
    "                                                'num_layer':[4,5],\n",
    "                                                'output_dim2':[12,48,64,88,128]},\n",
    "                               scoring = 'neg_mean_squared_error',\n",
    "                               cv = 5,\n",
    "                               n_iter = 2,   \n",
    "                               verbose = 1,\n",
    "                               refit = True,\n",
    "                               random_state = 1885,\n",
    "                               return_train_score = True)\n"
   ]
  },
  {
   "cell_type": "code",
   "execution_count": 82,
   "metadata": {},
   "outputs": [],
   "source": [
    "def status_print(optim_result):\n",
    "    \"\"\"bayes参数优化过程中．．．\"\"\"\n",
    "\n",
    "    # Get all the models tested so far in DataFrame format\n",
    "    all_models = pd.DataFrame(bayes_cv_tuner.cv_results_)    \n",
    "\n",
    "    # Get current parameters and the best parameters    \n",
    "    best_params = pd.Series(bayes_cv_tuner.best_params_)\n",
    "    print('Model #{}\\nBest MSE: {}\\nBest params: {}\\n'.format(\n",
    "        len(all_models),\n",
    "        np.round(bayes_cv_tuner.best_score_, 5),\n",
    "        bayes_cv_tuner.best_params_\n",
    "    ))\n",
    "\n",
    "    # Save all model results\n",
    "    lstm_name = bayes_cv_tuner.estimator.__class__.__name__\n",
    "    all_models.to_csv(lstm_name+\"_cv_results.csv\")"
   ]
  },
  {
   "cell_type": "code",
   "execution_count": 83,
   "metadata": {
    "scrolled": true
   },
   "outputs": [
    {
     "name": "stdout",
     "output_type": "stream",
     "text": [
      "Fitting 5 folds for each of 1 candidates, totalling 5 fits\n"
     ]
    },
    {
     "name": "stderr",
     "output_type": "stream",
     "text": [
      "[Parallel(n_jobs=1)]: Using backend SequentialBackend with 1 concurrent workers.\n",
      "e:\\envs\\python36env\\lib\\site-packages\\ipykernel_launcher.py:7: UserWarning: Update your `LSTM` call to the Keras 2 API: `LSTM(input_shape=(10, 1), activation=\"relu\", return_sequences=True, units=64)`\n",
      "  import sys\n",
      "e:\\envs\\python36env\\lib\\site-packages\\ipykernel_launcher.py:11: UserWarning: Update your `LSTM` call to the Keras 2 API: `LSTM(activation=\"tanh\", return_sequences=True, units=88)`\n",
      "  # This is added back by InteractiveShellApp.init_path()\n",
      "e:\\envs\\python36env\\lib\\site-packages\\ipykernel_launcher.py:14: UserWarning: Update your `LSTM` call to the Keras 2 API: `LSTM(activation=\"tanh\", units=88)`\n",
      "  \n"
     ]
    },
    {
     "name": "stdout",
     "output_type": "stream",
     "text": [
      "Epoch 1/1\n",
      "1600/1600 [==============================] - 193s 121ms/step - loss: 0.0315 - mean_absolute_error: 0.1181\n"
     ]
    },
    {
     "name": "stderr",
     "output_type": "stream",
     "text": [
      "e:\\envs\\python36env\\lib\\site-packages\\ipykernel_launcher.py:7: UserWarning: Update your `LSTM` call to the Keras 2 API: `LSTM(input_shape=(10, 1), activation=\"relu\", return_sequences=True, units=64)`\n",
      "  import sys\n",
      "e:\\envs\\python36env\\lib\\site-packages\\ipykernel_launcher.py:11: UserWarning: Update your `LSTM` call to the Keras 2 API: `LSTM(activation=\"tanh\", return_sequences=True, units=88)`\n",
      "  # This is added back by InteractiveShellApp.init_path()\n",
      "e:\\envs\\python36env\\lib\\site-packages\\ipykernel_launcher.py:14: UserWarning: Update your `LSTM` call to the Keras 2 API: `LSTM(activation=\"tanh\", units=88)`\n",
      "  \n"
     ]
    },
    {
     "name": "stdout",
     "output_type": "stream",
     "text": [
      "Epoch 1/1\n",
      "1600/1600 [==============================] - 177s 111ms/step - loss: 0.0399 - mean_absolute_error: 0.1277\n"
     ]
    },
    {
     "name": "stderr",
     "output_type": "stream",
     "text": [
      "e:\\envs\\python36env\\lib\\site-packages\\ipykernel_launcher.py:7: UserWarning: Update your `LSTM` call to the Keras 2 API: `LSTM(input_shape=(10, 1), activation=\"relu\", return_sequences=True, units=64)`\n",
      "  import sys\n",
      "e:\\envs\\python36env\\lib\\site-packages\\ipykernel_launcher.py:11: UserWarning: Update your `LSTM` call to the Keras 2 API: `LSTM(activation=\"tanh\", return_sequences=True, units=88)`\n",
      "  # This is added back by InteractiveShellApp.init_path()\n",
      "e:\\envs\\python36env\\lib\\site-packages\\ipykernel_launcher.py:14: UserWarning: Update your `LSTM` call to the Keras 2 API: `LSTM(activation=\"tanh\", units=88)`\n",
      "  \n"
     ]
    },
    {
     "name": "stdout",
     "output_type": "stream",
     "text": [
      "Epoch 1/1\n",
      "1600/1600 [==============================] - 184s 115ms/step - loss: 0.0616 - mean_absolute_error: 0.1730\n"
     ]
    },
    {
     "name": "stderr",
     "output_type": "stream",
     "text": [
      "e:\\envs\\python36env\\lib\\site-packages\\ipykernel_launcher.py:7: UserWarning: Update your `LSTM` call to the Keras 2 API: `LSTM(input_shape=(10, 1), activation=\"relu\", return_sequences=True, units=64)`\n",
      "  import sys\n",
      "e:\\envs\\python36env\\lib\\site-packages\\ipykernel_launcher.py:11: UserWarning: Update your `LSTM` call to the Keras 2 API: `LSTM(activation=\"tanh\", return_sequences=True, units=88)`\n",
      "  # This is added back by InteractiveShellApp.init_path()\n",
      "e:\\envs\\python36env\\lib\\site-packages\\ipykernel_launcher.py:14: UserWarning: Update your `LSTM` call to the Keras 2 API: `LSTM(activation=\"tanh\", units=88)`\n",
      "  \n"
     ]
    },
    {
     "name": "stdout",
     "output_type": "stream",
     "text": [
      "Epoch 1/1\n",
      "1600/1600 [==============================] - 200s 125ms/step - loss: 0.0532 - mean_absolute_error: 0.1581\n"
     ]
    },
    {
     "name": "stderr",
     "output_type": "stream",
     "text": [
      "e:\\envs\\python36env\\lib\\site-packages\\ipykernel_launcher.py:7: UserWarning: Update your `LSTM` call to the Keras 2 API: `LSTM(input_shape=(10, 1), activation=\"relu\", return_sequences=True, units=64)`\n",
      "  import sys\n",
      "e:\\envs\\python36env\\lib\\site-packages\\ipykernel_launcher.py:11: UserWarning: Update your `LSTM` call to the Keras 2 API: `LSTM(activation=\"tanh\", return_sequences=True, units=88)`\n",
      "  # This is added back by InteractiveShellApp.init_path()\n",
      "e:\\envs\\python36env\\lib\\site-packages\\ipykernel_launcher.py:14: UserWarning: Update your `LSTM` call to the Keras 2 API: `LSTM(activation=\"tanh\", units=88)`\n",
      "  \n"
     ]
    },
    {
     "name": "stdout",
     "output_type": "stream",
     "text": [
      "Epoch 1/1\n",
      "1600/1600 [==============================] - 175s 109ms/step - loss: 0.0627 - mean_absolute_error: 0.1757\n"
     ]
    },
    {
     "name": "stderr",
     "output_type": "stream",
     "text": [
      "[Parallel(n_jobs=1)]: Done   5 out of   5 | elapsed: 23.9min finished\n"
     ]
    },
    {
     "name": "stdout",
     "output_type": "stream",
     "text": [
      "Model #1\n",
      "Best MSE: -0.00619\n",
      "Best params: OrderedDict([('num_layer', 4), ('output_dim1', 64), ('output_dim2', 88)])\n",
      "\n",
      "Fitting 5 folds for each of 1 candidates, totalling 5 fits\n"
     ]
    },
    {
     "name": "stderr",
     "output_type": "stream",
     "text": [
      "[Parallel(n_jobs=1)]: Using backend SequentialBackend with 1 concurrent workers.\n",
      "e:\\envs\\python36env\\lib\\site-packages\\ipykernel_launcher.py:7: UserWarning: Update your `LSTM` call to the Keras 2 API: `LSTM(input_shape=(10, 1), activation=\"relu\", return_sequences=True, units=64)`\n",
      "  import sys\n",
      "e:\\envs\\python36env\\lib\\site-packages\\ipykernel_launcher.py:11: UserWarning: Update your `LSTM` call to the Keras 2 API: `LSTM(activation=\"tanh\", return_sequences=True, units=88)`\n",
      "  # This is added back by InteractiveShellApp.init_path()\n",
      "e:\\envs\\python36env\\lib\\site-packages\\ipykernel_launcher.py:14: UserWarning: Update your `LSTM` call to the Keras 2 API: `LSTM(activation=\"tanh\", units=88)`\n",
      "  \n"
     ]
    },
    {
     "name": "stdout",
     "output_type": "stream",
     "text": [
      "Epoch 1/1\n",
      "1600/1600 [==============================] - 197s 123ms/step - loss: 0.0286 - mean_absolute_error: 0.1097\n"
     ]
    },
    {
     "name": "stderr",
     "output_type": "stream",
     "text": [
      "e:\\envs\\python36env\\lib\\site-packages\\ipykernel_launcher.py:7: UserWarning: Update your `LSTM` call to the Keras 2 API: `LSTM(input_shape=(10, 1), activation=\"relu\", return_sequences=True, units=64)`\n",
      "  import sys\n",
      "e:\\envs\\python36env\\lib\\site-packages\\ipykernel_launcher.py:11: UserWarning: Update your `LSTM` call to the Keras 2 API: `LSTM(activation=\"tanh\", return_sequences=True, units=88)`\n",
      "  # This is added back by InteractiveShellApp.init_path()\n",
      "e:\\envs\\python36env\\lib\\site-packages\\ipykernel_launcher.py:14: UserWarning: Update your `LSTM` call to the Keras 2 API: `LSTM(activation=\"tanh\", units=88)`\n",
      "  \n"
     ]
    },
    {
     "name": "stdout",
     "output_type": "stream",
     "text": [
      "Epoch 1/1\n",
      "1600/1600 [==============================] - 209s 130ms/step - loss: 0.0604 - mean_absolute_error: 0.1689\n"
     ]
    },
    {
     "name": "stderr",
     "output_type": "stream",
     "text": [
      "e:\\envs\\python36env\\lib\\site-packages\\ipykernel_launcher.py:7: UserWarning: Update your `LSTM` call to the Keras 2 API: `LSTM(input_shape=(10, 1), activation=\"relu\", return_sequences=True, units=64)`\n",
      "  import sys\n",
      "e:\\envs\\python36env\\lib\\site-packages\\ipykernel_launcher.py:11: UserWarning: Update your `LSTM` call to the Keras 2 API: `LSTM(activation=\"tanh\", return_sequences=True, units=88)`\n",
      "  # This is added back by InteractiveShellApp.init_path()\n",
      "e:\\envs\\python36env\\lib\\site-packages\\ipykernel_launcher.py:14: UserWarning: Update your `LSTM` call to the Keras 2 API: `LSTM(activation=\"tanh\", units=88)`\n",
      "  \n"
     ]
    },
    {
     "name": "stdout",
     "output_type": "stream",
     "text": [
      "Epoch 1/1\n",
      "1600/1600 [==============================] - 221s 138ms/step - loss: 0.0554 - mean_absolute_error: 0.1530\n"
     ]
    },
    {
     "name": "stderr",
     "output_type": "stream",
     "text": [
      "e:\\envs\\python36env\\lib\\site-packages\\ipykernel_launcher.py:7: UserWarning: Update your `LSTM` call to the Keras 2 API: `LSTM(input_shape=(10, 1), activation=\"relu\", return_sequences=True, units=64)`\n",
      "  import sys\n",
      "e:\\envs\\python36env\\lib\\site-packages\\ipykernel_launcher.py:11: UserWarning: Update your `LSTM` call to the Keras 2 API: `LSTM(activation=\"tanh\", return_sequences=True, units=88)`\n",
      "  # This is added back by InteractiveShellApp.init_path()\n",
      "e:\\envs\\python36env\\lib\\site-packages\\ipykernel_launcher.py:14: UserWarning: Update your `LSTM` call to the Keras 2 API: `LSTM(activation=\"tanh\", units=88)`\n",
      "  \n"
     ]
    },
    {
     "name": "stdout",
     "output_type": "stream",
     "text": [
      "Epoch 1/1\n",
      "1600/1600 [==============================] - 225s 141ms/step - loss: 0.0666 - mean_absolute_error: 0.1848\n"
     ]
    },
    {
     "name": "stderr",
     "output_type": "stream",
     "text": [
      "e:\\envs\\python36env\\lib\\site-packages\\ipykernel_launcher.py:7: UserWarning: Update your `LSTM` call to the Keras 2 API: `LSTM(input_shape=(10, 1), activation=\"relu\", return_sequences=True, units=64)`\n",
      "  import sys\n",
      "e:\\envs\\python36env\\lib\\site-packages\\ipykernel_launcher.py:11: UserWarning: Update your `LSTM` call to the Keras 2 API: `LSTM(activation=\"tanh\", return_sequences=True, units=88)`\n",
      "  # This is added back by InteractiveShellApp.init_path()\n",
      "e:\\envs\\python36env\\lib\\site-packages\\ipykernel_launcher.py:14: UserWarning: Update your `LSTM` call to the Keras 2 API: `LSTM(activation=\"tanh\", units=88)`\n",
      "  \n"
     ]
    },
    {
     "name": "stdout",
     "output_type": "stream",
     "text": [
      "Epoch 1/1\n",
      "1600/1600 [==============================] - 237s 148ms/step - loss: 0.0723 - mean_absolute_error: 0.1992\n"
     ]
    },
    {
     "name": "stderr",
     "output_type": "stream",
     "text": [
      "[Parallel(n_jobs=1)]: Done   5 out of   5 | elapsed: 25.6min finished\n",
      "e:\\envs\\python36env\\lib\\site-packages\\ipykernel_launcher.py:7: UserWarning: Update your `LSTM` call to the Keras 2 API: `LSTM(input_shape=(10, 1), activation=\"relu\", return_sequences=True, units=64)`\n",
      "  import sys\n"
     ]
    },
    {
     "name": "stdout",
     "output_type": "stream",
     "text": [
      "Model #2\n",
      "Best MSE: -0.00331\n",
      "Best params: OrderedDict([('num_layer', 5), ('output_dim1', 64), ('output_dim2', 88)])\n",
      "\n"
     ]
    },
    {
     "name": "stderr",
     "output_type": "stream",
     "text": [
      "e:\\envs\\python36env\\lib\\site-packages\\ipykernel_launcher.py:11: UserWarning: Update your `LSTM` call to the Keras 2 API: `LSTM(activation=\"tanh\", return_sequences=True, units=88)`\n",
      "  # This is added back by InteractiveShellApp.init_path()\n",
      "e:\\envs\\python36env\\lib\\site-packages\\ipykernel_launcher.py:14: UserWarning: Update your `LSTM` call to the Keras 2 API: `LSTM(activation=\"tanh\", units=88)`\n",
      "  \n"
     ]
    },
    {
     "name": "stdout",
     "output_type": "stream",
     "text": [
      "Epoch 1/1\n",
      "2000/2000 [==============================] - 274s 137ms/step - loss: 0.0478 - mean_absolute_error: 0.1446\n"
     ]
    },
    {
     "data": {
      "text/plain": [
       "BayesSearchCV(cv=5, error_score='raise',\n",
       "              estimator=<keras.wrappers.scikit_learn.KerasRegressor object at 0x000001B37FCE30F0>,\n",
       "              fit_params=None, iid=True, n_iter=2, n_jobs=1, n_points=1,\n",
       "              optimizer_kwargs=None, pre_dispatch='2*n_jobs', random_state=1885,\n",
       "              refit=True, return_train_score=True,\n",
       "              scoring='neg_mean_squared_error',\n",
       "              search_spaces={'num_layer': [4, 5],\n",
       "                             'output_dim1': [12, 48, 64, 88, 128],\n",
       "                             'output_dim2': [12, 48, 64, 88, 128]},\n",
       "              verbose=1)"
      ]
     },
     "execution_count": 83,
     "metadata": {},
     "output_type": "execute_result"
    }
   ],
   "source": [
    "bayes_cv_tuner.fit(data_x,data_y, callback=status_print)\n",
    "# bayes_cv_tuner.fit(data_x,data_y)"
   ]
  },
  {
   "cell_type": "code",
   "execution_count": 84,
   "metadata": {},
   "outputs": [
    {
     "data": {
      "text/plain": [
       "OrderedDict([('num_layer', 5), ('output_dim1', 64), ('output_dim2', 88)])"
      ]
     },
     "execution_count": 84,
     "metadata": {},
     "output_type": "execute_result"
    }
   ],
   "source": [
    "bayes_cv_tuner.best_params_"
   ]
  },
  {
   "cell_type": "code",
   "execution_count": 13,
   "metadata": {},
   "outputs": [
    {
     "name": "stdout",
     "output_type": "stream",
     "text": [
      "WARNING:tensorflow:From e:\\envs\\python36env\\lib\\site-packages\\tensorflow\\python\\framework\\op_def_library.py:263: colocate_with (from tensorflow.python.framework.ops) is deprecated and will be removed in a future version.\n",
      "Instructions for updating:\n",
      "Colocations handled automatically by placer.\n"
     ]
    },
    {
     "name": "stderr",
     "output_type": "stream",
     "text": [
      "e:\\envs\\python36env\\lib\\site-packages\\ipykernel_launcher.py:7: UserWarning: Update your `LSTM` call to the Keras 2 API: `LSTM(input_shape=(10, 1), activation=\"relu\", return_sequences=True, units=64)`\n",
      "  import sys\n",
      "e:\\envs\\python36env\\lib\\site-packages\\ipykernel_launcher.py:11: UserWarning: Update your `LSTM` call to the Keras 2 API: `LSTM(activation=\"tanh\", return_sequences=True, units=88)`\n",
      "  # This is added back by InteractiveShellApp.init_path()\n",
      "e:\\envs\\python36env\\lib\\site-packages\\ipykernel_launcher.py:14: UserWarning: Update your `LSTM` call to the Keras 2 API: `LSTM(activation=\"tanh\", units=88)`\n",
      "  \n"
     ]
    }
   ],
   "source": [
    "model = create_model(64, 5, 88)"
   ]
  },
  {
   "cell_type": "code",
   "execution_count": 14,
   "metadata": {
    "scrolled": false
   },
   "outputs": [
    {
     "name": "stdout",
     "output_type": "stream",
     "text": [
      "WARNING:tensorflow:From e:\\envs\\python36env\\lib\\site-packages\\tensorflow\\python\\ops\\math_ops.py:3066: to_int32 (from tensorflow.python.ops.math_ops) is deprecated and will be removed in a future version.\n",
      "Instructions for updating:\n",
      "Use tf.cast instead.\n",
      "Epoch 1/50\n",
      "2000/2000 [==============================] - 13s 6ms/step - loss: 0.2794 - mean_absolute_error: 0.4591\n",
      "Epoch 2/50\n",
      "2000/2000 [==============================] - 4s 2ms/step - loss: 0.1420 - mean_absolute_error: 0.2963\n",
      "Epoch 3/50\n",
      "2000/2000 [==============================] - 4s 2ms/step - loss: 0.0854 - mean_absolute_error: 0.2464\n",
      "Epoch 4/50\n",
      "2000/2000 [==============================] - 4s 2ms/step - loss: 0.0613 - mean_absolute_error: 0.2175\n",
      "Epoch 5/50\n",
      "2000/2000 [==============================] - 4s 2ms/step - loss: 0.0689 - mean_absolute_error: 0.2215\n",
      "Epoch 6/50\n",
      "2000/2000 [==============================] - 4s 2ms/step - loss: 0.0494 - mean_absolute_error: 0.2004\n",
      "Epoch 7/50\n",
      "2000/2000 [==============================] - 4s 2ms/step - loss: 0.0453 - mean_absolute_error: 0.1788\n",
      "Epoch 8/50\n",
      "2000/2000 [==============================] - 4s 2ms/step - loss: 0.0253 - mean_absolute_error: 0.1422\n",
      "Epoch 9/50\n",
      "2000/2000 [==============================] - 4s 2ms/step - loss: 0.0088 - mean_absolute_error: 0.0807\n",
      "Epoch 10/50\n",
      "2000/2000 [==============================] - 4s 2ms/step - loss: 0.0038 - mean_absolute_error: 0.0502\n",
      "Epoch 11/50\n",
      "2000/2000 [==============================] - 4s 2ms/step - loss: 0.0052 - mean_absolute_error: 0.0615\n",
      "Epoch 12/50\n",
      "2000/2000 [==============================] - 4s 2ms/step - loss: 0.0043 - mean_absolute_error: 0.0555\n",
      "Epoch 13/50\n",
      "2000/2000 [==============================] - 4s 2ms/step - loss: 0.0023 - mean_absolute_error: 0.0368\n",
      "Epoch 14/50\n",
      "2000/2000 [==============================] - 4s 2ms/step - loss: 0.0019 - mean_absolute_error: 0.0330\n",
      "Epoch 15/50\n",
      "2000/2000 [==============================] - 4s 2ms/step - loss: 0.0022 - mean_absolute_error: 0.0355\n",
      "Epoch 16/50\n",
      "2000/2000 [==============================] - 4s 2ms/step - loss: 0.0021 - mean_absolute_error: 0.0349\n",
      "Epoch 17/50\n",
      "2000/2000 [==============================] - 4s 2ms/step - loss: 0.0018 - mean_absolute_error: 0.0316\n",
      "Epoch 18/50\n",
      "2000/2000 [==============================] - 4s 2ms/step - loss: 0.0016 - mean_absolute_error: 0.0304\n",
      "Epoch 19/50\n",
      "2000/2000 [==============================] - 4s 2ms/step - loss: 0.0016 - mean_absolute_error: 0.0308\n",
      "Epoch 20/50\n",
      "2000/2000 [==============================] - 4s 2ms/step - loss: 0.0016 - mean_absolute_error: 0.0309\n",
      "Epoch 21/50\n",
      "2000/2000 [==============================] - 4s 2ms/step - loss: 0.0016 - mean_absolute_error: 0.0300\n",
      "Epoch 22/50\n",
      "2000/2000 [==============================] - 4s 2ms/step - loss: 0.0016 - mean_absolute_error: 0.0299\n",
      "Epoch 23/50\n",
      "2000/2000 [==============================] - 4s 2ms/step - loss: 0.0016 - mean_absolute_error: 0.0295\n",
      "Epoch 24/50\n",
      "2000/2000 [==============================] - 4s 2ms/step - loss: 0.0016 - mean_absolute_error: 0.0298\n",
      "Epoch 25/50\n",
      "2000/2000 [==============================] - 4s 2ms/step - loss: 0.0016 - mean_absolute_error: 0.0295\n",
      "Epoch 26/50\n",
      "2000/2000 [==============================] - 4s 2ms/step - loss: 0.0015 - mean_absolute_error: 0.0292\n",
      "Epoch 27/50\n",
      "2000/2000 [==============================] - 4s 2ms/step - loss: 0.0015 - mean_absolute_error: 0.0294\n",
      "Epoch 28/50\n",
      "2000/2000 [==============================] - 4s 2ms/step - loss: 0.0015 - mean_absolute_error: 0.0291\n",
      "Epoch 29/50\n",
      "2000/2000 [==============================] - 4s 2ms/step - loss: 0.0015 - mean_absolute_error: 0.0294\n",
      "Epoch 30/50\n",
      "2000/2000 [==============================] - 4s 2ms/step - loss: 0.0015 - mean_absolute_error: 0.0294\n",
      "Epoch 31/50\n",
      "2000/2000 [==============================] - 4s 2ms/step - loss: 0.0015 - mean_absolute_error: 0.0292\n",
      "Epoch 32/50\n",
      "2000/2000 [==============================] - 4s 2ms/step - loss: 0.0015 - mean_absolute_error: 0.0291\n",
      "Epoch 33/50\n",
      "2000/2000 [==============================] - 4s 2ms/step - loss: 0.0015 - mean_absolute_error: 0.0289\n",
      "Epoch 34/50\n",
      "2000/2000 [==============================] - 4s 2ms/step - loss: 0.0015 - mean_absolute_error: 0.0290\n",
      "Epoch 35/50\n",
      "2000/2000 [==============================] - 4s 2ms/step - loss: 0.0015 - mean_absolute_error: 0.0290\n",
      "Epoch 36/50\n",
      "2000/2000 [==============================] - 4s 2ms/step - loss: 0.0015 - mean_absolute_error: 0.0288\n",
      "Epoch 37/50\n",
      "2000/2000 [==============================] - 4s 2ms/step - loss: 0.0015 - mean_absolute_error: 0.0289\n",
      "Epoch 38/50\n",
      "2000/2000 [==============================] - 4s 2ms/step - loss: 0.0015 - mean_absolute_error: 0.0288\n",
      "Epoch 39/50\n",
      "2000/2000 [==============================] - 4s 2ms/step - loss: 0.0015 - mean_absolute_error: 0.0288\n",
      "Epoch 40/50\n",
      "2000/2000 [==============================] - 4s 2ms/step - loss: 0.0015 - mean_absolute_error: 0.0286\n",
      "Epoch 41/50\n",
      "2000/2000 [==============================] - 4s 2ms/step - loss: 0.0015 - mean_absolute_error: 0.0285\n",
      "Epoch 42/50\n",
      "2000/2000 [==============================] - 4s 2ms/step - loss: 0.0015 - mean_absolute_error: 0.0286\n",
      "Epoch 43/50\n",
      "2000/2000 [==============================] - 4s 2ms/step - loss: 0.0015 - mean_absolute_error: 0.0288\n",
      "Epoch 44/50\n",
      "2000/2000 [==============================] - 4s 2ms/step - loss: 0.0015 - mean_absolute_error: 0.0290\n",
      "Epoch 45/50\n",
      "2000/2000 [==============================] - 4s 2ms/step - loss: 0.0015 - mean_absolute_error: 0.0290\n",
      "Epoch 46/50\n",
      "2000/2000 [==============================] - 4s 2ms/step - loss: 0.0015 - mean_absolute_error: 0.0284\n",
      "Epoch 47/50\n",
      "2000/2000 [==============================] - 4s 2ms/step - loss: 0.0015 - mean_absolute_error: 0.0284\n",
      "Epoch 48/50\n",
      "2000/2000 [==============================] - 4s 2ms/step - loss: 0.0014 - mean_absolute_error: 0.0282\n",
      "Epoch 49/50\n",
      "2000/2000 [==============================] - 4s 2ms/step - loss: 0.0014 - mean_absolute_error: 0.0282\n",
      "Epoch 50/50\n",
      "2000/2000 [==============================] - 4s 2ms/step - loss: 0.0014 - mean_absolute_error: 0.0281\n"
     ]
    },
    {
     "data": {
      "text/plain": [
       "<keras.callbacks.History at 0x1f9c25f3828>"
      ]
     },
     "execution_count": 14,
     "metadata": {},
     "output_type": "execute_result"
    }
   ],
   "source": [
    "model.fit(data_x_train, data_y_train, epochs=50, batch_size=500, verbose=1)"
   ]
  },
  {
   "cell_type": "code",
   "execution_count": 15,
   "metadata": {},
   "outputs": [
    {
     "name": "stdout",
     "output_type": "stream",
     "text": [
      "200/200 [==============================] - 2s 8ms/step\n",
      "\n",
      "test loss 0.00226\n",
      "mae 0.02893\n"
     ]
    }
   ],
   "source": [
    "# 评估模型,不输出预测结果\n",
    "loss,mae= model.evaluate(data_x_test,data_y_test)\n",
    "print('\\ntest loss','{:.5f}'.format(loss))\n",
    "print('mae','{:.5f}'.format(mae))"
   ]
  },
  {
   "cell_type": "code",
   "execution_count": 16,
   "metadata": {},
   "outputs": [],
   "source": [
    "y_pred = model.predict(data_x_test,batch_size = 1)"
   ]
  },
  {
   "cell_type": "code",
   "execution_count": null,
   "metadata": {},
   "outputs": [],
   "source": [
    "# y_pred[-10:]"
   ]
  },
  {
   "cell_type": "code",
   "execution_count": null,
   "metadata": {},
   "outputs": [],
   "source": [
    "# data_y_test[-10:,0]"
   ]
  },
  {
   "cell_type": "code",
   "execution_count": null,
   "metadata": {},
   "outputs": [],
   "source": [
    "# data_x_test[-10:,0,-1]"
   ]
  },
  {
   "cell_type": "code",
   "execution_count": null,
   "metadata": {},
   "outputs": [],
   "source": [
    "# t = []\n",
    "# for i in range(1000):\n",
    "#     if data_y_test[:,0][i]>data_x_test[:,0,-1][i]:\n",
    "#         t.append(1)\n",
    "#     else:\n",
    "#         t.append(0)\n",
    "# len(t)"
   ]
  },
  {
   "cell_type": "code",
   "execution_count": null,
   "metadata": {},
   "outputs": [],
   "source": [
    "# p = []\n",
    "# for i in range(1000):\n",
    "#     if y_pred[:,0][i]>data_x_test[:,0,-1][i]:\n",
    "#         p.append(1)\n",
    "#     else:\n",
    "#         p.append(0)\n",
    "# len(p)"
   ]
  },
  {
   "cell_type": "code",
   "execution_count": null,
   "metadata": {},
   "outputs": [],
   "source": [
    "# n = 0\n",
    "# for i in range(1000):\n",
    "#     if t[i]==p[i]:\n",
    "#         n=n+1\n",
    "# n/1000"
   ]
  },
  {
   "cell_type": "code",
   "execution_count": null,
   "metadata": {},
   "outputs": [],
   "source": [
    "# model.save('model.h5')#保存名为model的h5文件到程序所在目录"
   ]
  },
  {
   "cell_type": "code",
   "execution_count": null,
   "metadata": {},
   "outputs": [],
   "source": [
    "# data_x_test.shape"
   ]
  },
  {
   "cell_type": "code",
   "execution_count": null,
   "metadata": {},
   "outputs": [],
   "source": [
    "# model.predict(data_x_test,batch_size = 1)"
   ]
  },
  {
   "cell_type": "code",
   "execution_count": null,
   "metadata": {},
   "outputs": [],
   "source": [
    "# x_pred = [1.08244, 1.0776, 1.08229, 1.08564, 1.08607, 1.08739, 1.08386, 1.09066, 1.09798, 1.0912]\n",
    "# "
   ]
  },
  {
   "cell_type": "code",
   "execution_count": null,
   "metadata": {},
   "outputs": [],
   "source": [
    "# x_pred = np.array(x_pred).reshape(1,10,1)"
   ]
  },
  {
   "cell_type": "code",
   "execution_count": null,
   "metadata": {},
   "outputs": [],
   "source": [
    "# x_pred.shape"
   ]
  },
  {
   "cell_type": "code",
   "execution_count": null,
   "metadata": {},
   "outputs": [],
   "source": [
    "# model.predict(x_pred,batch_size = 1).tolist()[0][0]"
   ]
  },
  {
   "cell_type": "code",
   "execution_count": null,
   "metadata": {},
   "outputs": [],
   "source": [
    "# y_pred.shape"
   ]
  },
  {
   "cell_type": "code",
   "execution_count": null,
   "metadata": {},
   "outputs": [],
   "source": [
    "# y_pred"
   ]
  },
  {
   "cell_type": "code",
   "execution_count": 17,
   "metadata": {},
   "outputs": [],
   "source": [
    "y_t = data_y_test.reshape(200)"
   ]
  },
  {
   "cell_type": "code",
   "execution_count": 18,
   "metadata": {},
   "outputs": [],
   "source": [
    "y_p = y_pred.reshape(200)"
   ]
  },
  {
   "cell_type": "code",
   "execution_count": 19,
   "metadata": {},
   "outputs": [],
   "source": [
    " df_test_output = pd.DataFrame(columns=['真实值', '预测值'])"
   ]
  },
  {
   "cell_type": "code",
   "execution_count": 20,
   "metadata": {},
   "outputs": [],
   "source": [
    "df_test_output['真实值'] = y_t"
   ]
  },
  {
   "cell_type": "code",
   "execution_count": 21,
   "metadata": {},
   "outputs": [],
   "source": [
    "df_test_output['预测值'] = y_p"
   ]
  },
  {
   "cell_type": "code",
   "execution_count": 22,
   "metadata": {},
   "outputs": [
    {
     "data": {
      "text/html": [
       "<div>\n",
       "<style scoped>\n",
       "    .dataframe tbody tr th:only-of-type {\n",
       "        vertical-align: middle;\n",
       "    }\n",
       "\n",
       "    .dataframe tbody tr th {\n",
       "        vertical-align: top;\n",
       "    }\n",
       "\n",
       "    .dataframe thead th {\n",
       "        text-align: right;\n",
       "    }\n",
       "</style>\n",
       "<table border=\"1\" class=\"dataframe\">\n",
       "  <thead>\n",
       "    <tr style=\"text-align: right;\">\n",
       "      <th></th>\n",
       "      <th>真实值</th>\n",
       "      <th>预测值</th>\n",
       "    </tr>\n",
       "  </thead>\n",
       "  <tbody>\n",
       "    <tr>\n",
       "      <th>0</th>\n",
       "      <td>0.103365</td>\n",
       "      <td>0.146602</td>\n",
       "    </tr>\n",
       "    <tr>\n",
       "      <th>1</th>\n",
       "      <td>0.108086</td>\n",
       "      <td>0.145982</td>\n",
       "    </tr>\n",
       "    <tr>\n",
       "      <th>2</th>\n",
       "      <td>0.119004</td>\n",
       "      <td>0.146143</td>\n",
       "    </tr>\n",
       "    <tr>\n",
       "      <th>3</th>\n",
       "      <td>0.115686</td>\n",
       "      <td>0.145132</td>\n",
       "    </tr>\n",
       "    <tr>\n",
       "      <th>4</th>\n",
       "      <td>0.123322</td>\n",
       "      <td>0.144226</td>\n",
       "    </tr>\n",
       "    <tr>\n",
       "      <th>...</th>\n",
       "      <td>...</td>\n",
       "      <td>...</td>\n",
       "    </tr>\n",
       "    <tr>\n",
       "      <th>195</th>\n",
       "      <td>0.111755</td>\n",
       "      <td>0.179564</td>\n",
       "    </tr>\n",
       "    <tr>\n",
       "      <th>196</th>\n",
       "      <td>0.127850</td>\n",
       "      <td>0.175217</td>\n",
       "    </tr>\n",
       "    <tr>\n",
       "      <th>197</th>\n",
       "      <td>0.137767</td>\n",
       "      <td>0.171877</td>\n",
       "    </tr>\n",
       "    <tr>\n",
       "      <th>198</th>\n",
       "      <td>0.135327</td>\n",
       "      <td>0.167790</td>\n",
       "    </tr>\n",
       "    <tr>\n",
       "      <th>199</th>\n",
       "      <td>0.131782</td>\n",
       "      <td>0.166749</td>\n",
       "    </tr>\n",
       "  </tbody>\n",
       "</table>\n",
       "<p>200 rows × 2 columns</p>\n",
       "</div>"
      ],
      "text/plain": [
       "          真实值       预测值\n",
       "0    0.103365  0.146602\n",
       "1    0.108086  0.145982\n",
       "2    0.119004  0.146143\n",
       "3    0.115686  0.145132\n",
       "4    0.123322  0.144226\n",
       "..        ...       ...\n",
       "195  0.111755  0.179564\n",
       "196  0.127850  0.175217\n",
       "197  0.137767  0.171877\n",
       "198  0.135327  0.167790\n",
       "199  0.131782  0.166749\n",
       "\n",
       "[200 rows x 2 columns]"
      ]
     },
     "execution_count": 22,
     "metadata": {},
     "output_type": "execute_result"
    }
   ],
   "source": [
    "df_test_output"
   ]
  },
  {
   "cell_type": "code",
   "execution_count": 23,
   "metadata": {},
   "outputs": [
    {
     "data": {
      "image/png": "[encoded data removed]",
      "text/plain": [
       "<Figure size 432x288 with 1 Axes>"
      ]
     },
     "metadata": {
      "needs_background": "light"
     },
     "output_type": "display_data"
    }
   ],
   "source": [
    "x_axix = range(200)\n",
    "#x_axix，train_pn_dis这些都是长度相同的list()\n",
    "\n",
    "#开始画图\n",
    "plt.title('Result Analysis')\n",
    "plt.plot(x_axix, y_t, color='green', label='true')\n",
    "plt.plot(x_axix, y_p, color='red', label='pred')\n",
    "plt.legend() # 显示图例\n",
    "\n",
    "# plt.xlabel('iteration times')\n",
    "# plt.ylabel('rate')\n",
    "plt.show()"
   ]
  },
  {
   "cell_type": "code",
   "execution_count": 24,
   "metadata": {},
   "outputs": [],
   "source": [
    "df_test_output.to_csv('GBPUSD_test_output.csv',encoding='utf_8_sig')"
   ]
  },
  {
   "cell_type": "code",
   "execution_count": 25,
   "metadata": {},
   "outputs": [
    {
     "data": {
      "text/plain": [
       "[0.10336475172450177,\n",
       " 0.1080862864865817,\n",
       " 0.11900373861302738,\n",
       " 0.1156863777578856,\n",
       " 0.12332157337686311,\n",
       " 0.11542309515033455,\n",
       " 0.13760904287996079,\n",
       " 0.14312042546469428,\n",
       " 0.13195724290453414,\n",
       " 0.14443683850244904,\n",
       " 0.13137802116792185,\n",
       " 0.12542783423727055,\n",
       " 0.12237375598967981,\n",
       " 0.10555877345409304,\n",
       " 0.10833201692029615,\n",
       " 0.13808295157355266,\n",
       " 0.15286188194407924,\n",
       " 0.14387516893967334,\n",
       " 0.154178294981834,\n",
       " 0.15565267758411938,\n",
       " 0.15138749934179385,\n",
       " 0.15228266020746695,\n",
       " 0.18061186877994828,\n",
       " 0.1684833166587687,\n",
       " 0.1812612992119078,\n",
       " 0.1762062731469296,\n",
       " 0.1855089252803963,\n",
       " 0.17582012532252156,\n",
       " 0.16920295578607414,\n",
       " 0.18024327312937727,\n",
       " 0.1553367384550577,\n",
       " 0.1501237428255493,\n",
       " 0.1442437645902448,\n",
       " 0.14413845154722438,\n",
       " 0.14694679936110155,\n",
       " 0.14620960805995864,\n",
       " 0.1517560949923653,\n",
       " 0.15217734716444653,\n",
       " 0.14466501676232646,\n",
       " 0.13178172116616693,\n",
       " 0.12964035595808543,\n",
       " 0.1701332209994213,\n",
       " 0.20737893388096174,\n",
       " 0.20028785565092289,\n",
       " 0.23146051638495457,\n",
       " 0.23937654678531972,\n",
       " 0.2499254032611944,\n",
       " 0.26401979885208826,\n",
       " 0.26194864233935444,\n",
       " 0.24643252066768495,\n",
       " 0.25371667280992805,\n",
       " 0.24281677285731895,\n",
       " 0.23969248591438097,\n",
       " 0.24460709458866514,\n",
       " 0.2452389728467872,\n",
       " 0.2517157249925406,\n",
       " 0.25645481192845754,\n",
       " 0.2577361206185391,\n",
       " 0.24841591631123539,\n",
       " 0.24841591631123539,\n",
       " 0.24374703807066567,\n",
       " 0.23721762940340163,\n",
       " 0.2298457163919756,\n",
       " 0.2434662032892776,\n",
       " 0.2421322380776858,\n",
       " 0.24271145981429854,\n",
       " 0.24845102065890856,\n",
       " 0.25155775542800995,\n",
       " 0.2607199901707835,\n",
       " 0.2559809032348661,\n",
       " 0.2555947554104576,\n",
       " 0.2526459902058873,\n",
       " 0.2390255033085853,\n",
       " 0.25148754673266316,\n",
       " 0.24548470328050165,\n",
       " 0.2551383988907028,\n",
       " 0.2535060467238872,\n",
       " 0.2548049075878054,\n",
       " 0.25850841626735477,\n",
       " 0.2678286205746585,\n",
       " 0.2874343987502854,\n",
       " 0.29663173784073216,\n",
       " 0.29289312481350827,\n",
       " 0.293700524809998,\n",
       " 0.2962280378424871,\n",
       " 0.30340687694170976,\n",
       " 0.2976673160970993,\n",
       " 0.32796236813929447,\n",
       " 0.32734804205500856,\n",
       " 0.2920330682955088,\n",
       " 0.2828357292050625,\n",
       " 0.2709529075175965,\n",
       " 0.2694785249153111,\n",
       " 0.25771856844470253,\n",
       " 0.2618082249486604,\n",
       " 0.26798659013918913,\n",
       " 0.284204798764327,\n",
       " 0.28897899004791805,\n",
       " 0.312340933424605,\n",
       " 0.2932968248117529,\n",
       " 0.28241447703298084,\n",
       " 0.2988959682656702,\n",
       " 0.2904884769978766,\n",
       " 0.28583715093114304,\n",
       " 0.28094009443069545,\n",
       " 0.2805539466062874,\n",
       " 0.2670387727520058,\n",
       " 0.27212890316465765,\n",
       " 0.2759201727133904,\n",
       " 0.2830288031172663,\n",
       " 0.2710231162129433,\n",
       " 0.2707071770838825,\n",
       " 0.2776578379232273,\n",
       " 0.2937707335053452,\n",
       " 0.2905586856932234,\n",
       " 0.28174749442718516,\n",
       " 0.27909711617783906,\n",
       " 0.2741298509820447,\n",
       " 0.27240973794604484,\n",
       " 0.2853105857160414,\n",
       " 0.3058817334526882,\n",
       " 0.26823232057290314,\n",
       " 0.27449844663261613,\n",
       " 0.2694434205676375,\n",
       " 0.2562441858424167,\n",
       " 0.24866164674494984,\n",
       " 0.2542783423727033,\n",
       " 0.2604216032155584,\n",
       " 0.2619135379916804,\n",
       " 0.27660470749302357,\n",
       " 0.27764028574939026,\n",
       " 0.27005774665192295,\n",
       " 0.2685307075281278,\n",
       " 0.2551032945430296,\n",
       " 0.24817018587752138,\n",
       " 0.2617555684271502,\n",
       " 0.2567883032313554,\n",
       " 0.27002264230424977,\n",
       " 0.2509960858652347,\n",
       " 0.24897758587401064,\n",
       " 0.23798992505221817,\n",
       " 0.22587892510487473,\n",
       " 0.23614694679936177,\n",
       " 0.24660804240605216,\n",
       " 0.2608779597353137,\n",
       " 0.2771839292296354,\n",
       " 0.284204798764327,\n",
       " 0.24836325978972518,\n",
       " 0.23730539027258546,\n",
       " 0.19444298176329156,\n",
       " 0.14480543415302005,\n",
       " 0.14083864286591963,\n",
       " 0.10347006476752174,\n",
       " 0.02018499991223921,\n",
       " 0.0,\n",
       " 0.023467256419707816,\n",
       " 0.011057869517140162,\n",
       " 0.047180243273130085,\n",
       " 0.07245537359802068,\n",
       " 0.12100468643041484,\n",
       " 0.1771189861864393,\n",
       " 0.16706159057799352,\n",
       " 0.1669211731872995,\n",
       " 0.1593210819159956,\n",
       " 0.1627437558141578,\n",
       " 0.14110192547347022,\n",
       " 0.13406350376494158,\n",
       " 0.15172099064469213,\n",
       " 0.1606901514752601,\n",
       " 0.17327506011619587,\n",
       " 0.1700454601302379,\n",
       " 0.18164744703631586,\n",
       " 0.2032541730293298,\n",
       " 0.18345532094149908,\n",
       " 0.1737314166359507,\n",
       " 0.18263036877117278,\n",
       " 0.1696944166535026,\n",
       " 0.14438418198093883,\n",
       " 0.15214224281677335,\n",
       " 0.1541256384603238,\n",
       " 0.15807487757358762,\n",
       " 0.16900988187387034,\n",
       " 0.16807961666052362,\n",
       " 0.17618872097309302,\n",
       " 0.19740929914169936,\n",
       " 0.1803134818247245,\n",
       " 0.17143208186333903,\n",
       " 0.16986993839187026,\n",
       " 0.1533533428115077,\n",
       " 0.15567022975795597,\n",
       " 0.16539413406350434,\n",
       " 0.15208958629526315,\n",
       " 0.13906587330840958,\n",
       " 0.13301037333473786,\n",
       " 0.13295771681322766,\n",
       " 0.11175469081845835,\n",
       " 0.12785003422673968,\n",
       " 0.1377670124444914,\n",
       " 0.13532726028118613,\n",
       " 0.13178172116616693]"
      ]
     },
     "execution_count": 25,
     "metadata": {},
     "output_type": "execute_result"
    }
   ],
   "source": [
    "y_t.tolist()"
   ]
  },
  {
   "cell_type": "code",
   "execution_count": 26,
   "metadata": {},
   "outputs": [
    {
     "data": {
      "text/plain": [
       "[0.14660194516181946,\n",
       " 0.14598198235034943,\n",
       " 0.14614324271678925,\n",
       " 0.14513181149959564,\n",
       " 0.1442260444164276,\n",
       " 0.14203080534934998,\n",
       " 0.1401408463716507,\n",
       " 0.13814932107925415,\n",
       " 0.13996143639087677,\n",
       " 0.14058592915534973,\n",
       " 0.14226268231868744,\n",
       " 0.14496171474456787,\n",
       " 0.147669717669487,\n",
       " 0.1489696204662323,\n",
       " 0.15154336392879486,\n",
       " 0.15323470532894135,\n",
       " 0.15709325671195984,\n",
       " 0.15638482570648193,\n",
       " 0.15376104414463043,\n",
       " 0.15318982303142548,\n",
       " 0.1494031399488449,\n",
       " 0.1480252593755722,\n",
       " 0.14814046025276184,\n",
       " 0.14958345890045166,\n",
       " 0.15590250492095947,\n",
       " 0.1638767421245575,\n",
       " 0.1669376790523529,\n",
       " 0.16743484139442444,\n",
       " 0.17067638039588928,\n",
       " 0.17244142293930054,\n",
       " 0.1748117059469223,\n",
       " 0.1793985217809677,\n",
       " 0.185085266828537,\n",
       " 0.18392875790596008,\n",
       " 0.185940682888031,\n",
       " 0.1843011975288391,\n",
       " 0.18322455883026123,\n",
       " 0.1786290854215622,\n",
       " 0.17519444227218628,\n",
       " 0.1723601222038269,\n",
       " 0.16536210477352142,\n",
       " 0.16357024013996124,\n",
       " 0.16275055706501007,\n",
       " 0.16325148940086365,\n",
       " 0.16393506526947021,\n",
       " 0.16425317525863647,\n",
       " 0.1651362031698227,\n",
       " 0.1654878705739975,\n",
       " 0.16727839410305023,\n",
       " 0.17321591079235077,\n",
       " 0.1862104833126068,\n",
       " 0.2054772824048996,\n",
       " 0.21962860226631165,\n",
       " 0.22690562903881073,\n",
       " 0.23886781930923462,\n",
       " 0.2440555989742279,\n",
       " 0.2477690577507019,\n",
       " 0.24862053990364075,\n",
       " 0.2448943704366684,\n",
       " 0.24096842110157013,\n",
       " 0.24099323153495789,\n",
       " 0.23894047737121582,\n",
       " 0.2401050180196762,\n",
       " 0.24265225231647491,\n",
       " 0.24422048032283783,\n",
       " 0.24573619663715363,\n",
       " 0.24517248570919037,\n",
       " 0.24262231588363647,\n",
       " 0.23889611661434174,\n",
       " 0.2370995283126831,\n",
       " 0.2349572628736496,\n",
       " 0.23406393826007843,\n",
       " 0.23548951745033264,\n",
       " 0.23985697329044342,\n",
       " 0.24120591580867767,\n",
       " 0.24351076781749725,\n",
       " 0.24623176455497742,\n",
       " 0.2476261705160141,\n",
       " 0.24817584455013275,\n",
       " 0.24576722085475922,\n",
       " 0.24425341188907623,\n",
       " 0.2426048368215561,\n",
       " 0.24194523692131042,\n",
       " 0.24587097764015198,\n",
       " 0.24731357395648956,\n",
       " 0.2517104148864746,\n",
       " 0.2548520565032959,\n",
       " 0.26019278168678284,\n",
       " 0.267251193523407,\n",
       " 0.27537351846694946,\n",
       " 0.2823731601238251,\n",
       " 0.2850838601589203,\n",
       " 0.28614673018455505,\n",
       " 0.2887622117996216,\n",
       " 0.29153284430503845,\n",
       " 0.29364776611328125,\n",
       " 0.2924654185771942,\n",
       " 0.29148566722869873,\n",
       " 0.2809455990791321,\n",
       " 0.26827704906463623,\n",
       " 0.2631048858165741,\n",
       " 0.2598966360092163,\n",
       " 0.26003849506378174,\n",
       " 0.2614470422267914,\n",
       " 0.2677851915359497,\n",
       " 0.27473393082618713,\n",
       " 0.2811759114265442,\n",
       " 0.2832745313644409,\n",
       " 0.28416678309440613,\n",
       " 0.27841120958328247,\n",
       " 0.2767725884914398,\n",
       " 0.2771282494068146,\n",
       " 0.2726403772830963,\n",
       " 0.2694968283176422,\n",
       " 0.26697981357574463,\n",
       " 0.26541051268577576,\n",
       " 0.26392558217048645,\n",
       " 0.2664501667022705,\n",
       " 0.26792383193969727,\n",
       " 0.2685926556587219,\n",
       " 0.2678665816783905,\n",
       " 0.27067750692367554,\n",
       " 0.2740153968334198,\n",
       " 0.27533596754074097,\n",
       " 0.27225372195243835,\n",
       " 0.2696397304534912,\n",
       " 0.26908212900161743,\n",
       " 0.26925843954086304,\n",
       " 0.27049699425697327,\n",
       " 0.27129286527633667,\n",
       " 0.26767784357070923,\n",
       " 0.25774019956588745,\n",
       " 0.2562142312526703,\n",
       " 0.25237253308296204,\n",
       " 0.2495482712984085,\n",
       " 0.2507195472717285,\n",
       " 0.2549031674861908,\n",
       " 0.2583753764629364,\n",
       " 0.2604486048221588,\n",
       " 0.26211732625961304,\n",
       " 0.25908833742141724,\n",
       " 0.2548595368862152,\n",
       " 0.2518012523651123,\n",
       " 0.24843686819076538,\n",
       " 0.24840667843818665,\n",
       " 0.25023597478866577,\n",
       " 0.2475898116827011,\n",
       " 0.2455778270959854,\n",
       " 0.23891499638557434,\n",
       " 0.23688605427742004,\n",
       " 0.23557625710964203,\n",
       " 0.23809599876403809,\n",
       " 0.2451799511909485,\n",
       " 0.24993564188480377,\n",
       " 0.2505851089954376,\n",
       " 0.24402892589569092,\n",
       " 0.22791390120983124,\n",
       " 0.20425230264663696,\n",
       " 0.1830538511276245,\n",
       " 0.15900872647762299,\n",
       " 0.1404077708721161,\n",
       " 0.12936283648014069,\n",
       " 0.11672083288431168,\n",
       " 0.10850699245929718,\n",
       " 0.11066167056560516,\n",
       " 0.11616190522909164,\n",
       " 0.12348951399326324,\n",
       " 0.13728636503219604,\n",
       " 0.15245133638381958,\n",
       " 0.16844411194324493,\n",
       " 0.17770476639270782,\n",
       " 0.17367607355117798,\n",
       " 0.17130756378173828,\n",
       " 0.1683133989572525,\n",
       " 0.16686898469924927,\n",
       " 0.16496478021144867,\n",
       " 0.16889142990112305,\n",
       " 0.17639940977096558,\n",
       " 0.1815955638885498,\n",
       " 0.18600289523601532,\n",
       " 0.18778538703918457,\n",
       " 0.19078554213047028,\n",
       " 0.19035306572914124,\n",
       " 0.1829477697610855,\n",
       " 0.17905661463737488,\n",
       " 0.17670905590057373,\n",
       " 0.17107640206813812,\n",
       " 0.16827358305454254,\n",
       " 0.17202818393707275,\n",
       " 0.1751757562160492,\n",
       " 0.17896653711795807,\n",
       " 0.18288204073905945,\n",
       " 0.1845952421426773,\n",
       " 0.18683193624019623,\n",
       " 0.18658916652202606,\n",
       " 0.17956432700157166,\n",
       " 0.17521749436855316,\n",
       " 0.17187727987766266,\n",
       " 0.1677897423505783,\n",
       " 0.16674873232841492]"
      ]
     },
     "execution_count": 26,
     "metadata": {},
     "output_type": "execute_result"
    }
   ],
   "source": [
    "y_p.tolist()"
   ]
  },
  {
   "cell_type": "code",
   "execution_count": 27,
   "metadata": {},
   "outputs": [
    {
     "name": "stdout",
     "output_type": "stream",
     "text": [
      "1.71626\n",
      "1.1465299999999998\n"
     ]
    }
   ],
   "source": [
    "data_max = np.max(data_origin)\n",
    "data_min = np.min(data_origin)\n",
    "print(data_max)\n",
    "print(data_min)"
   ]
  },
  {
   "cell_type": "code",
   "execution_count": 28,
   "metadata": {},
   "outputs": [],
   "source": [
    "y_pred_to_origin = []\n",
    "for i in y_p:\n",
    "    y = i*(data_max - data_min) + data_min\n",
    "    y_pred_to_origin.append(y)"
   ]
  },
  {
   "cell_type": "code",
   "execution_count": 29,
   "metadata": {},
   "outputs": [
    {
     "data": {
      "text/plain": [
       "200"
      ]
     },
     "execution_count": 29,
     "metadata": {},
     "output_type": "execute_result"
    }
   ],
   "source": [
    "len(y_pred_to_origin)"
   ]
  },
  {
   "cell_type": "code",
   "execution_count": 30,
   "metadata": {},
   "outputs": [],
   "source": [
    "y_test_to_origin=data_origin[-200:,:]"
   ]
  },
  {
   "cell_type": "code",
   "execution_count": 31,
   "metadata": {},
   "outputs": [
    {
     "data": {
      "text/plain": [
       "200"
      ]
     },
     "execution_count": 31,
     "metadata": {},
     "output_type": "execute_result"
    }
   ],
   "source": [
    "len(y_test_to_origin)"
   ]
  },
  {
   "cell_type": "code",
   "execution_count": 32,
   "metadata": {},
   "outputs": [
    {
     "data": {
      "image/png": "[encoded data removed]",
      "text/plain": [
       "<Figure size 432x288 with 1 Axes>"
      ]
     },
     "metadata": {
      "needs_background": "light"
     },
     "output_type": "display_data"
    }
   ],
   "source": [
    "x_axix = range(200)\n",
    "#x_axix，train_pn_dis这些都是长度相同的list()\n",
    "\n",
    "#开始画图\n",
    "plt.title('Result Analysis')\n",
    "plt.plot(x_axix, y_test_to_origin, color='green', label='true')\n",
    "plt.plot(x_axix, y_pred_to_origin, color='red', label='pred')\n",
    "plt.legend() # 显示图例\n",
    "\n",
    "# plt.xlabel('iteration times')\n",
    "# plt.ylabel('rate')\n",
    "plt.show()"
   ]
  },
  {
   "cell_type": "code",
   "execution_count": 33,
   "metadata": {},
   "outputs": [],
   "source": [
    "model.save('GBPUSD_pre_model.h5')#保存名为model的h5文件到程序所在目录"
   ]
  },
  {
   "cell_type": "code",
   "execution_count": null,
   "metadata": {},
   "outputs": [],
   "source": []
  }
 ],
 "metadata": {
  "kernelspec": {
   "display_name": "Python 3",
   "language": "python",
   "name": "python3"
  },
  "language_info": {
   "codemirror_mode": {
    "name": "ipython",
    "version": 3
   },
   "file_extension": ".py",
   "mimetype": "text/x-python",
   "name": "python",
   "nbconvert_exporter": "python",
   "pygments_lexer": "ipython3",
   "version": "3.6.5"
  }
 },
 "nbformat": 4,
 "nbformat_minor": 4
}
