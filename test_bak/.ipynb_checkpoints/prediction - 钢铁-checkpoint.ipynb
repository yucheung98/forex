{
 "cells": [
  {
   "cell_type": "code",
   "execution_count": 1,
   "metadata": {
    "scrolled": false
   },
   "outputs": [
    {
     "name": "stderr",
     "output_type": "stream",
     "text": [
      "Using TensorFlow backend.\n",
      "e:\\envs\\python36env\\lib\\site-packages\\tensorflow\\python\\framework\\dtypes.py:526: FutureWarning: Passing (type, 1) or '1type' as a synonym of type is deprecated; in a future version of numpy, it will be understood as (type, (1,)) / '(1,)type'.\n",
      "  _np_qint8 = np.dtype([(\"qint8\", np.int8, 1)])\n",
      "e:\\envs\\python36env\\lib\\site-packages\\tensorflow\\python\\framework\\dtypes.py:527: FutureWarning: Passing (type, 1) or '1type' as a synonym of type is deprecated; in a future version of numpy, it will be understood as (type, (1,)) / '(1,)type'.\n",
      "  _np_quint8 = np.dtype([(\"quint8\", np.uint8, 1)])\n",
      "e:\\envs\\python36env\\lib\\site-packages\\tensorflow\\python\\framework\\dtypes.py:528: FutureWarning: Passing (type, 1) or '1type' as a synonym of type is deprecated; in a future version of numpy, it will be understood as (type, (1,)) / '(1,)type'.\n",
      "  _np_qint16 = np.dtype([(\"qint16\", np.int16, 1)])\n",
      "e:\\envs\\python36env\\lib\\site-packages\\tensorflow\\python\\framework\\dtypes.py:529: FutureWarning: Passing (type, 1) or '1type' as a synonym of type is deprecated; in a future version of numpy, it will be understood as (type, (1,)) / '(1,)type'.\n",
      "  _np_quint16 = np.dtype([(\"quint16\", np.uint16, 1)])\n",
      "e:\\envs\\python36env\\lib\\site-packages\\tensorflow\\python\\framework\\dtypes.py:530: FutureWarning: Passing (type, 1) or '1type' as a synonym of type is deprecated; in a future version of numpy, it will be understood as (type, (1,)) / '(1,)type'.\n",
      "  _np_qint32 = np.dtype([(\"qint32\", np.int32, 1)])\n",
      "e:\\envs\\python36env\\lib\\site-packages\\tensorflow\\python\\framework\\dtypes.py:535: FutureWarning: Passing (type, 1) or '1type' as a synonym of type is deprecated; in a future version of numpy, it will be understood as (type, (1,)) / '(1,)type'.\n",
      "  np_resource = np.dtype([(\"resource\", np.ubyte, 1)])\n"
     ]
    }
   ],
   "source": [
    "import numpy as np \n",
    "import pandas as pd \n",
    "import matplotlib.pyplot as plt \n",
    "from sklearn import preprocessing\n",
    "from keras.layers.core import Dense, Activation, Dropout\n",
    "from keras.layers.recurrent import LSTM\n",
    "from keras.models import Sequential\n",
    "from keras import metrics"
   ]
  },
  {
   "cell_type": "code",
   "execution_count": 2,
   "metadata": {},
   "outputs": [],
   "source": [
    "data_xls = pd.read_excel('辽宁钢铁行业月用电量.xls')"
   ]
  },
  {
   "cell_type": "code",
   "execution_count": 3,
   "metadata": {},
   "outputs": [
    {
     "data": {
      "text/html": [
       "<div>\n",
       "<style scoped>\n",
       "    .dataframe tbody tr th:only-of-type {\n",
       "        vertical-align: middle;\n",
       "    }\n",
       "\n",
       "    .dataframe tbody tr th {\n",
       "        vertical-align: top;\n",
       "    }\n",
       "\n",
       "    .dataframe thead th {\n",
       "        text-align: right;\n",
       "    }\n",
       "</style>\n",
       "<table border=\"1\" class=\"dataframe\">\n",
       "  <thead>\n",
       "    <tr style=\"text-align: right;\">\n",
       "      <th></th>\n",
       "      <th>月份</th>\n",
       "      <th>辽宁钢铁行业月用电量（亿千万时）</th>\n",
       "    </tr>\n",
       "  </thead>\n",
       "  <tbody>\n",
       "    <tr>\n",
       "      <th>0</th>\n",
       "      <td>2007M01</td>\n",
       "      <td>13.856687</td>\n",
       "    </tr>\n",
       "    <tr>\n",
       "      <th>1</th>\n",
       "      <td>2007M02</td>\n",
       "      <td>11.941298</td>\n",
       "    </tr>\n",
       "    <tr>\n",
       "      <th>2</th>\n",
       "      <td>2007M03</td>\n",
       "      <td>14.555307</td>\n",
       "    </tr>\n",
       "    <tr>\n",
       "      <th>3</th>\n",
       "      <td>2007M04</td>\n",
       "      <td>13.656541</td>\n",
       "    </tr>\n",
       "    <tr>\n",
       "      <th>4</th>\n",
       "      <td>2007M05</td>\n",
       "      <td>13.143799</td>\n",
       "    </tr>\n",
       "    <tr>\n",
       "      <th>...</th>\n",
       "      <td>...</td>\n",
       "      <td>...</td>\n",
       "    </tr>\n",
       "    <tr>\n",
       "      <th>153</th>\n",
       "      <td>2019M10</td>\n",
       "      <td>19.591677</td>\n",
       "    </tr>\n",
       "    <tr>\n",
       "      <th>154</th>\n",
       "      <td>2019M11</td>\n",
       "      <td>21.042283</td>\n",
       "    </tr>\n",
       "    <tr>\n",
       "      <th>155</th>\n",
       "      <td>2019M12</td>\n",
       "      <td>21.137609</td>\n",
       "    </tr>\n",
       "    <tr>\n",
       "      <th>156</th>\n",
       "      <td>2020M01</td>\n",
       "      <td>22.502425</td>\n",
       "    </tr>\n",
       "    <tr>\n",
       "      <th>157</th>\n",
       "      <td>2020M02</td>\n",
       "      <td>19.675281</td>\n",
       "    </tr>\n",
       "  </tbody>\n",
       "</table>\n",
       "<p>158 rows × 2 columns</p>\n",
       "</div>"
      ],
      "text/plain": [
       "          月份  辽宁钢铁行业月用电量（亿千万时）\n",
       "0    2007M01         13.856687\n",
       "1    2007M02         11.941298\n",
       "2    2007M03         14.555307\n",
       "3    2007M04         13.656541\n",
       "4    2007M05         13.143799\n",
       "..       ...               ...\n",
       "153  2019M10         19.591677\n",
       "154  2019M11         21.042283\n",
       "155  2019M12         21.137609\n",
       "156  2020M01         22.502425\n",
       "157  2020M02         19.675281\n",
       "\n",
       "[158 rows x 2 columns]"
      ]
     },
     "execution_count": 3,
     "metadata": {},
     "output_type": "execute_result"
    }
   ],
   "source": [
    "data_xls"
   ]
  },
  {
   "cell_type": "code",
   "execution_count": 4,
   "metadata": {},
   "outputs": [
    {
     "data": {
      "text/html": [
       "<div>\n",
       "<style scoped>\n",
       "    .dataframe tbody tr th:only-of-type {\n",
       "        vertical-align: middle;\n",
       "    }\n",
       "\n",
       "    .dataframe tbody tr th {\n",
       "        vertical-align: top;\n",
       "    }\n",
       "\n",
       "    .dataframe thead th {\n",
       "        text-align: right;\n",
       "    }\n",
       "</style>\n",
       "<table border=\"1\" class=\"dataframe\">\n",
       "  <thead>\n",
       "    <tr style=\"text-align: right;\">\n",
       "      <th></th>\n",
       "      <th>辽宁钢铁行业月用电量（亿千万时）</th>\n",
       "    </tr>\n",
       "  </thead>\n",
       "  <tbody>\n",
       "    <tr>\n",
       "      <th>0</th>\n",
       "      <td>13.856687</td>\n",
       "    </tr>\n",
       "    <tr>\n",
       "      <th>1</th>\n",
       "      <td>11.941298</td>\n",
       "    </tr>\n",
       "    <tr>\n",
       "      <th>2</th>\n",
       "      <td>14.555307</td>\n",
       "    </tr>\n",
       "    <tr>\n",
       "      <th>3</th>\n",
       "      <td>13.656541</td>\n",
       "    </tr>\n",
       "    <tr>\n",
       "      <th>4</th>\n",
       "      <td>13.143799</td>\n",
       "    </tr>\n",
       "    <tr>\n",
       "      <th>...</th>\n",
       "      <td>...</td>\n",
       "    </tr>\n",
       "    <tr>\n",
       "      <th>153</th>\n",
       "      <td>19.591677</td>\n",
       "    </tr>\n",
       "    <tr>\n",
       "      <th>154</th>\n",
       "      <td>21.042283</td>\n",
       "    </tr>\n",
       "    <tr>\n",
       "      <th>155</th>\n",
       "      <td>21.137609</td>\n",
       "    </tr>\n",
       "    <tr>\n",
       "      <th>156</th>\n",
       "      <td>22.502425</td>\n",
       "    </tr>\n",
       "    <tr>\n",
       "      <th>157</th>\n",
       "      <td>19.675281</td>\n",
       "    </tr>\n",
       "  </tbody>\n",
       "</table>\n",
       "<p>158 rows × 1 columns</p>\n",
       "</div>"
      ],
      "text/plain": [
       "     辽宁钢铁行业月用电量（亿千万时）\n",
       "0           13.856687\n",
       "1           11.941298\n",
       "2           14.555307\n",
       "3           13.656541\n",
       "4           13.143799\n",
       "..                ...\n",
       "153         19.591677\n",
       "154         21.042283\n",
       "155         21.137609\n",
       "156         22.502425\n",
       "157         19.675281\n",
       "\n",
       "[158 rows x 1 columns]"
      ]
     },
     "execution_count": 4,
     "metadata": {},
     "output_type": "execute_result"
    }
   ],
   "source": [
    "data_xls.drop(['月份'], axis=1, inplace=True)\n",
    "data_xls"
   ]
  },
  {
   "cell_type": "code",
   "execution_count": 5,
   "metadata": {},
   "outputs": [
    {
     "data": {
      "text/plain": [
       "array([[0.17352158],\n",
       "       [0.04569457],\n",
       "       [0.22014526],\n",
       "       [0.16016446],\n",
       "       [0.12594572],\n",
       "       [0.17623064],\n",
       "       [0.17108138],\n",
       "       [0.16946594],\n",
       "       [0.18185039],\n",
       "       [0.13476088],\n",
       "       [0.18095552],\n",
       "       [0.20192803],\n",
       "       [0.19977261],\n",
       "       [0.09186396],\n",
       "       [0.14721013],\n",
       "       [0.09405303],\n",
       "       [0.29979003],\n",
       "       [0.18065369],\n",
       "       [0.18583854],\n",
       "       [0.23212666],\n",
       "       [0.21184646],\n",
       "       [0.12102172],\n",
       "       [0.        ],\n",
       "       [0.10010754],\n",
       "       [0.26186207],\n",
       "       [0.14140224],\n",
       "       [0.23200236],\n",
       "       [0.30190857],\n",
       "       [0.43137439],\n",
       "       [0.43901368],\n",
       "       [0.48901056],\n",
       "       [0.59532138],\n",
       "       [0.45639647],\n",
       "       [0.5004796 ],\n",
       "       [0.46555455],\n",
       "       [0.54568012],\n",
       "       [0.66581344],\n",
       "       [0.32581249],\n",
       "       [0.51821492],\n",
       "       [0.5203929 ],\n",
       "       [0.56260374],\n",
       "       [0.57005162],\n",
       "       [0.54822271],\n",
       "       [0.67233969],\n",
       "       [0.69445304],\n",
       "       [0.68755161],\n",
       "       [0.70105322],\n",
       "       [0.67174946],\n",
       "       [0.84251424],\n",
       "       [0.60820288],\n",
       "       [0.75503041],\n",
       "       [0.73776892],\n",
       "       [0.81455859],\n",
       "       [0.78684662],\n",
       "       [0.82959787],\n",
       "       [0.79837883],\n",
       "       [0.73975918],\n",
       "       [0.75568395],\n",
       "       [0.63540444],\n",
       "       [0.692194  ],\n",
       "       [0.62393688],\n",
       "       [0.5248018 ],\n",
       "       [0.70620392],\n",
       "       [0.71930169],\n",
       "       [0.78155148],\n",
       "       [0.71689779],\n",
       "       [0.90603019],\n",
       "       [0.69171976],\n",
       "       [0.60203875],\n",
       "       [0.75916102],\n",
       "       [0.79539194],\n",
       "       [0.80755584],\n",
       "       [0.8137116 ],\n",
       "       [0.58721189],\n",
       "       [0.7769315 ],\n",
       "       [0.84664932],\n",
       "       [0.89263423],\n",
       "       [0.80717932],\n",
       "       [0.93825809],\n",
       "       [1.        ],\n",
       "       [0.97295553],\n",
       "       [0.85100013],\n",
       "       [0.77175535],\n",
       "       [0.83979129],\n",
       "       [0.79258752],\n",
       "       [0.56835198],\n",
       "       [0.74762213],\n",
       "       [0.85193598],\n",
       "       [0.99793644],\n",
       "       [0.89024074],\n",
       "       [0.94805902],\n",
       "       [0.93348947],\n",
       "       [0.7942554 ],\n",
       "       [0.686503  ],\n",
       "       [0.69641676],\n",
       "       [0.66722556],\n",
       "       [0.63927665],\n",
       "       [0.44713635],\n",
       "       [0.55365841],\n",
       "       [0.6434521 ],\n",
       "       [0.63649924],\n",
       "       [0.63958462],\n",
       "       [0.63868725],\n",
       "       [0.63572763],\n",
       "       [0.58122482],\n",
       "       [0.60062986],\n",
       "       [0.52094097],\n",
       "       [0.56675305],\n",
       "       [0.54238029],\n",
       "       [0.41565319],\n",
       "       [0.48999128],\n",
       "       [0.59021031],\n",
       "       [0.72106599],\n",
       "       [0.5782126 ],\n",
       "       [0.65889306],\n",
       "       [0.65519955],\n",
       "       [0.64346259],\n",
       "       [0.59414036],\n",
       "       [0.659587  ],\n",
       "       [0.76035414],\n",
       "       [0.67878347],\n",
       "       [0.44318469],\n",
       "       [0.52934327],\n",
       "       [0.42829165],\n",
       "       [0.41449752],\n",
       "       [0.47848904],\n",
       "       [0.52227441],\n",
       "       [0.56569885],\n",
       "       [0.49570297],\n",
       "       [0.60761336],\n",
       "       [0.68724203],\n",
       "       [0.92764034],\n",
       "       [0.86035021],\n",
       "       [0.58780241],\n",
       "       [0.62685057],\n",
       "       [0.4563786 ],\n",
       "       [0.5665696 ],\n",
       "       [0.62248538],\n",
       "       [0.67331531],\n",
       "       [0.70547672],\n",
       "       [0.62259383],\n",
       "       [0.66968399],\n",
       "       [0.72938174],\n",
       "       [0.86360998],\n",
       "       [0.89133784],\n",
       "       [0.65131148],\n",
       "       [0.72744386],\n",
       "       [0.64434565],\n",
       "       [0.60235209],\n",
       "       [0.57779921],\n",
       "       [0.68251193],\n",
       "       [0.65858912],\n",
       "       [0.60869866],\n",
       "       [0.55625664],\n",
       "       [0.65306548],\n",
       "       [0.65942727],\n",
       "       [0.75051079],\n",
       "       [0.56183609]])"
      ]
     },
     "execution_count": 5,
     "metadata": {},
     "output_type": "execute_result"
    }
   ],
   "source": [
    "# #Max-Min标准化\n",
    "# #建立MinMaxScaler对象\n",
    "scaler = preprocessing.MinMaxScaler()\n",
    "\n",
    "# # 标准化处理\n",
    "# scaler = preprocessing.StandardScaler()\n",
    "\n",
    "data = scaler.fit_transform(data_xls)\n",
    "# data = np.array(data_xls)\n",
    "data"
   ]
  },
  {
   "cell_type": "code",
   "execution_count": 6,
   "metadata": {},
   "outputs": [],
   "source": [
    "# n = 0\n",
    "# for i in range(data.shape[0]):\n",
    "#     if data[i,0]<0:\n",
    "#         n=n+1\n",
    "# print(n)"
   ]
  },
  {
   "cell_type": "code",
   "execution_count": 7,
   "metadata": {},
   "outputs": [
    {
     "name": "stdout",
     "output_type": "stream",
     "text": [
      "(146, 1)\n"
     ]
    }
   ],
   "source": [
    "data_y = data[-146:,:]\n",
    "print(data_y.shape)"
   ]
  },
  {
   "cell_type": "code",
   "execution_count": 8,
   "metadata": {},
   "outputs": [
    {
     "name": "stdout",
     "output_type": "stream",
     "text": [
      "[[0.17352158]\n",
      " [0.04569457]\n",
      " [0.22014526]\n",
      " ...\n",
      " [0.65306548]\n",
      " [0.65942727]\n",
      " [0.75051079]]\n",
      "(1752, 1)\n"
     ]
    }
   ],
   "source": [
    "data_x = []\n",
    "for r in range(146):\n",
    "    for c in range(12):\n",
    "        item = []\n",
    "        item.append(data[r+c, 0])\n",
    "        data_x.append(item)\n",
    "data_x = np.array(data_x)\n",
    "print(data_x)\n",
    "print(data_x.shape)"
   ]
  },
  {
   "cell_type": "code",
   "execution_count": 9,
   "metadata": {},
   "outputs": [],
   "source": [
    "data_x=data_x.reshape(146,12,1)"
   ]
  },
  {
   "cell_type": "code",
   "execution_count": 10,
   "metadata": {},
   "outputs": [
    {
     "data": {
      "text/plain": [
       "(146, 12, 1)"
      ]
     },
     "execution_count": 10,
     "metadata": {},
     "output_type": "execute_result"
    }
   ],
   "source": [
    "data_x.shape"
   ]
  },
  {
   "cell_type": "code",
   "execution_count": 11,
   "metadata": {
    "scrolled": true
   },
   "outputs": [
    {
     "data": {
      "text/plain": [
       "array([[[0.17352158],\n",
       "        [0.04569457],\n",
       "        [0.22014526],\n",
       "        ...,\n",
       "        [0.13476088],\n",
       "        [0.18095552],\n",
       "        [0.20192803]],\n",
       "\n",
       "       [[0.04569457],\n",
       "        [0.22014526],\n",
       "        [0.16016446],\n",
       "        ...,\n",
       "        [0.18095552],\n",
       "        [0.20192803],\n",
       "        [0.19977261]],\n",
       "\n",
       "       [[0.22014526],\n",
       "        [0.16016446],\n",
       "        [0.12594572],\n",
       "        ...,\n",
       "        [0.20192803],\n",
       "        [0.19977261],\n",
       "        [0.09186396]],\n",
       "\n",
       "       ...,\n",
       "\n",
       "       [[0.86360998],\n",
       "        [0.89133784],\n",
       "        [0.65131148],\n",
       "        ...,\n",
       "        [0.60869866],\n",
       "        [0.55625664],\n",
       "        [0.65306548]],\n",
       "\n",
       "       [[0.89133784],\n",
       "        [0.65131148],\n",
       "        [0.72744386],\n",
       "        ...,\n",
       "        [0.55625664],\n",
       "        [0.65306548],\n",
       "        [0.65942727]],\n",
       "\n",
       "       [[0.65131148],\n",
       "        [0.72744386],\n",
       "        [0.64434565],\n",
       "        ...,\n",
       "        [0.65306548],\n",
       "        [0.65942727],\n",
       "        [0.75051079]]])"
      ]
     },
     "execution_count": 11,
     "metadata": {},
     "output_type": "execute_result"
    }
   ],
   "source": [
    "data_x"
   ]
  },
  {
   "cell_type": "code",
   "execution_count": 12,
   "metadata": {},
   "outputs": [],
   "source": [
    "data_y = data_y.reshape(146,1,1)"
   ]
  },
  {
   "cell_type": "code",
   "execution_count": 13,
   "metadata": {},
   "outputs": [],
   "source": [
    "data_x_train = data_x[:120,:, :]\n",
    "data_y_train = data_y[:120,0,:]\n",
    "\n",
    "data_x_test = data_x[-26:,:, :]\n",
    "data_y_test = data_y[-26:,0,:]"
   ]
  },
  {
   "cell_type": "code",
   "execution_count": 14,
   "metadata": {},
   "outputs": [
    {
     "name": "stdout",
     "output_type": "stream",
     "text": [
      "(120, 12, 1)\n",
      "(26, 1)\n",
      "(120, 12, 1)\n",
      "(26, 1)\n"
     ]
    }
   ],
   "source": [
    "print(data_x_train.shape)\n",
    "print(data_y_test.shape)\n",
    "print(data_x_train.shape)\n",
    "print(data_y_test.shape)"
   ]
  },
  {
   "cell_type": "code",
   "execution_count": 15,
   "metadata": {},
   "outputs": [],
   "source": [
    "\n",
    "#     model = Sequential()\n",
    " \n",
    "#     model.add(LSTM(input_dim=10,output_dim=128,return_sequences=True))\n",
    "#     model.add(Dropout(0.1))\n",
    " \n",
    "#     model.add(LSTM(128,return_sequences=False))\n",
    "#     model.add(Dropout(0.1))\n",
    " \n",
    "#     model.add(Dense(output_dim=1))\n",
    "#     model.add(Activation(\"linear\"))\n",
    " \n",
    "#     model.compile(loss=\"mse\", optimizer=\"rmsprop\")"
   ]
  },
  {
   "cell_type": "code",
   "execution_count": 16,
   "metadata": {},
   "outputs": [],
   "source": [
    "# model = Sequential()\n",
    "\n",
    "# model.add(LSTM(output_dim=128, \n",
    "#                 input_shape=(10, 1),\n",
    "#                 activation='relu',\n",
    "#                 return_sequences=True))\n",
    "# for i in range(6):\n",
    "#     model.add(LSTM(output_dim=128,\n",
    "#                     activation='tanh',\n",
    "#                     return_sequences=True))\n",
    "# #     model.add(Dropout(0.1))\n",
    "\n",
    "# model.add(LSTM(output_dim=1,\n",
    "#                activation='linear',\n",
    "#                return_sequences=False))\n",
    "\n",
    "# model.compile(loss='mse', optimizer='adam', metrics=[metrics.mse])\n",
    "# model.summary()"
   ]
  },
  {
   "cell_type": "code",
   "execution_count": 17,
   "metadata": {},
   "outputs": [],
   "source": [
    "def create_model(output_dim1, num_layer, output_dim2):\n",
    "    model = Sequential()\n",
    "\n",
    "    model.add(LSTM(output_dim=output_dim1, \n",
    "                input_shape=(12, 1),\n",
    "                activation='relu',\n",
    "                return_sequences=True))\n",
    "    for i in range(num_layer):\n",
    "        model.add(LSTM(output_dim=output_dim2,\n",
    "                        activation='tanh',\n",
    "                        return_sequences=True))\n",
    "#     model.add(Dropout(0.1))\n",
    "\n",
    "    model.add(LSTM(output_dim=1,\n",
    "               activation='linear',\n",
    "                return_sequences=False))\n",
    "\n",
    "    model.compile(loss='mse', optimizer='adam', metrics=[metrics.mse])\n",
    "#     model.summary()\n",
    "    return model"
   ]
  },
  {
   "cell_type": "code",
   "execution_count": 18,
   "metadata": {},
   "outputs": [],
   "source": [
    "from sklearn.model_selection import RandomizedSearchCV\n",
    "from skopt.space import Real, Categorical, Integer\n",
    "from keras.wrappers.scikit_learn import KerasRegressor\n",
    "from sklearn.model_selection import train_test_split"
   ]
  },
  {
   "cell_type": "code",
   "execution_count": 19,
   "metadata": {},
   "outputs": [],
   "source": [
    "# #采用暴力搜索，所有参数进行组合，然后选择最好的参数\n",
    "# tuned_parameters=[{'output_dim1':Integer(28, 128),\n",
    "#                    'num_layer':Integer(3,12),\n",
    "#                    'output_dim2':Integer(28, 128)}]\n",
    "# # 'output_dim1':Integer(28, 128),\n",
    "# #             'num_layer':Integer(3,12),\n",
    "# #             'output_dim2':Integer(28, 128)"
   ]
  },
  {
   "cell_type": "code",
   "execution_count": 20,
   "metadata": {},
   "outputs": [],
   "source": [
    "# train_x, test_x, train_y, test_y = train_test_split(data_x, data_y, train_size=0.80, random_state=0)"
   ]
  },
  {
   "cell_type": "code",
   "execution_count": 21,
   "metadata": {},
   "outputs": [],
   "source": [
    "# model=KerasRegressor(build_fn=create_model)"
   ]
  },
  {
   "cell_type": "code",
   "execution_count": 22,
   "metadata": {
    "scrolled": true
   },
   "outputs": [],
   "source": [
    "# #采用随机搜索，给参数一个范围，然后系统随机选择参数，进行检验，然后选择最好的\n",
    "# tuned_parameters={'output_dim1':[28, 64, 96,128],\n",
    "#                    'num_layer':[4,5,6,7,8],\n",
    "#                    'output_dim2':[28,64, 96,128]}\n",
    "\n",
    "# lstm=RandomizedSearchCV(model,tuned_parameters,scoring='neg_mean_squared_error',n_iter=10)\n",
    " \n",
    "# lstm.fit(data_x_train,data_y_train)"
   ]
  },
  {
   "cell_type": "code",
   "execution_count": 23,
   "metadata": {},
   "outputs": [],
   "source": [
    "# print('最优训练器:',lstm.best_estimator_)\n",
    "# print('最优训练器的精度:',lstm.best_score_)"
   ]
  },
  {
   "cell_type": "code",
   "execution_count": 24,
   "metadata": {},
   "outputs": [],
   "source": [
    "# best_estimator_ = lstm.best_estimator_"
   ]
  },
  {
   "cell_type": "code",
   "execution_count": 25,
   "metadata": {},
   "outputs": [],
   "source": [
    "# best_estimator_.predict(data_x_test,batch_size = 1)"
   ]
  },
  {
   "cell_type": "code",
   "execution_count": null,
   "metadata": {},
   "outputs": [],
   "source": []
  },
  {
   "cell_type": "code",
   "execution_count": null,
   "metadata": {},
   "outputs": [],
   "source": []
  },
  {
   "cell_type": "code",
   "execution_count": null,
   "metadata": {},
   "outputs": [],
   "source": []
  },
  {
   "cell_type": "code",
   "execution_count": null,
   "metadata": {},
   "outputs": [],
   "source": []
  },
  {
   "cell_type": "code",
   "execution_count": null,
   "metadata": {},
   "outputs": [],
   "source": []
  },
  {
   "cell_type": "code",
   "execution_count": 26,
   "metadata": {},
   "outputs": [],
   "source": [
    "# import sklearn\n",
    "# sorted(sklearn.metrics.SCORERS.keys())"
   ]
  },
  {
   "cell_type": "code",
   "execution_count": null,
   "metadata": {},
   "outputs": [],
   "source": []
  },
  {
   "cell_type": "code",
   "execution_count": 27,
   "metadata": {},
   "outputs": [],
   "source": [
    "# from sklearn.model_selection import train_test_split\n",
    "# from skopt import BayesSearchCV\n",
    "# from skopt.space import Real, Categorical, Integer"
   ]
  },
  {
   "cell_type": "code",
   "execution_count": 28,
   "metadata": {},
   "outputs": [],
   "source": [
    "# class FixedBayesSearchCV(BayesSearchCV):\n",
    "#     \"\"\"\n",
    "#     Dirty hack to avoid compatibility issues with sklearn 0.2 and skopt.\n",
    "#     Credit: https://www.kaggle.com/c/home-credit-default-risk/discussion/64004\n",
    "#     For context, on why the workaround see:\n",
    "#         - https://github.com/scikit-optimize/scikit-optimize/issues/718\n",
    "#         - https://github.com/scikit-optimize/scikit-optimize/issues/762\n",
    "#     \"\"\"\n",
    "#     def __init__(self, estimator, search_spaces, optimizer_kwargs=None,\n",
    "#                 n_iter=50, scoring=None, fit_params=None, n_jobs=1,\n",
    "#                 n_points=1, iid=True, refit=True, cv=None, verbose=0,\n",
    "#                 pre_dispatch='2*n_jobs', random_state=None,\n",
    "#                 error_score='raise', return_train_score=False):\n",
    "#         \"\"\"\n",
    "#         See: https://github.com/scikit-optimize/scikit-optimize/issues/762#issuecomment-493689266\n",
    "#         \"\"\"\n",
    " \n",
    "#         # Bug fix: Added this line\n",
    "#         self.fit_params = fit_params\n",
    " \n",
    "#         self.search_spaces = search_spaces\n",
    "#         self.n_iter = n_iter\n",
    "#         self.n_points = n_points\n",
    "#         self.random_state = random_state\n",
    "#         self.optimizer_kwargs = optimizer_kwargs\n",
    "#         self._check_search_space(self.search_spaces)\n",
    " \n",
    "#         # Removed the passing of fit_params to the parent class.\n",
    "#         super(BayesSearchCV, self).__init__(\n",
    "#                 estimator=estimator, scoring=scoring, n_jobs=n_jobs, iid=iid,\n",
    "#                 refit=refit, cv=cv, verbose=verbose, pre_dispatch=pre_dispatch,\n",
    "#                 error_score=error_score, return_train_score=return_train_score)\n",
    " \n",
    "#     def _run_search(self, x):\n",
    "#         raise BaseException('Use newer skopt')"
   ]
  },
  {
   "cell_type": "code",
   "execution_count": 29,
   "metadata": {},
   "outputs": [],
   "source": [
    "# def lstm_auto_para_tuning_bayesian(model,data_x,data_y):\n",
    "#     train_x, test_x, train_y, test_y = train_test_split(data_x, data_y, train_size=0.80, random_state=0)\n",
    "#     # cv：交叉验证 n_points：并行采样的超参组数\n",
    "#     opt = FixedBayesSearchCV(model,cv=5,n_points=2,n_jobs=4,verbose=1,\n",
    "#         search_spaces={\n",
    "#             'output_dim1':Integer(28, 128),\n",
    "#             'num_layer':Integer(3,12),\n",
    "#             'output_dim2':Integer(28, 128)\n",
    "#         },\n",
    "#          fit_params={\n",
    "#                  'eval_set':[(test_x, test_y)],\n",
    "#                  'eval_metric': 'mse',\n",
    "#                  'early_stopping_rounds': 50\n",
    "#                  })\n",
    "#     opt.fit(train_x,train_y)\n",
    "#     print(\"val. score: %s\" % opt.best_score_)\n",
    "#     print(\"test score: %s\" % opt.score(test_x, test_y))\n",
    "#     print(\"Best parameters: \", opt.best_params_)\n",
    "#     print(\"Best estimator:\", opt.best_estimator_)"
   ]
  },
  {
   "cell_type": "code",
   "execution_count": 30,
   "metadata": {},
   "outputs": [
    {
     "name": "stdout",
     "output_type": "stream",
     "text": [
      "WARNING:tensorflow:From e:\\envs\\python36env\\lib\\site-packages\\tensorflow\\python\\framework\\op_def_library.py:263: colocate_with (from tensorflow.python.framework.ops) is deprecated and will be removed in a future version.\n",
      "Instructions for updating:\n",
      "Colocations handled automatically by placer.\n"
     ]
    },
    {
     "name": "stderr",
     "output_type": "stream",
     "text": [
      "e:\\envs\\python36env\\lib\\site-packages\\ipykernel_launcher.py:7: UserWarning: Update your `LSTM` call to the Keras 2 API: `LSTM(input_shape=(12, 1), activation=\"relu\", return_sequences=True, units=32)`\n",
      "  import sys\n",
      "e:\\envs\\python36env\\lib\\site-packages\\ipykernel_launcher.py:11: UserWarning: Update your `LSTM` call to the Keras 2 API: `LSTM(activation=\"tanh\", return_sequences=True, units=32)`\n",
      "  # This is added back by InteractiveShellApp.init_path()\n",
      "e:\\envs\\python36env\\lib\\site-packages\\ipykernel_launcher.py:16: UserWarning: Update your `LSTM` call to the Keras 2 API: `LSTM(activation=\"linear\", return_sequences=False, units=1)`\n",
      "  app.launch_new_instance()\n"
     ]
    }
   ],
   "source": [
    "model = create_model(32, 4, 32)"
   ]
  },
  {
   "cell_type": "code",
   "execution_count": 31,
   "metadata": {},
   "outputs": [],
   "source": [
    "# lstm_auto_para_tuning_bayesian(model,data_x,data_y)"
   ]
  },
  {
   "cell_type": "code",
   "execution_count": 32,
   "metadata": {
    "scrolled": false
   },
   "outputs": [
    {
     "name": "stdout",
     "output_type": "stream",
     "text": [
      "WARNING:tensorflow:From e:\\envs\\python36env\\lib\\site-packages\\tensorflow\\python\\ops\\math_ops.py:3066: to_int32 (from tensorflow.python.ops.math_ops) is deprecated and will be removed in a future version.\n",
      "Instructions for updating:\n",
      "Use tf.cast instead.\n",
      "Epoch 1/20\n",
      "120/120 [==============================] - 9s 77ms/step - loss: 0.4107 - mean_squared_error: 0.4107\n",
      "Epoch 2/20\n",
      "120/120 [==============================] - 0s 1ms/step - loss: 0.3967 - mean_squared_error: 0.3967\n",
      "Epoch 3/20\n",
      "120/120 [==============================] - 0s 1ms/step - loss: 0.3841 - mean_squared_error: 0.3841\n",
      "Epoch 4/20\n",
      "120/120 [==============================] - 0s 1ms/step - loss: 0.3698 - mean_squared_error: 0.3698\n",
      "Epoch 5/20\n",
      "120/120 [==============================] - 0s 1ms/step - loss: 0.3526 - mean_squared_error: 0.3526\n",
      "Epoch 6/20\n",
      "120/120 [==============================] - 0s 900us/step - loss: 0.3333 - mean_squared_error: 0.3333\n",
      "Epoch 7/20\n",
      "120/120 [==============================] - 0s 1ms/step - loss: 0.3115 - mean_squared_error: 0.3115\n",
      "Epoch 8/20\n",
      "120/120 [==============================] - 0s 979us/step - loss: 0.2868 - mean_squared_error: 0.2868\n",
      "Epoch 9/20\n",
      "120/120 [==============================] - 0s 987us/step - loss: 0.2585 - mean_squared_error: 0.2585\n",
      "Epoch 10/20\n",
      "120/120 [==============================] - 0s 1ms/step - loss: 0.2267 - mean_squared_error: 0.2267\n",
      "Epoch 11/20\n",
      "120/120 [==============================] - 0s 1ms/step - loss: 0.1905 - mean_squared_error: 0.1905\n",
      "Epoch 12/20\n",
      "120/120 [==============================] - 0s 1ms/step - loss: 0.1504 - mean_squared_error: 0.1504\n",
      "Epoch 13/20\n",
      "120/120 [==============================] - 0s 1ms/step - loss: 0.1075 - mean_squared_error: 0.1075\n",
      "Epoch 14/20\n",
      "120/120 [==============================] - 0s 1ms/step - loss: 0.0656 - mean_squared_error: 0.0656\n",
      "Epoch 15/20\n",
      "120/120 [==============================] - 0s 1ms/step - loss: 0.0341 - mean_squared_error: 0.0341\n",
      "Epoch 16/20\n",
      "120/120 [==============================] - 0s 1ms/step - loss: 0.0336 - mean_squared_error: 0.0336\n",
      "Epoch 17/20\n",
      "120/120 [==============================] - 0s 1ms/step - loss: 0.0777 - mean_squared_error: 0.0777\n",
      "Epoch 18/20\n",
      "120/120 [==============================] - 0s 1ms/step - loss: 0.0941 - mean_squared_error: 0.0941\n",
      "Epoch 19/20\n",
      "120/120 [==============================] - 0s 975us/step - loss: 0.0745 - mean_squared_error: 0.0745\n",
      "Epoch 20/20\n",
      "120/120 [==============================] - 0s 971us/step - loss: 0.0488 - mean_squared_error: 0.0488\n"
     ]
    },
    {
     "data": {
      "text/plain": [
       "<keras.callbacks.History at 0x2dad029dd68>"
      ]
     },
     "execution_count": 32,
     "metadata": {},
     "output_type": "execute_result"
    }
   ],
   "source": [
    "model.fit(data_x_train, data_y_train, epochs=20, batch_size=2000, verbose=1)"
   ]
  },
  {
   "cell_type": "code",
   "execution_count": 33,
   "metadata": {},
   "outputs": [
    {
     "name": "stdout",
     "output_type": "stream",
     "text": [
      "26/26 [==============================] - 1s 54ms/step\n",
      "\n",
      "test loss 0.01122\n",
      "accuracy 0.01122\n"
     ]
    }
   ],
   "source": [
    "# 评估模型,不输出预测结果\n",
    "loss,accuracy = model.evaluate(data_x_test,data_y_test)\n",
    "print('\\ntest loss','{:.5f}'.format(loss))\n",
    "print('accuracy','{:.5f}'.format(accuracy))"
   ]
  },
  {
   "cell_type": "code",
   "execution_count": 34,
   "metadata": {},
   "outputs": [],
   "source": [
    "y_pred = model.predict(data_x_test,batch_size = 1)"
   ]
  },
  {
   "cell_type": "code",
   "execution_count": 41,
   "metadata": {},
   "outputs": [
    {
     "data": {
      "text/plain": [
       "array([[0.66122645],\n",
       "       [0.6457634 ],\n",
       "       [0.65152746],\n",
       "       [0.6516316 ],\n",
       "       [0.6630482 ],\n",
       "       [0.67899436],\n",
       "       [0.6922183 ],\n",
       "       [0.70372033],\n",
       "       [0.7128784 ],\n",
       "       [0.7297139 ],\n",
       "       [0.7368482 ],\n",
       "       [0.73535836],\n",
       "       [0.70923877],\n",
       "       [0.6874698 ],\n",
       "       [0.69018006],\n",
       "       [0.69095486],\n",
       "       [0.70952237],\n",
       "       [0.72088283],\n",
       "       [0.7288669 ],\n",
       "       [0.73313475],\n",
       "       [0.7348539 ],\n",
       "       [0.74456936],\n",
       "       [0.7498827 ],\n",
       "       [0.7483432 ],\n",
       "       [0.7318626 ],\n",
       "       [0.71037155]], dtype=float32)"
      ]
     },
     "execution_count": 41,
     "metadata": {},
     "output_type": "execute_result"
    }
   ],
   "source": [
    "y_pred"
   ]
  },
  {
   "cell_type": "code",
   "execution_count": 36,
   "metadata": {},
   "outputs": [],
   "source": [
    "# data_y_test[-10:,0]"
   ]
  },
  {
   "cell_type": "code",
   "execution_count": 37,
   "metadata": {},
   "outputs": [],
   "source": [
    "# data_x_test[-10:,0,-1]"
   ]
  },
  {
   "cell_type": "code",
   "execution_count": 38,
   "metadata": {},
   "outputs": [],
   "source": [
    "# t = []\n",
    "# for i in range(2000):\n",
    "#     if data_y_test[:,0][i]>data_x_test[:,0,-1][i]:\n",
    "#         t.append(1)\n",
    "#     else:\n",
    "#         t.append(0)\n",
    "# len(t)"
   ]
  },
  {
   "cell_type": "code",
   "execution_count": 39,
   "metadata": {},
   "outputs": [],
   "source": [
    "# p = []\n",
    "# for i in range(2000):\n",
    "#     if y_pred[:,0][i]>data_x_test[:,0,-1][i]:\n",
    "#         p.append(1)\n",
    "#     else:\n",
    "#         p.append(0)\n",
    "# len(p)"
   ]
  },
  {
   "cell_type": "code",
   "execution_count": 40,
   "metadata": {},
   "outputs": [],
   "source": [
    "# n = 0\n",
    "# for i in range(2000):\n",
    "#     if t[i]==p[i]:\n",
    "#         n=n+1\n",
    "# n/2000"
   ]
  },
  {
   "cell_type": "code",
   "execution_count": null,
   "metadata": {},
   "outputs": [],
   "source": []
  }
 ],
 "metadata": {
  "kernelspec": {
   "display_name": "Python 3",
   "language": "python",
   "name": "python3"
  },
  "language_info": {
   "codemirror_mode": {
    "name": "ipython",
    "version": 3
   },
   "file_extension": ".py",
   "mimetype": "text/x-python",
   "name": "python",
   "nbconvert_exporter": "python",
   "pygments_lexer": "ipython3",
   "version": "3.6.5"
  }
 },
 "nbformat": 4,
 "nbformat_minor": 4
}
