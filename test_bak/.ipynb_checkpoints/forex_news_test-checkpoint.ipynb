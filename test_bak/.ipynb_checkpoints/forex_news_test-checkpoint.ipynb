{
 "cells": [
  {
   "cell_type": "code",
   "execution_count": 1,
   "metadata": {},
   "outputs": [],
   "source": [
    "import urllib.request\n",
    "import requests\n",
    "import time\n",
    "import urllib\n",
    "from bs4 import BeautifulSoup\n",
    "import re"
   ]
  },
  {
   "cell_type": "code",
   "execution_count": 4,
   "metadata": {},
   "outputs": [],
   "source": [
    "def update_news():\n",
    "#     url = 'http://www.cnforex.com/'\n",
    "#     html = urllib.request.urlopen(url).read()\n",
    "#     soup = BeautifulSoup(html)\n",
    "#     urllist = soup.find_all('figure',class_= re.compile(r\"^normal\"))\n",
    "#     print(urllist)\n",
    "#     for i in range(4):\n",
    "#         print(i)\n",
    "#         print(urllist[i].a.attrs['href'])\n",
    "#         print(urllist[i].img.attrs['src'])\n",
    "#         url = urllist[i].a.attrs['href']\n",
    "#         html = urllib.request.urlopen(url).read()\n",
    "#         soup = BeautifulSoup(html)\n",
    "#         title = soup.section.h1.string\n",
    "#         published_time = soup.section.h3.time.string\n",
    "#         news_from = soup.section.h3.a.string\n",
    "#         content = str(soup.article.find_all('p')).split('[')[1].split(']')[0]\n",
    "#         print(title)\n",
    "#         print(published_time)\n",
    "#         print(news_from)\n",
    "#         print(content)\n",
    "        \n",
    "    url = 'http://www.cnforex.com/news/html/2020/04/03/92f097c94f87b240638d18d46739aee9.html'\n",
    "    html = urllib.request.urlopen(url).read()\n",
    "    soup = BeautifulSoup(html)\n",
    "    title = soup.section.h1.string\n",
    "    published_time = soup.section.h3.time.string\n",
    "    news_from = soup.section.h3.a.string\n",
    "    content = soup.article.find_all('p')\n",
    "    print(title)\n",
    "    print(published_time)\n",
    "    print(news_from)\n",
    "    print(content)\n",
    "    print(type(content[0]))"
   ]
  },
  {
   "cell_type": "code",
   "execution_count": null,
   "metadata": {},
   "outputs": [],
   "source": [
    "if __name__ == \"__main__\":\n",
    "    update_news()"
   ]
  },
  {
   "cell_type": "code",
   "execution_count": null,
   "metadata": {},
   "outputs": [],
   "source": []
  }
 ],
 "metadata": {
  "kernelspec": {
   "display_name": "Python 3",
   "language": "python",
   "name": "python3"
  },
  "language_info": {
   "codemirror_mode": {
    "name": "ipython",
    "version": 3
   },
   "file_extension": ".py",
   "mimetype": "text/x-python",
   "name": "python",
   "nbconvert_exporter": "python",
   "pygments_lexer": "ipython3",
   "version": "3.8.2"
  }
 },
 "nbformat": 4,
 "nbformat_minor": 4
}
