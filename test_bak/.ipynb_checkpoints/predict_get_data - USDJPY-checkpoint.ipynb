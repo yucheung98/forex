{
 "cells": [
  {
   "cell_type": "code",
   "execution_count": 1,
   "metadata": {},
   "outputs": [],
   "source": [
    "from datetime import datetime\n",
    "import MetaTrader5 as mt5\n",
    "import pymysql, pytz\n",
    "import pandas as pd \n",
    "import numpy as np"
   ]
  },
  {
   "cell_type": "code",
   "execution_count": null,
   "metadata": {},
   "outputs": [],
   "source": [
    "\n",
    "    \"\"\"\n",
    "    获取连续11小时的USDJPY收盘价数据\n",
    "    \"\"\"\n",
    "    if not mt5.initialize():\n",
    "        print(\"initialize() failed, error code =\", mt5.last_error())\n",
    "        quit()\n",
    "#     # 将时区设置为UTC\n",
    "#     timezone = pytz.timezone(\"Etc/UTC\")\n",
    "#     # 以UTC时区创建'datetime'对象，以避免实现本地时区偏移\n",
    "#     utc_from = datetime(2020, 4, 15, tzinfo=timezone)\n",
    "#     # 在UTC时区，获取----开始的11个EURUSD H4柱形图\n",
    "    rates = mt5.copy_rates_from_pos('USDJPY', mt5.TIMEFRAME_D1, 1, 2010)\n",
    "#     print(rates)\n",
    "#     print(type(rates))\n",
    "    ticks_frame = pd.DataFrame(rates)\n",
    "#     ticks_frame['time']=pd.to_datetime(ticks_frame['time'], unit='s')\n",
    "#     print(ticks_frame)\n",
    "#     print(ticks_frame['close'])\n",
    "#     close_list = ticks_frame['close'].tolist()\n",
    "#     print(close_list)\n",
    "#     df_EURUSD = pd.DataFrame(columns=['t1', 't2', 't3', 't4', 't5', 't6', 't7', 't8', 't9', 't10', 't11'])\n",
    "#     for i in range(len(close_list)-10):\n",
    "# #     print(close_list[i:i + 11])\n",
    "#         df_EURUSD.loc[len(df_EURUSD)] = close_list[i:i + 11]\n",
    "#     df_EURUSD = pd.DataFrame(columns=['close', 'change'])\n",
    "    df_USDJPY = ticks_frame['close']\n",
    "   \n"
   ]
  },
  {
   "cell_type": "code",
   "execution_count": null,
   "metadata": {},
   "outputs": [],
   "source": [
    "ticks_frame"
   ]
  },
  {
   "cell_type": "code",
   "execution_count": null,
   "metadata": {},
   "outputs": [],
   "source": [
    "# close_array = np.array(ticks_frame['close'])\n",
    "# len(close_array)"
   ]
  },
  {
   "cell_type": "code",
   "execution_count": null,
   "metadata": {},
   "outputs": [],
   "source": [
    "# for i in range(len(close_array)-1):\n",
    "#     change = (close_array[i+1] - close_array[i])*1000\n",
    "#     df_EURUSD.loc[i] = [close_array[i+1], change]"
   ]
  },
  {
   "cell_type": "code",
   "execution_count": null,
   "metadata": {},
   "outputs": [],
   "source": [
    "df_USDJPY"
   ]
  },
  {
   "cell_type": "code",
   "execution_count": null,
   "metadata": {},
   "outputs": [],
   "source": [
    "\n",
    "    df_USDJPY.to_csv('USDJPY_data_D1.csv',encoding='utf_8_sig')"
   ]
  },
  {
   "cell_type": "code",
   "execution_count": null,
   "metadata": {},
   "outputs": [],
   "source": []
  }
 ],
 "metadata": {
  "kernelspec": {
   "display_name": "Python 3",
   "language": "python",
   "name": "python3"
  },
  "language_info": {
   "codemirror_mode": {
    "name": "ipython",
    "version": 3
   },
   "file_extension": ".py",
   "mimetype": "text/x-python",
   "name": "python",
   "nbconvert_exporter": "python",
   "pygments_lexer": "ipython3",
   "version": "3.6.5"
  }
 },
 "nbformat": 4,
 "nbformat_minor": 4
}
