{
 "cells": [
  {
   "cell_type": "code",
   "execution_count": 2,
   "metadata": {
    "scrolled": false
   },
   "outputs": [
    {
     "name": "stderr",
     "output_type": "stream",
     "text": [
      "Using TensorFlow backend.\n",
      "e:\\envs\\python36env\\lib\\site-packages\\tensorflow\\python\\framework\\dtypes.py:526: FutureWarning: Passing (type, 1) or '1type' as a synonym of type is deprecated; in a future version of numpy, it will be understood as (type, (1,)) / '(1,)type'.\n",
      "  _np_qint8 = np.dtype([(\"qint8\", np.int8, 1)])\n",
      "e:\\envs\\python36env\\lib\\site-packages\\tensorflow\\python\\framework\\dtypes.py:527: FutureWarning: Passing (type, 1) or '1type' as a synonym of type is deprecated; in a future version of numpy, it will be understood as (type, (1,)) / '(1,)type'.\n",
      "  _np_quint8 = np.dtype([(\"quint8\", np.uint8, 1)])\n",
      "e:\\envs\\python36env\\lib\\site-packages\\tensorflow\\python\\framework\\dtypes.py:528: FutureWarning: Passing (type, 1) or '1type' as a synonym of type is deprecated; in a future version of numpy, it will be understood as (type, (1,)) / '(1,)type'.\n",
      "  _np_qint16 = np.dtype([(\"qint16\", np.int16, 1)])\n",
      "e:\\envs\\python36env\\lib\\site-packages\\tensorflow\\python\\framework\\dtypes.py:529: FutureWarning: Passing (type, 1) or '1type' as a synonym of type is deprecated; in a future version of numpy, it will be understood as (type, (1,)) / '(1,)type'.\n",
      "  _np_quint16 = np.dtype([(\"quint16\", np.uint16, 1)])\n",
      "e:\\envs\\python36env\\lib\\site-packages\\tensorflow\\python\\framework\\dtypes.py:530: FutureWarning: Passing (type, 1) or '1type' as a synonym of type is deprecated; in a future version of numpy, it will be understood as (type, (1,)) / '(1,)type'.\n",
      "  _np_qint32 = np.dtype([(\"qint32\", np.int32, 1)])\n",
      "e:\\envs\\python36env\\lib\\site-packages\\tensorflow\\python\\framework\\dtypes.py:535: FutureWarning: Passing (type, 1) or '1type' as a synonym of type is deprecated; in a future version of numpy, it will be understood as (type, (1,)) / '(1,)type'.\n",
      "  np_resource = np.dtype([(\"resource\", np.ubyte, 1)])\n"
     ]
    }
   ],
   "source": [
    "import numpy as np \n",
    "import pandas as pd \n",
    "import matplotlib.pyplot as plt \n",
    "from sklearn import preprocessing\n",
    "from keras.layers.core import Dense, Activation, Dropout\n",
    "from keras.layers.recurrent import LSTM\n",
    "from keras.models import Sequential\n",
    "from keras import metrics\n",
    "from sklearn.model_selection import train_test_split\n",
    "from skopt import BayesSearchCV\n",
    "from keras.wrappers.scikit_learn import KerasRegressor"
   ]
  },
  {
   "cell_type": "code",
   "execution_count": 3,
   "metadata": {},
   "outputs": [],
   "source": [
    "data_csv = pd.read_csv('EURUSD_data_D1.csv')"
   ]
  },
  {
   "cell_type": "code",
   "execution_count": 4,
   "metadata": {},
   "outputs": [],
   "source": [
    "data_csv.drop(['Unnamed: 0'], axis=1, inplace=True)"
   ]
  },
  {
   "cell_type": "code",
   "execution_count": 5,
   "metadata": {},
   "outputs": [
    {
     "name": "stdout",
     "output_type": "stream",
     "text": [
      "        close\n",
      "0     1.23183\n",
      "1     1.22861\n",
      "2     1.23558\n",
      "3     1.23327\n",
      "4     1.23459\n",
      "...       ...\n",
      "2005  1.08319\n",
      "2006  1.08386\n",
      "2007  1.08060\n",
      "2008  1.08469\n",
      "2009  1.08173\n",
      "\n",
      "[2010 rows x 1 columns]\n"
     ]
    }
   ],
   "source": [
    "print(data_csv)"
   ]
  },
  {
   "cell_type": "code",
   "execution_count": 6,
   "metadata": {},
   "outputs": [
    {
     "data": {
      "text/plain": [
       "array([[0.54508   ],\n",
       "       [0.53599345],\n",
       "       [0.55566216],\n",
       "       ...,\n",
       "       [0.11832266],\n",
       "       [0.12986427],\n",
       "       [0.12151141]])"
      ]
     },
     "execution_count": 6,
     "metadata": {},
     "output_type": "execute_result"
    }
   ],
   "source": [
    "data_origin = np.array(data_csv)\n",
    "# #Max-Min标准化\n",
    "# #建立MinMaxScaler对象\n",
    "# scaler = preprocessing.StandardScaler()\n",
    "# # 标准化处理\n",
    "scaler = preprocessing.MinMaxScaler()\n",
    "data = scaler.fit_transform(data_origin)\n",
    "\n",
    "data"
   ]
  },
  {
   "cell_type": "code",
   "execution_count": 70,
   "metadata": {},
   "outputs": [
    {
     "name": "stdout",
     "output_type": "stream",
     "text": [
      "(2000, 1)\n"
     ]
    }
   ],
   "source": [
    "data_y = data[-2000:,:]\n",
    "print(data_y.shape)"
   ]
  },
  {
   "cell_type": "code",
   "execution_count": 71,
   "metadata": {},
   "outputs": [
    {
     "name": "stdout",
     "output_type": "stream",
     "text": [
      "[[0.54508   ]\n",
      " [0.53599345]\n",
      " [0.55566216]\n",
      " ...\n",
      " [0.12752208]\n",
      " [0.11832266]\n",
      " [0.12986427]]\n",
      "(20000, 1)\n"
     ]
    }
   ],
   "source": [
    "data_x = []\n",
    "for r in range(2000):\n",
    "    for c in range(10):\n",
    "        item = []\n",
    "        item.append(data[r+c, 0])\n",
    "        data_x.append(item)\n",
    "data_x = np.array(data_x)\n",
    "print(data_x)\n",
    "print(data_x.shape)"
   ]
  },
  {
   "cell_type": "code",
   "execution_count": 72,
   "metadata": {},
   "outputs": [],
   "source": [
    "data_x=data_x.reshape(2000,10,1)"
   ]
  },
  {
   "cell_type": "code",
   "execution_count": 73,
   "metadata": {},
   "outputs": [
    {
     "data": {
      "text/plain": [
       "(2000, 10, 1)"
      ]
     },
     "execution_count": 73,
     "metadata": {},
     "output_type": "execute_result"
    }
   ],
   "source": [
    "data_x.shape"
   ]
  },
  {
   "cell_type": "code",
   "execution_count": 74,
   "metadata": {},
   "outputs": [],
   "source": [
    "data_x_train = data_x[:,:, :]\n",
    "data_y_train = data_y[:,:]\n",
    "\n",
    "data_x_test = data_x[-200:,:, :]\n",
    "data_y_test = data_y[-200:,:]"
   ]
  },
  {
   "cell_type": "code",
   "execution_count": 75,
   "metadata": {},
   "outputs": [
    {
     "name": "stdout",
     "output_type": "stream",
     "text": [
      "(2000, 10, 1)\n",
      "(2000, 1)\n",
      "(200, 10, 1)\n",
      "(200, 1)\n"
     ]
    }
   ],
   "source": [
    "print(data_x_train.shape)\n",
    "print(data_y_train.shape)\n",
    "print(data_x_test.shape)\n",
    "print(data_y_test.shape)"
   ]
  },
  {
   "cell_type": "code",
   "execution_count": 76,
   "metadata": {},
   "outputs": [],
   "source": [
    "def create_model(output_dim1, num_layer, output_dim2):\n",
    "    model = Sequential()\n",
    "\n",
    "    model.add(LSTM(output_dim=output_dim1, \n",
    "                input_shape=(10, 1),\n",
    "                activation='relu',\n",
    "                return_sequences=True))\n",
    "    for i in range(num_layer):\n",
    "        model.add(LSTM(output_dim=output_dim2,\n",
    "                        activation='tanh',\n",
    "                        return_sequences=True))\n",
    "#     model.add(Dropout(0.1))\n",
    "    model.add(LSTM(output_dim=output_dim2,\n",
    "                        activation='tanh'))\n",
    "    model.add(Dense(1))\n",
    "\n",
    "    model.compile(loss='mse', optimizer='adam', metrics=['mae'])\n",
    "#     model.summary()\n",
    "    return model"
   ]
  },
  {
   "cell_type": "code",
   "execution_count": 13,
   "metadata": {},
   "outputs": [],
   "source": [
    "# #采用暴力搜索，所有参数进行组合，然后选择最好的参数\n",
    "# tuned_parameters=[{'output_dim1':Integer(28, 128),\n",
    "#                    'num_layer':Integer(3,12),\n",
    "#                    'output_dim2':Integer(28, 128)}]\n",
    "# # 'output_dim1':Integer(28, 128),\n",
    "# #             'num_layer':Integer(3,12),\n",
    "# #             'output_dim2':Integer(28, 128)"
   ]
  },
  {
   "cell_type": "code",
   "execution_count": 14,
   "metadata": {},
   "outputs": [],
   "source": [
    "# train_x, test_x, train_y, test_y = train_test_split(data_x, data_y, train_size=0.80, random_state=0)"
   ]
  },
  {
   "cell_type": "code",
   "execution_count": 15,
   "metadata": {
    "scrolled": true
   },
   "outputs": [],
   "source": [
    "# #采用随机搜索，给参数一个范围，然后系统随机选择参数，进行检验，然后选择最好的\n",
    "# tuned_parameters={'output_dim1':[28, 64, 96, 128],\n",
    "#                    'num_layer':[4,5,6],\n",
    "#                    'output_dim2':[28, 64, 96, 128]}\n",
    "\n",
    "# lstm=RandomizedSearchCV(model,tuned_parameters,scoring='neg_mean_squared_error',n_iter=2)\n",
    " \n",
    "# lstm.fit(data_x_train,data_y_train)\n",
    "# print('best parameters:',lstm.best_estimator_)\n",
    "# # print(classification_report(test_y,clf.predict(test_x)))\n",
    "# # print(metrics.confusion_matrix(test_y,clf.predict(test_x)))"
   ]
  },
  {
   "cell_type": "code",
   "execution_count": 77,
   "metadata": {},
   "outputs": [],
   "source": [
    "model=KerasRegressor(build_fn=create_model)"
   ]
  },
  {
   "cell_type": "code",
   "execution_count": 81,
   "metadata": {},
   "outputs": [],
   "source": [
    "bayes_cv_tuner = BayesSearchCV(estimator = model,\n",
    "                               search_spaces = { 'output_dim1':[12,48,64,88,128],\n",
    "                                                'num_layer':[4,5],\n",
    "                                                'output_dim2':[12,48,64,88,128]},\n",
    "                               scoring = 'neg_mean_squared_error',\n",
    "                               cv = 5,\n",
    "                               n_iter = 2,   \n",
    "                               verbose = 1,\n",
    "                               refit = True,\n",
    "                               random_state = 1885,\n",
    "                               return_train_score = True)\n"
   ]
  },
  {
   "cell_type": "code",
   "execution_count": 82,
   "metadata": {},
   "outputs": [],
   "source": [
    "def status_print(optim_result):\n",
    "    \"\"\"bayes参数优化过程中．．．\"\"\"\n",
    "\n",
    "    # Get all the models tested so far in DataFrame format\n",
    "    all_models = pd.DataFrame(bayes_cv_tuner.cv_results_)    \n",
    "\n",
    "    # Get current parameters and the best parameters    \n",
    "    best_params = pd.Series(bayes_cv_tuner.best_params_)\n",
    "    print('Model #{}\\nBest MSE: {}\\nBest params: {}\\n'.format(\n",
    "        len(all_models),\n",
    "        np.round(bayes_cv_tuner.best_score_, 5),\n",
    "        bayes_cv_tuner.best_params_\n",
    "    ))\n",
    "\n",
    "    # Save all model results\n",
    "    lstm_name = bayes_cv_tuner.estimator.__class__.__name__\n",
    "    all_models.to_csv(lstm_name+\"_cv_results.csv\")"
   ]
  },
  {
   "cell_type": "code",
   "execution_count": 83,
   "metadata": {
    "scrolled": true
   },
   "outputs": [
    {
     "name": "stdout",
     "output_type": "stream",
     "text": [
      "Fitting 5 folds for each of 1 candidates, totalling 5 fits\n"
     ]
    },
    {
     "name": "stderr",
     "output_type": "stream",
     "text": [
      "[Parallel(n_jobs=1)]: Using backend SequentialBackend with 1 concurrent workers.\n",
      "e:\\envs\\python36env\\lib\\site-packages\\ipykernel_launcher.py:7: UserWarning: Update your `LSTM` call to the Keras 2 API: `LSTM(input_shape=(10, 1), activation=\"relu\", return_sequences=True, units=64)`\n",
      "  import sys\n",
      "e:\\envs\\python36env\\lib\\site-packages\\ipykernel_launcher.py:11: UserWarning: Update your `LSTM` call to the Keras 2 API: `LSTM(activation=\"tanh\", return_sequences=True, units=88)`\n",
      "  # This is added back by InteractiveShellApp.init_path()\n",
      "e:\\envs\\python36env\\lib\\site-packages\\ipykernel_launcher.py:14: UserWarning: Update your `LSTM` call to the Keras 2 API: `LSTM(activation=\"tanh\", units=88)`\n",
      "  \n"
     ]
    },
    {
     "name": "stdout",
     "output_type": "stream",
     "text": [
      "Epoch 1/1\n",
      "1600/1600 [==============================] - 193s 121ms/step - loss: 0.0315 - mean_absolute_error: 0.1181\n"
     ]
    },
    {
     "name": "stderr",
     "output_type": "stream",
     "text": [
      "e:\\envs\\python36env\\lib\\site-packages\\ipykernel_launcher.py:7: UserWarning: Update your `LSTM` call to the Keras 2 API: `LSTM(input_shape=(10, 1), activation=\"relu\", return_sequences=True, units=64)`\n",
      "  import sys\n",
      "e:\\envs\\python36env\\lib\\site-packages\\ipykernel_launcher.py:11: UserWarning: Update your `LSTM` call to the Keras 2 API: `LSTM(activation=\"tanh\", return_sequences=True, units=88)`\n",
      "  # This is added back by InteractiveShellApp.init_path()\n",
      "e:\\envs\\python36env\\lib\\site-packages\\ipykernel_launcher.py:14: UserWarning: Update your `LSTM` call to the Keras 2 API: `LSTM(activation=\"tanh\", units=88)`\n",
      "  \n"
     ]
    },
    {
     "name": "stdout",
     "output_type": "stream",
     "text": [
      "Epoch 1/1\n",
      "1600/1600 [==============================] - 177s 111ms/step - loss: 0.0399 - mean_absolute_error: 0.1277\n"
     ]
    },
    {
     "name": "stderr",
     "output_type": "stream",
     "text": [
      "e:\\envs\\python36env\\lib\\site-packages\\ipykernel_launcher.py:7: UserWarning: Update your `LSTM` call to the Keras 2 API: `LSTM(input_shape=(10, 1), activation=\"relu\", return_sequences=True, units=64)`\n",
      "  import sys\n",
      "e:\\envs\\python36env\\lib\\site-packages\\ipykernel_launcher.py:11: UserWarning: Update your `LSTM` call to the Keras 2 API: `LSTM(activation=\"tanh\", return_sequences=True, units=88)`\n",
      "  # This is added back by InteractiveShellApp.init_path()\n",
      "e:\\envs\\python36env\\lib\\site-packages\\ipykernel_launcher.py:14: UserWarning: Update your `LSTM` call to the Keras 2 API: `LSTM(activation=\"tanh\", units=88)`\n",
      "  \n"
     ]
    },
    {
     "name": "stdout",
     "output_type": "stream",
     "text": [
      "Epoch 1/1\n",
      "1600/1600 [==============================] - 184s 115ms/step - loss: 0.0616 - mean_absolute_error: 0.1730\n"
     ]
    },
    {
     "name": "stderr",
     "output_type": "stream",
     "text": [
      "e:\\envs\\python36env\\lib\\site-packages\\ipykernel_launcher.py:7: UserWarning: Update your `LSTM` call to the Keras 2 API: `LSTM(input_shape=(10, 1), activation=\"relu\", return_sequences=True, units=64)`\n",
      "  import sys\n",
      "e:\\envs\\python36env\\lib\\site-packages\\ipykernel_launcher.py:11: UserWarning: Update your `LSTM` call to the Keras 2 API: `LSTM(activation=\"tanh\", return_sequences=True, units=88)`\n",
      "  # This is added back by InteractiveShellApp.init_path()\n",
      "e:\\envs\\python36env\\lib\\site-packages\\ipykernel_launcher.py:14: UserWarning: Update your `LSTM` call to the Keras 2 API: `LSTM(activation=\"tanh\", units=88)`\n",
      "  \n"
     ]
    },
    {
     "name": "stdout",
     "output_type": "stream",
     "text": [
      "Epoch 1/1\n",
      "1600/1600 [==============================] - 200s 125ms/step - loss: 0.0532 - mean_absolute_error: 0.1581\n"
     ]
    },
    {
     "name": "stderr",
     "output_type": "stream",
     "text": [
      "e:\\envs\\python36env\\lib\\site-packages\\ipykernel_launcher.py:7: UserWarning: Update your `LSTM` call to the Keras 2 API: `LSTM(input_shape=(10, 1), activation=\"relu\", return_sequences=True, units=64)`\n",
      "  import sys\n",
      "e:\\envs\\python36env\\lib\\site-packages\\ipykernel_launcher.py:11: UserWarning: Update your `LSTM` call to the Keras 2 API: `LSTM(activation=\"tanh\", return_sequences=True, units=88)`\n",
      "  # This is added back by InteractiveShellApp.init_path()\n",
      "e:\\envs\\python36env\\lib\\site-packages\\ipykernel_launcher.py:14: UserWarning: Update your `LSTM` call to the Keras 2 API: `LSTM(activation=\"tanh\", units=88)`\n",
      "  \n"
     ]
    },
    {
     "name": "stdout",
     "output_type": "stream",
     "text": [
      "Epoch 1/1\n",
      "1600/1600 [==============================] - 175s 109ms/step - loss: 0.0627 - mean_absolute_error: 0.1757\n"
     ]
    },
    {
     "name": "stderr",
     "output_type": "stream",
     "text": [
      "[Parallel(n_jobs=1)]: Done   5 out of   5 | elapsed: 23.9min finished\n"
     ]
    },
    {
     "name": "stdout",
     "output_type": "stream",
     "text": [
      "Model #1\n",
      "Best MSE: -0.00619\n",
      "Best params: OrderedDict([('num_layer', 4), ('output_dim1', 64), ('output_dim2', 88)])\n",
      "\n",
      "Fitting 5 folds for each of 1 candidates, totalling 5 fits\n"
     ]
    },
    {
     "name": "stderr",
     "output_type": "stream",
     "text": [
      "[Parallel(n_jobs=1)]: Using backend SequentialBackend with 1 concurrent workers.\n",
      "e:\\envs\\python36env\\lib\\site-packages\\ipykernel_launcher.py:7: UserWarning: Update your `LSTM` call to the Keras 2 API: `LSTM(input_shape=(10, 1), activation=\"relu\", return_sequences=True, units=64)`\n",
      "  import sys\n",
      "e:\\envs\\python36env\\lib\\site-packages\\ipykernel_launcher.py:11: UserWarning: Update your `LSTM` call to the Keras 2 API: `LSTM(activation=\"tanh\", return_sequences=True, units=88)`\n",
      "  # This is added back by InteractiveShellApp.init_path()\n",
      "e:\\envs\\python36env\\lib\\site-packages\\ipykernel_launcher.py:14: UserWarning: Update your `LSTM` call to the Keras 2 API: `LSTM(activation=\"tanh\", units=88)`\n",
      "  \n"
     ]
    },
    {
     "name": "stdout",
     "output_type": "stream",
     "text": [
      "Epoch 1/1\n",
      "1600/1600 [==============================] - 197s 123ms/step - loss: 0.0286 - mean_absolute_error: 0.1097\n"
     ]
    },
    {
     "name": "stderr",
     "output_type": "stream",
     "text": [
      "e:\\envs\\python36env\\lib\\site-packages\\ipykernel_launcher.py:7: UserWarning: Update your `LSTM` call to the Keras 2 API: `LSTM(input_shape=(10, 1), activation=\"relu\", return_sequences=True, units=64)`\n",
      "  import sys\n",
      "e:\\envs\\python36env\\lib\\site-packages\\ipykernel_launcher.py:11: UserWarning: Update your `LSTM` call to the Keras 2 API: `LSTM(activation=\"tanh\", return_sequences=True, units=88)`\n",
      "  # This is added back by InteractiveShellApp.init_path()\n",
      "e:\\envs\\python36env\\lib\\site-packages\\ipykernel_launcher.py:14: UserWarning: Update your `LSTM` call to the Keras 2 API: `LSTM(activation=\"tanh\", units=88)`\n",
      "  \n"
     ]
    },
    {
     "name": "stdout",
     "output_type": "stream",
     "text": [
      "Epoch 1/1\n",
      "1600/1600 [==============================] - 209s 130ms/step - loss: 0.0604 - mean_absolute_error: 0.1689\n"
     ]
    },
    {
     "name": "stderr",
     "output_type": "stream",
     "text": [
      "e:\\envs\\python36env\\lib\\site-packages\\ipykernel_launcher.py:7: UserWarning: Update your `LSTM` call to the Keras 2 API: `LSTM(input_shape=(10, 1), activation=\"relu\", return_sequences=True, units=64)`\n",
      "  import sys\n",
      "e:\\envs\\python36env\\lib\\site-packages\\ipykernel_launcher.py:11: UserWarning: Update your `LSTM` call to the Keras 2 API: `LSTM(activation=\"tanh\", return_sequences=True, units=88)`\n",
      "  # This is added back by InteractiveShellApp.init_path()\n",
      "e:\\envs\\python36env\\lib\\site-packages\\ipykernel_launcher.py:14: UserWarning: Update your `LSTM` call to the Keras 2 API: `LSTM(activation=\"tanh\", units=88)`\n",
      "  \n"
     ]
    },
    {
     "name": "stdout",
     "output_type": "stream",
     "text": [
      "Epoch 1/1\n",
      "1600/1600 [==============================] - 221s 138ms/step - loss: 0.0554 - mean_absolute_error: 0.1530\n"
     ]
    },
    {
     "name": "stderr",
     "output_type": "stream",
     "text": [
      "e:\\envs\\python36env\\lib\\site-packages\\ipykernel_launcher.py:7: UserWarning: Update your `LSTM` call to the Keras 2 API: `LSTM(input_shape=(10, 1), activation=\"relu\", return_sequences=True, units=64)`\n",
      "  import sys\n",
      "e:\\envs\\python36env\\lib\\site-packages\\ipykernel_launcher.py:11: UserWarning: Update your `LSTM` call to the Keras 2 API: `LSTM(activation=\"tanh\", return_sequences=True, units=88)`\n",
      "  # This is added back by InteractiveShellApp.init_path()\n",
      "e:\\envs\\python36env\\lib\\site-packages\\ipykernel_launcher.py:14: UserWarning: Update your `LSTM` call to the Keras 2 API: `LSTM(activation=\"tanh\", units=88)`\n",
      "  \n"
     ]
    },
    {
     "name": "stdout",
     "output_type": "stream",
     "text": [
      "Epoch 1/1\n",
      "1600/1600 [==============================] - 225s 141ms/step - loss: 0.0666 - mean_absolute_error: 0.1848\n"
     ]
    },
    {
     "name": "stderr",
     "output_type": "stream",
     "text": [
      "e:\\envs\\python36env\\lib\\site-packages\\ipykernel_launcher.py:7: UserWarning: Update your `LSTM` call to the Keras 2 API: `LSTM(input_shape=(10, 1), activation=\"relu\", return_sequences=True, units=64)`\n",
      "  import sys\n",
      "e:\\envs\\python36env\\lib\\site-packages\\ipykernel_launcher.py:11: UserWarning: Update your `LSTM` call to the Keras 2 API: `LSTM(activation=\"tanh\", return_sequences=True, units=88)`\n",
      "  # This is added back by InteractiveShellApp.init_path()\n",
      "e:\\envs\\python36env\\lib\\site-packages\\ipykernel_launcher.py:14: UserWarning: Update your `LSTM` call to the Keras 2 API: `LSTM(activation=\"tanh\", units=88)`\n",
      "  \n"
     ]
    },
    {
     "name": "stdout",
     "output_type": "stream",
     "text": [
      "Epoch 1/1\n",
      "1600/1600 [==============================] - 237s 148ms/step - loss: 0.0723 - mean_absolute_error: 0.1992\n"
     ]
    },
    {
     "name": "stderr",
     "output_type": "stream",
     "text": [
      "[Parallel(n_jobs=1)]: Done   5 out of   5 | elapsed: 25.6min finished\n",
      "e:\\envs\\python36env\\lib\\site-packages\\ipykernel_launcher.py:7: UserWarning: Update your `LSTM` call to the Keras 2 API: `LSTM(input_shape=(10, 1), activation=\"relu\", return_sequences=True, units=64)`\n",
      "  import sys\n"
     ]
    },
    {
     "name": "stdout",
     "output_type": "stream",
     "text": [
      "Model #2\n",
      "Best MSE: -0.00331\n",
      "Best params: OrderedDict([('num_layer', 5), ('output_dim1', 64), ('output_dim2', 88)])\n",
      "\n"
     ]
    },
    {
     "name": "stderr",
     "output_type": "stream",
     "text": [
      "e:\\envs\\python36env\\lib\\site-packages\\ipykernel_launcher.py:11: UserWarning: Update your `LSTM` call to the Keras 2 API: `LSTM(activation=\"tanh\", return_sequences=True, units=88)`\n",
      "  # This is added back by InteractiveShellApp.init_path()\n",
      "e:\\envs\\python36env\\lib\\site-packages\\ipykernel_launcher.py:14: UserWarning: Update your `LSTM` call to the Keras 2 API: `LSTM(activation=\"tanh\", units=88)`\n",
      "  \n"
     ]
    },
    {
     "name": "stdout",
     "output_type": "stream",
     "text": [
      "Epoch 1/1\n",
      "2000/2000 [==============================] - 274s 137ms/step - loss: 0.0478 - mean_absolute_error: 0.1446\n"
     ]
    },
    {
     "data": {
      "text/plain": [
       "BayesSearchCV(cv=5, error_score='raise',\n",
       "              estimator=<keras.wrappers.scikit_learn.KerasRegressor object at 0x000001B37FCE30F0>,\n",
       "              fit_params=None, iid=True, n_iter=2, n_jobs=1, n_points=1,\n",
       "              optimizer_kwargs=None, pre_dispatch='2*n_jobs', random_state=1885,\n",
       "              refit=True, return_train_score=True,\n",
       "              scoring='neg_mean_squared_error',\n",
       "              search_spaces={'num_layer': [4, 5],\n",
       "                             'output_dim1': [12, 48, 64, 88, 128],\n",
       "                             'output_dim2': [12, 48, 64, 88, 128]},\n",
       "              verbose=1)"
      ]
     },
     "execution_count": 83,
     "metadata": {},
     "output_type": "execute_result"
    }
   ],
   "source": [
    "bayes_cv_tuner.fit(data_x,data_y, callback=status_print)\n",
    "# bayes_cv_tuner.fit(data_x,data_y)"
   ]
  },
  {
   "cell_type": "code",
   "execution_count": 84,
   "metadata": {},
   "outputs": [
    {
     "data": {
      "text/plain": [
       "OrderedDict([('num_layer', 5), ('output_dim1', 64), ('output_dim2', 88)])"
      ]
     },
     "execution_count": 84,
     "metadata": {},
     "output_type": "execute_result"
    }
   ],
   "source": [
    "bayes_cv_tuner.best_params_"
   ]
  },
  {
   "cell_type": "code",
   "execution_count": 88,
   "metadata": {},
   "outputs": [
    {
     "name": "stderr",
     "output_type": "stream",
     "text": [
      "e:\\envs\\python36env\\lib\\site-packages\\ipykernel_launcher.py:7: UserWarning: Update your `LSTM` call to the Keras 2 API: `LSTM(input_shape=(10, 1), activation=\"relu\", return_sequences=True, units=64)`\n",
      "  import sys\n",
      "e:\\envs\\python36env\\lib\\site-packages\\ipykernel_launcher.py:11: UserWarning: Update your `LSTM` call to the Keras 2 API: `LSTM(activation=\"tanh\", return_sequences=True, units=88)`\n",
      "  # This is added back by InteractiveShellApp.init_path()\n",
      "e:\\envs\\python36env\\lib\\site-packages\\ipykernel_launcher.py:14: UserWarning: Update your `LSTM` call to the Keras 2 API: `LSTM(activation=\"tanh\", units=88)`\n",
      "  \n"
     ]
    }
   ],
   "source": [
    "model = create_model(64, 5, 88)"
   ]
  },
  {
   "cell_type": "code",
   "execution_count": 89,
   "metadata": {
    "scrolled": false
   },
   "outputs": [
    {
     "name": "stdout",
     "output_type": "stream",
     "text": [
      "Epoch 1/50\n",
      "2000/2000 [==============================] - 261s 131ms/step - loss: 0.2313 - mean_absolute_error: 0.3909\n",
      "Epoch 2/50\n",
      "2000/2000 [==============================] - 87s 43ms/step - loss: 0.1292 - mean_absolute_error: 0.2647\n",
      "Epoch 3/50\n",
      "2000/2000 [==============================] - 87s 43ms/step - loss: 0.0939 - mean_absolute_error: 0.2781\n",
      "Epoch 4/50\n",
      "2000/2000 [==============================] - 87s 43ms/step - loss: 0.0734 - mean_absolute_error: 0.2258\n",
      "Epoch 5/50\n",
      "2000/2000 [==============================] - 87s 44ms/step - loss: 0.0756 - mean_absolute_error: 0.2105\n",
      "Epoch 6/50\n",
      "2000/2000 [==============================] - 88s 44ms/step - loss: 0.0524 - mean_absolute_error: 0.1992\n",
      "Epoch 7/50\n",
      "2000/2000 [==============================] - 89s 44ms/step - loss: 0.0392 - mean_absolute_error: 0.1739\n",
      "Epoch 8/50\n",
      "2000/2000 [==============================] - 90s 45ms/step - loss: 0.0138 - mean_absolute_error: 0.0997\n",
      "Epoch 9/50\n",
      "2000/2000 [==============================] - 88s 44ms/step - loss: 0.0050 - mean_absolute_error: 0.0545\n",
      "Epoch 10/50\n",
      "2000/2000 [==============================] - 88s 44ms/step - loss: 0.0082 - mean_absolute_error: 0.0781\n",
      "Epoch 11/50\n",
      "2000/2000 [==============================] - 87s 44ms/step - loss: 0.0052 - mean_absolute_error: 0.0607\n",
      "Epoch 12/50\n",
      "2000/2000 [==============================] - 87s 44ms/step - loss: 0.0026 - mean_absolute_error: 0.0402\n",
      "Epoch 13/50\n",
      "2000/2000 [==============================] - 87s 43ms/step - loss: 0.0031 - mean_absolute_error: 0.0441\n",
      "Epoch 14/50\n",
      "2000/2000 [==============================] - 87s 44ms/step - loss: 0.0033 - mean_absolute_error: 0.0470\n",
      "Epoch 15/50\n",
      "2000/2000 [==============================] - 87s 44ms/step - loss: 0.0027 - mean_absolute_error: 0.0408\n",
      "Epoch 16/50\n",
      "2000/2000 [==============================] - 87s 43ms/step - loss: 0.0022 - mean_absolute_error: 0.0362\n",
      "Epoch 17/50\n",
      "2000/2000 [==============================] - 87s 44ms/step - loss: 0.0022 - mean_absolute_error: 0.0378\n",
      "Epoch 18/50\n",
      "2000/2000 [==============================] - 87s 43ms/step - loss: 0.0022 - mean_absolute_error: 0.0374\n",
      "Epoch 19/50\n",
      "2000/2000 [==============================] - 87s 44ms/step - loss: 0.0021 - mean_absolute_error: 0.0363\n",
      "Epoch 20/50\n",
      "2000/2000 [==============================] - 87s 44ms/step - loss: 0.0020 - mean_absolute_error: 0.0350\n",
      "Epoch 21/50\n",
      "2000/2000 [==============================] - 87s 43ms/step - loss: 0.0020 - mean_absolute_error: 0.0354\n",
      "Epoch 22/50\n",
      "2000/2000 [==============================] - 87s 44ms/step - loss: 0.0020 - mean_absolute_error: 0.0348\n",
      "Epoch 23/50\n",
      "2000/2000 [==============================] - 87s 44ms/step - loss: 0.0020 - mean_absolute_error: 0.0348\n",
      "Epoch 24/50\n",
      "2000/2000 [==============================] - 87s 43ms/step - loss: 0.0019 - mean_absolute_error: 0.0344\n",
      "Epoch 25/50\n",
      "2000/2000 [==============================] - 87s 44ms/step - loss: 0.0019 - mean_absolute_error: 0.0343\n",
      "Epoch 26/50\n",
      "2000/2000 [==============================] - 87s 43ms/step - loss: 0.0019 - mean_absolute_error: 0.0341\n",
      "Epoch 27/50\n",
      "2000/2000 [==============================] - 87s 43ms/step - loss: 0.0019 - mean_absolute_error: 0.0341\n",
      "Epoch 28/50\n",
      "2000/2000 [==============================] - 87s 44ms/step - loss: 0.0019 - mean_absolute_error: 0.0339\n",
      "Epoch 29/50\n",
      "2000/2000 [==============================] - 87s 44ms/step - loss: 0.0019 - mean_absolute_error: 0.0338\n",
      "Epoch 30/50\n",
      "2000/2000 [==============================] - 87s 44ms/step - loss: 0.0019 - mean_absolute_error: 0.0337\n",
      "Epoch 31/50\n",
      "2000/2000 [==============================] - 87s 44ms/step - loss: 0.0019 - mean_absolute_error: 0.0336\n",
      "Epoch 32/50\n",
      "2000/2000 [==============================] - 87s 44ms/step - loss: 0.0018 - mean_absolute_error: 0.0336\n",
      "Epoch 33/50\n",
      "2000/2000 [==============================] - 87s 44ms/step - loss: 0.0018 - mean_absolute_error: 0.0335\n",
      "Epoch 34/50\n",
      "2000/2000 [==============================] - 87s 44ms/step - loss: 0.0018 - mean_absolute_error: 0.0335\n",
      "Epoch 35/50\n",
      "2000/2000 [==============================] - 87s 43ms/step - loss: 0.0018 - mean_absolute_error: 0.0334\n",
      "Epoch 36/50\n",
      "2000/2000 [==============================] - 87s 43ms/step - loss: 0.0018 - mean_absolute_error: 0.0334\n",
      "Epoch 37/50\n",
      "2000/2000 [==============================] - 87s 43ms/step - loss: 0.0018 - mean_absolute_error: 0.0333\n",
      "Epoch 38/50\n",
      "2000/2000 [==============================] - 87s 44ms/step - loss: 0.0018 - mean_absolute_error: 0.0333\n",
      "Epoch 39/50\n",
      "2000/2000 [==============================] - 87s 44ms/step - loss: 0.0018 - mean_absolute_error: 0.0332\n",
      "Epoch 40/50\n",
      "2000/2000 [==============================] - 87s 44ms/step - loss: 0.0018 - mean_absolute_error: 0.0333\n",
      "Epoch 41/50\n",
      "2000/2000 [==============================] - 87s 44ms/step - loss: 0.0018 - mean_absolute_error: 0.0331\n",
      "Epoch 42/50\n",
      "2000/2000 [==============================] - 87s 43ms/step - loss: 0.0018 - mean_absolute_error: 0.0333\n",
      "Epoch 43/50\n",
      "2000/2000 [==============================] - 87s 44ms/step - loss: 0.0018 - mean_absolute_error: 0.0332\n",
      "Epoch 44/50\n",
      "2000/2000 [==============================] - 87s 43ms/step - loss: 0.0018 - mean_absolute_error: 0.0329\n",
      "Epoch 45/50\n",
      "2000/2000 [==============================] - 87s 44ms/step - loss: 0.0018 - mean_absolute_error: 0.0330\n",
      "Epoch 46/50\n",
      "2000/2000 [==============================] - 87s 44ms/step - loss: 0.0018 - mean_absolute_error: 0.0329\n",
      "Epoch 47/50\n",
      "2000/2000 [==============================] - 87s 44ms/step - loss: 0.0018 - mean_absolute_error: 0.0329\n",
      "Epoch 48/50\n",
      "2000/2000 [==============================] - 91s 45ms/step - loss: 0.0018 - mean_absolute_error: 0.0329\n",
      "Epoch 49/50\n",
      "2000/2000 [==============================] - 88s 44ms/step - loss: 0.0018 - mean_absolute_error: 0.0328\n",
      "Epoch 50/50\n",
      "2000/2000 [==============================] - 88s 44ms/step - loss: 0.0018 - mean_absolute_error: 0.0328\n"
     ]
    },
    {
     "data": {
      "text/plain": [
       "<keras.callbacks.History at 0x1b4206c95f8>"
      ]
     },
     "execution_count": 89,
     "metadata": {},
     "output_type": "execute_result"
    }
   ],
   "source": [
    "model.fit(data_x_train, data_y_train, epochs=50, batch_size=500, verbose=1)"
   ]
  },
  {
   "cell_type": "code",
   "execution_count": 90,
   "metadata": {},
   "outputs": [
    {
     "name": "stdout",
     "output_type": "stream",
     "text": [
      "200/200 [==============================] - 75s 375ms/step\n",
      "\n",
      "test loss 0.00133\n",
      "mae 0.02441\n"
     ]
    }
   ],
   "source": [
    "# 评估模型,不输出预测结果\n",
    "loss,mae= model.evaluate(data_x_test,data_y_test)\n",
    "print('\\ntest loss','{:.5f}'.format(loss))\n",
    "print('mae','{:.5f}'.format(mae))"
   ]
  },
  {
   "cell_type": "code",
   "execution_count": 91,
   "metadata": {},
   "outputs": [],
   "source": [
    "y_pred = model.predict(data_x_test,batch_size = 1)"
   ]
  },
  {
   "cell_type": "code",
   "execution_count": null,
   "metadata": {},
   "outputs": [],
   "source": [
    "# y_pred[-10:]"
   ]
  },
  {
   "cell_type": "code",
   "execution_count": null,
   "metadata": {},
   "outputs": [],
   "source": [
    "# data_y_test[-10:,0]"
   ]
  },
  {
   "cell_type": "code",
   "execution_count": null,
   "metadata": {},
   "outputs": [],
   "source": [
    "# data_x_test[-10:,0,-1]"
   ]
  },
  {
   "cell_type": "code",
   "execution_count": null,
   "metadata": {},
   "outputs": [],
   "source": [
    "# t = []\n",
    "# for i in range(1000):\n",
    "#     if data_y_test[:,0][i]>data_x_test[:,0,-1][i]:\n",
    "#         t.append(1)\n",
    "#     else:\n",
    "#         t.append(0)\n",
    "# len(t)"
   ]
  },
  {
   "cell_type": "code",
   "execution_count": null,
   "metadata": {},
   "outputs": [],
   "source": [
    "# p = []\n",
    "# for i in range(1000):\n",
    "#     if y_pred[:,0][i]>data_x_test[:,0,-1][i]:\n",
    "#         p.append(1)\n",
    "#     else:\n",
    "#         p.append(0)\n",
    "# len(p)"
   ]
  },
  {
   "cell_type": "code",
   "execution_count": null,
   "metadata": {},
   "outputs": [],
   "source": [
    "# n = 0\n",
    "# for i in range(1000):\n",
    "#     if t[i]==p[i]:\n",
    "#         n=n+1\n",
    "# n/1000"
   ]
  },
  {
   "cell_type": "code",
   "execution_count": null,
   "metadata": {},
   "outputs": [],
   "source": [
    "# model.save('model.h5')#保存名为model的h5文件到程序所在目录"
   ]
  },
  {
   "cell_type": "code",
   "execution_count": null,
   "metadata": {},
   "outputs": [],
   "source": [
    "# data_x_test.shape"
   ]
  },
  {
   "cell_type": "code",
   "execution_count": null,
   "metadata": {},
   "outputs": [],
   "source": [
    "# model.predict(data_x_test,batch_size = 1)"
   ]
  },
  {
   "cell_type": "code",
   "execution_count": null,
   "metadata": {},
   "outputs": [],
   "source": [
    "# x_pred = [1.08244, 1.0776, 1.08229, 1.08564, 1.08607, 1.08739, 1.08386, 1.09066, 1.09798, 1.0912]\n",
    "# "
   ]
  },
  {
   "cell_type": "code",
   "execution_count": null,
   "metadata": {},
   "outputs": [],
   "source": [
    "# x_pred = np.array(x_pred).reshape(1,10,1)"
   ]
  },
  {
   "cell_type": "code",
   "execution_count": null,
   "metadata": {},
   "outputs": [],
   "source": [
    "# x_pred.shape"
   ]
  },
  {
   "cell_type": "code",
   "execution_count": null,
   "metadata": {},
   "outputs": [],
   "source": [
    "# model.predict(x_pred,batch_size = 1).tolist()[0][0]"
   ]
  },
  {
   "cell_type": "code",
   "execution_count": null,
   "metadata": {},
   "outputs": [],
   "source": [
    "# y_pred.shape"
   ]
  },
  {
   "cell_type": "code",
   "execution_count": null,
   "metadata": {},
   "outputs": [],
   "source": [
    "# y_pred"
   ]
  },
  {
   "cell_type": "code",
   "execution_count": 92,
   "metadata": {},
   "outputs": [],
   "source": [
    "y_t = data_y_test.reshape(200)"
   ]
  },
  {
   "cell_type": "code",
   "execution_count": 93,
   "metadata": {},
   "outputs": [],
   "source": [
    "y_p = y_pred.reshape(200)"
   ]
  },
  {
   "cell_type": "code",
   "execution_count": 94,
   "metadata": {},
   "outputs": [],
   "source": [
    " df_test_output = pd.DataFrame(columns=['真实值', '预测值'])"
   ]
  },
  {
   "cell_type": "code",
   "execution_count": 95,
   "metadata": {},
   "outputs": [],
   "source": [
    "df_test_output['真实值'] = y_t"
   ]
  },
  {
   "cell_type": "code",
   "execution_count": 96,
   "metadata": {},
   "outputs": [],
   "source": [
    "df_test_output['预测值'] = y_p"
   ]
  },
  {
   "cell_type": "code",
   "execution_count": 97,
   "metadata": {},
   "outputs": [
    {
     "data": {
      "text/html": [
       "<div>\n",
       "<style scoped>\n",
       "    .dataframe tbody tr th:only-of-type {\n",
       "        vertical-align: middle;\n",
       "    }\n",
       "\n",
       "    .dataframe tbody tr th {\n",
       "        vertical-align: top;\n",
       "    }\n",
       "\n",
       "    .dataframe thead th {\n",
       "        text-align: right;\n",
       "    }\n",
       "</style>\n",
       "<table border=\"1\" class=\"dataframe\">\n",
       "  <thead>\n",
       "    <tr style=\"text-align: right;\">\n",
       "      <th></th>\n",
       "      <th>真实值</th>\n",
       "      <th>预测值</th>\n",
       "    </tr>\n",
       "  </thead>\n",
       "  <tbody>\n",
       "    <tr>\n",
       "      <th>0</th>\n",
       "      <td>0.228942</td>\n",
       "      <td>0.209165</td>\n",
       "    </tr>\n",
       "    <tr>\n",
       "      <th>1</th>\n",
       "      <td>0.228998</td>\n",
       "      <td>0.207829</td>\n",
       "    </tr>\n",
       "    <tr>\n",
       "      <th>2</th>\n",
       "      <td>0.223890</td>\n",
       "      <td>0.207165</td>\n",
       "    </tr>\n",
       "    <tr>\n",
       "      <th>3</th>\n",
       "      <td>0.229449</td>\n",
       "      <td>0.205819</td>\n",
       "    </tr>\n",
       "    <tr>\n",
       "      <th>4</th>\n",
       "      <td>0.233203</td>\n",
       "      <td>0.205596</td>\n",
       "    </tr>\n",
       "    <tr>\n",
       "      <th>...</th>\n",
       "      <td>...</td>\n",
       "      <td>...</td>\n",
       "    </tr>\n",
       "    <tr>\n",
       "      <th>195</th>\n",
       "      <td>0.125631</td>\n",
       "      <td>0.132779</td>\n",
       "    </tr>\n",
       "    <tr>\n",
       "      <th>196</th>\n",
       "      <td>0.127522</td>\n",
       "      <td>0.139160</td>\n",
       "    </tr>\n",
       "    <tr>\n",
       "      <th>197</th>\n",
       "      <td>0.118323</td>\n",
       "      <td>0.142901</td>\n",
       "    </tr>\n",
       "    <tr>\n",
       "      <th>198</th>\n",
       "      <td>0.129864</td>\n",
       "      <td>0.147415</td>\n",
       "    </tr>\n",
       "    <tr>\n",
       "      <th>199</th>\n",
       "      <td>0.121511</td>\n",
       "      <td>0.153429</td>\n",
       "    </tr>\n",
       "  </tbody>\n",
       "</table>\n",
       "<p>200 rows × 2 columns</p>\n",
       "</div>"
      ],
      "text/plain": [
       "          真实值       预测值\n",
       "0    0.228942  0.209165\n",
       "1    0.228998  0.207829\n",
       "2    0.223890  0.207165\n",
       "3    0.229449  0.205819\n",
       "4    0.233203  0.205596\n",
       "..        ...       ...\n",
       "195  0.125631  0.132779\n",
       "196  0.127522  0.139160\n",
       "197  0.118323  0.142901\n",
       "198  0.129864  0.147415\n",
       "199  0.121511  0.153429\n",
       "\n",
       "[200 rows x 2 columns]"
      ]
     },
     "execution_count": 97,
     "metadata": {},
     "output_type": "execute_result"
    }
   ],
   "source": [
    "df_test_output"
   ]
  },
  {
   "cell_type": "code",
   "execution_count": 99,
   "metadata": {},
   "outputs": [
    {
     "data": {
      "image/png": "[encoded data removed]",
      "text/plain": [
       "<Figure size 432x288 with 1 Axes>"
      ]
     },
     "metadata": {
      "needs_background": "light"
     },
     "output_type": "display_data"
    }
   ],
   "source": [
    "x_axix = range(200)\n",
    "#x_axix，train_pn_dis这些都是长度相同的list()\n",
    "\n",
    "#开始画图\n",
    "plt.title('Result Analysis')\n",
    "plt.plot(x_axix, y_t, color='green', label='true')\n",
    "plt.plot(x_axix, y_p, color='red', label='pred')\n",
    "plt.legend() # 显示图例\n",
    "\n",
    "# plt.xlabel('iteration times')\n",
    "# plt.ylabel('rate')\n",
    "plt.show()"
   ]
  },
  {
   "cell_type": "code",
   "execution_count": 100,
   "metadata": {},
   "outputs": [],
   "source": [
    "df_test_output.to_csv('EURUSD_test_output.csv',encoding='utf_8_sig')"
   ]
  },
  {
   "cell_type": "code",
   "execution_count": 101,
   "metadata": {},
   "outputs": [
    {
     "data": {
      "text/plain": [
       "[0.2289415018201315,\n",
       " 0.22899794000620854,\n",
       " 0.22389028416626688,\n",
       " 0.2294494454948217,\n",
       " 0.23320258486892254,\n",
       " 0.2212941276067384,\n",
       " 0.21192538871800704,\n",
       " 0.20312103169004114,\n",
       " 0.19826734768744547,\n",
       " 0.1950221519880353,\n",
       " 0.2012303524564718,\n",
       " 0.19691283122160463,\n",
       " 0.1956147529418404,\n",
       " 0.21217936055535214,\n",
       " 0.20179473431723904,\n",
       " 0.19849310043175228,\n",
       " 0.19479639924372805,\n",
       " 0.18895504698478982,\n",
       " 0.17004825464909556,\n",
       " 0.16448909332054074,\n",
       " 0.16553319976295944,\n",
       " 0.1828879419815448,\n",
       " 0.18266218923723798,\n",
       " 0.1799813753985946,\n",
       " 0.18652820498349199,\n",
       " 0.18525834579676603,\n",
       " 0.17594604509411127,\n",
       " 0.19121257442785788,\n",
       " 0.19273640545192894,\n",
       " 0.17315235488331382,\n",
       " 0.19352654005700298,\n",
       " 0.1815052064226652,\n",
       " 0.18458108756384561,\n",
       " 0.1783446680023708,\n",
       " 0.1709512656263228,\n",
       " 0.17851398256060014,\n",
       " 0.15667240454891784,\n",
       " 0.1504359849874426,\n",
       " 0.15644665180461148,\n",
       " 0.14459463272850392,\n",
       " 0.15379405705900595,\n",
       " 0.1614978694584761,\n",
       " 0.1626266331800097,\n",
       " 0.16663374439145562,\n",
       " 0.16471484606484754,\n",
       " 0.16065129666732503,\n",
       " 0.16488416062307776,\n",
       " 0.1744786522561168,\n",
       " 0.18322657109800478,\n",
       " 0.18015068995682526,\n",
       " 0.18209780737647074,\n",
       " 0.19310325366142722,\n",
       " 0.20789005841352237,\n",
       " 0.2207297457459716,\n",
       " 0.2150294889522253,\n",
       " 0.20814403025086792,\n",
       " 0.20966786127493853,\n",
       " 0.202330897084968,\n",
       " 0.19547365747664847,\n",
       " 0.20111747608431862,\n",
       " 0.20461664362107346,\n",
       " 0.21584784265033718,\n",
       " 0.2157914044642606,\n",
       " 0.21957276293139927,\n",
       " 0.20896238394898026,\n",
       " 0.1940062646386549,\n",
       " 0.19163586082343276,\n",
       " 0.18709258684425878,\n",
       " 0.1784011061884474,\n",
       " 0.18218246465558563,\n",
       " 0.17555097779157336,\n",
       " 0.1745633095352317,\n",
       " 0.17905014532832908,\n",
       " 0.18760053051894943,\n",
       " 0.19332900640573358,\n",
       " 0.19507859017411144,\n",
       " 0.19347010187092595,\n",
       " 0.18946299065948002,\n",
       " 0.1782035725371789,\n",
       " 0.1766233033270317,\n",
       " 0.17854220165363888,\n",
       " 0.17275728758077724,\n",
       " 0.17518412958207508,\n",
       " 0.17735699974602825,\n",
       " 0.19519146654626507,\n",
       " 0.19589694387222423,\n",
       " 0.19493749470891997,\n",
       " 0.20247199255015946,\n",
       " 0.18985805796201705,\n",
       " 0.19098682168355108,\n",
       " 0.19900104410644204,\n",
       " 0.20958320399582364,\n",
       " 0.20935745125151684,\n",
       " 0.2061686937381828,\n",
       " 0.21353387702119297,\n",
       " 0.2150294889522253,\n",
       " 0.204870615458419,\n",
       " 0.20704348562237174,\n",
       " 0.19426023647599955,\n",
       " 0.1983237858735225,\n",
       " 0.19708214577983485,\n",
       " 0.2005530942235514,\n",
       " 0.22273330135169456,\n",
       " 0.22908259728532343,\n",
       " 0.23433134859045612,\n",
       " 0.22166097581623756,\n",
       " 0.2170330445579478,\n",
       " 0.22860287270367152,\n",
       " 0.21613003358072103,\n",
       " 0.2027824025735816,\n",
       " 0.202725964387505,\n",
       " 0.207269238366679,\n",
       " 0.2108248440895113,\n",
       " 0.20901882213505685,\n",
       " 0.2152552416965321,\n",
       " 0.2113892259502781,\n",
       " 0.19826734768744547,\n",
       " 0.1997065214324012,\n",
       " 0.19617913480260762,\n",
       " 0.19902926319948078,\n",
       " 0.18836244603098473,\n",
       " 0.180263566328978,\n",
       " 0.17826001072325504,\n",
       " 0.17927589807263633,\n",
       " 0.1758613878149955,\n",
       " 0.18187205463216438,\n",
       " 0.19967830233936246,\n",
       " 0.18980161977594,\n",
       " 0.18531478398284262,\n",
       " 0.17275728758077724,\n",
       " 0.16818579450856497,\n",
       " 0.15698281457233998,\n",
       " 0.14781160933487625,\n",
       " 0.14894037305641028,\n",
       " 0.13717301125941805,\n",
       " 0.12814290148714624,\n",
       " 0.12512345853204287,\n",
       " 0.12639331771876883,\n",
       " 0.11400513587493277,\n",
       " 0.1177300561559953,\n",
       " 0.11205801845528685,\n",
       " 0.13000536162767728,\n",
       " 0.1313034399074411,\n",
       " 0.13937410051640953,\n",
       " 0.13940231960944827,\n",
       " 0.17301125941812234,\n",
       " 0.18133589186443544,\n",
       " 0.21065552953128108,\n",
       " 0.22132234669977713,\n",
       " 0.2107684059034347,\n",
       " 0.23997516719812628,\n",
       " 0.25493128650845165,\n",
       " 0.2960465050653269,\n",
       " 0.2550441628806053,\n",
       " 0.2466348731551773,\n",
       " 0.2201089256991282,\n",
       " 0.20199226796850756,\n",
       " 0.2232130259333469,\n",
       " 0.17453509044219384,\n",
       " 0.14812201935829838,\n",
       " 0.07681237125038809,\n",
       " 0.08657617744165735,\n",
       " 0.09566272540000575,\n",
       " 0.11169117024578812,\n",
       " 0.13909190958602613,\n",
       " 0.18127945367835885,\n",
       " 0.2134492197420781,\n",
       " 0.18511725033157456,\n",
       " 0.18291616107458264,\n",
       " 0.16223156587747267,\n",
       " 0.13265795637328237,\n",
       " 0.12021333634337061,\n",
       " 0.1143719840844315,\n",
       " 0.1421395716341678,\n",
       " 0.13257329909416704,\n",
       " 0.15289104608177917,\n",
       " 0.15464062985015703,\n",
       " 0.14823489573045112,\n",
       " 0.16736744081045218,\n",
       " 0.1467110647063805,\n",
       " 0.12752208144030286,\n",
       " 0.13748342128283975,\n",
       " 0.1337585010017781,\n",
       " 0.13254508000112875,\n",
       " 0.12309168383328162,\n",
       " 0.10985692919829537,\n",
       " 0.12351497022885694,\n",
       " 0.12453085757823734,\n",
       " 0.12176538646047907,\n",
       " 0.13717301125941805,\n",
       " 0.1591556847362927,\n",
       " 0.1674803171826058,\n",
       " 0.14668284561334177,\n",
       " 0.12763495781245604,\n",
       " 0.11462595592177616,\n",
       " 0.12563140220673263,\n",
       " 0.12752208144030286,\n",
       " 0.11832265710980039,\n",
       " 0.12986426616248536,\n",
       " 0.12151141462313353]"
      ]
     },
     "execution_count": 101,
     "metadata": {},
     "output_type": "execute_result"
    }
   ],
   "source": [
    "y_t.tolist()"
   ]
  },
  {
   "cell_type": "code",
   "execution_count": 102,
   "metadata": {},
   "outputs": [
    {
     "data": {
      "text/plain": [
       "[0.20916539430618286,\n",
       " 0.20782870054244995,\n",
       " 0.20716510713100433,\n",
       " 0.20581865310668945,\n",
       " 0.20559602975845337,\n",
       " 0.20510855317115784,\n",
       " 0.20484305918216705,\n",
       " 0.21100957691669464,\n",
       " 0.21708722412586212,\n",
       " 0.22268886864185333,\n",
       " 0.2215229570865631,\n",
       " 0.22041325271129608,\n",
       " 0.2180975377559662,\n",
       " 0.21578003466129303,\n",
       " 0.21146070957183838,\n",
       " 0.20492316782474518,\n",
       " 0.2003704458475113,\n",
       " 0.19761556386947632,\n",
       " 0.1968528777360916,\n",
       " 0.19708913564682007,\n",
       " 0.1981859654188156,\n",
       " 0.19781316816806793,\n",
       " 0.19751444458961487,\n",
       " 0.19678457081317902,\n",
       " 0.19117145240306854,\n",
       " 0.18668055534362793,\n",
       " 0.1819736659526825,\n",
       " 0.1774107664823532,\n",
       " 0.1740151047706604,\n",
       " 0.17569930851459503,\n",
       " 0.17937509715557098,\n",
       " 0.18356986343860626,\n",
       " 0.18381215631961823,\n",
       " 0.18402433395385742,\n",
       " 0.18519680202007294,\n",
       " 0.1849268525838852,\n",
       " 0.18455591797828674,\n",
       " 0.1866898238658905,\n",
       " 0.18500001728534698,\n",
       " 0.1818099319934845,\n",
       " 0.1835324615240097,\n",
       " 0.17890502512454987,\n",
       " 0.1764112114906311,\n",
       " 0.17184659838676453,\n",
       " 0.16773442924022675,\n",
       " 0.16437789797782898,\n",
       " 0.15893729031085968,\n",
       " 0.1586170345544815,\n",
       " 0.15988041460514069,\n",
       " 0.1607341170310974,\n",
       " 0.16486965119838715,\n",
       " 0.16740362346172333,\n",
       " 0.16859650611877441,\n",
       " 0.16993822157382965,\n",
       " 0.17107929289340973,\n",
       " 0.17381525039672852,\n",
       " 0.1788920909166336,\n",
       " 0.18415053188800812,\n",
       " 0.1886969953775406,\n",
       " 0.19234907627105713,\n",
       " 0.19806723296642303,\n",
       " 0.20445461571216583,\n",
       " 0.20807094871997833,\n",
       " 0.20812742412090302,\n",
       " 0.20486445724964142,\n",
       " 0.20245955884456635,\n",
       " 0.20166680216789246,\n",
       " 0.20091934502124786,\n",
       " 0.20217451453208923,\n",
       " 0.20539578795433044,\n",
       " 0.20712795853614807,\n",
       " 0.2075110822916031,\n",
       " 0.20405054092407227,\n",
       " 0.19932132959365845,\n",
       " 0.19268110394477844,\n",
       " 0.1873909831047058,\n",
       " 0.18469557166099548,\n",
       " 0.18224622309207916,\n",
       " 0.1805179864168167,\n",
       " 0.18139730393886566,\n",
       " 0.1817190796136856,\n",
       " 0.18422530591487885,\n",
       " 0.18743686378002167,\n",
       " 0.18983611464500427,\n",
       " 0.1899072378873825,\n",
       " 0.18792355060577393,\n",
       " 0.18486429750919342,\n",
       " 0.18171480298042297,\n",
       " 0.17908069491386414,\n",
       " 0.1793488711118698,\n",
       " 0.180616095662117,\n",
       " 0.18221789598464966,\n",
       " 0.18618345260620117,\n",
       " 0.1901307851076126,\n",
       " 0.1946641504764557,\n",
       " 0.19511105120182037,\n",
       " 0.19542215764522552,\n",
       " 0.1965702623128891,\n",
       " 0.1965290755033493,\n",
       " 0.20009586215019226,\n",
       " 0.2038947492837906,\n",
       " 0.20609302818775177,\n",
       " 0.20591484010219574,\n",
       " 0.20535732805728912,\n",
       " 0.20507094264030457,\n",
       " 0.20289123058319092,\n",
       " 0.20007915794849396,\n",
       " 0.20008239150047302,\n",
       " 0.20024245977401733,\n",
       " 0.2045315057039261,\n",
       " 0.20930393040180206,\n",
       " 0.21499735116958618,\n",
       " 0.22018149495124817,\n",
       " 0.21972690522670746,\n",
       " 0.2177605926990509,\n",
       " 0.21362289786338806,\n",
       " 0.21114706993103027,\n",
       " 0.2097034454345703,\n",
       " 0.20516809821128845,\n",
       " 0.20335039496421814,\n",
       " 0.2045964151620865,\n",
       " 0.20581036806106567,\n",
       " 0.2058062106370926,\n",
       " 0.20426629483699799,\n",
       " 0.2023542821407318,\n",
       " 0.19837549328804016,\n",
       " 0.19435417652130127,\n",
       " 0.19255849719047546,\n",
       " 0.18958842754364014,\n",
       " 0.1868748515844345,\n",
       " 0.18309544026851654,\n",
       " 0.18148113787174225,\n",
       " 0.1819731891155243,\n",
       " 0.1832432597875595,\n",
       " 0.184199720621109,\n",
       " 0.18532122671604156,\n",
       " 0.18438850343227386,\n",
       " 0.1775864064693451,\n",
       " 0.1712120622396469,\n",
       " 0.1640414595603943,\n",
       " 0.15813399851322174,\n",
       " 0.15187795460224152,\n",
       " 0.14696848392486572,\n",
       " 0.14272162318229675,\n",
       " 0.13728737831115723,\n",
       " 0.13387450575828552,\n",
       " 0.13221409916877747,\n",
       " 0.13139107823371887,\n",
       " 0.13041996955871582,\n",
       " 0.13439887762069702,\n",
       " 0.13937102258205414,\n",
       " 0.1492452621459961,\n",
       " 0.15692181885242462,\n",
       " 0.16766990721225739,\n",
       " 0.18058748543262482,\n",
       " 0.19745874404907227,\n",
       " 0.2092272937297821,\n",
       " 0.22202667593955994,\n",
       " 0.230239138007164,\n",
       " 0.2356742024421692,\n",
       " 0.24374686181545258,\n",
       " 0.24499894678592682,\n",
       " 0.24011707305908203,\n",
       " 0.21999873220920563,\n",
       " 0.2063867300748825,\n",
       " 0.19029024243354797,\n",
       " 0.1750858873128891,\n",
       " 0.1602441966533661,\n",
       " 0.1375306397676468,\n",
       " 0.12279659509658813,\n",
       " 0.11340590566396713,\n",
       " 0.12604111433029175,\n",
       " 0.14114169776439667,\n",
       " 0.1588853895664215,\n",
       " 0.1751818060874939,\n",
       " 0.1831839233636856,\n",
       " 0.17980383336544037,\n",
       " 0.1662793904542923,\n",
       " 0.15635211765766144,\n",
       " 0.14506737887859344,\n",
       " 0.1381532847881317,\n",
       " 0.1382567137479782,\n",
       " 0.14327633380889893,\n",
       " 0.15157335996627808,\n",
       " 0.15349067747592926,\n",
       " 0.1573701798915863,\n",
       " 0.1560998409986496,\n",
       " 0.15374180674552917,\n",
       " 0.15116383135318756,\n",
       " 0.14320693910121918,\n",
       " 0.13940493762493134,\n",
       " 0.13947612047195435,\n",
       " 0.13662683963775635,\n",
       " 0.13418807089328766,\n",
       " 0.1319430023431778,\n",
       " 0.13277922570705414,\n",
       " 0.13915963470935822,\n",
       " 0.14290064573287964,\n",
       " 0.14741471409797668,\n",
       " 0.15342894196510315]"
      ]
     },
     "execution_count": 102,
     "metadata": {},
     "output_type": "execute_result"
    }
   ],
   "source": [
    "y_p.tolist()"
   ]
  },
  {
   "cell_type": "code",
   "execution_count": 7,
   "metadata": {},
   "outputs": [
    {
     "name": "stdout",
     "output_type": "stream",
     "text": [
      "1.39304\n",
      "1.03867\n"
     ]
    }
   ],
   "source": [
    "data_max = np.max(data_origin)\n",
    "data_min = np.min(data_origin)\n",
    "print(data_max)\n",
    "print(data_min)"
   ]
  },
  {
   "cell_type": "code",
   "execution_count": 104,
   "metadata": {},
   "outputs": [],
   "source": [
    "y_pred_to_origin = []\n",
    "for i in y_p:\n",
    "    y = i*(data_max - data_min) + data_min\n",
    "    y_pred_to_origin.append(y)"
   ]
  },
  {
   "cell_type": "code",
   "execution_count": 109,
   "metadata": {},
   "outputs": [
    {
     "data": {
      "text/plain": [
       "200"
      ]
     },
     "execution_count": 109,
     "metadata": {},
     "output_type": "execute_result"
    }
   ],
   "source": [
    "len(y_pred_to_origin)"
   ]
  },
  {
   "cell_type": "code",
   "execution_count": 106,
   "metadata": {},
   "outputs": [],
   "source": [
    "y_test_to_origin=data_origin[-200:,:]"
   ]
  },
  {
   "cell_type": "code",
   "execution_count": 108,
   "metadata": {},
   "outputs": [
    {
     "data": {
      "text/plain": [
       "200"
      ]
     },
     "execution_count": 108,
     "metadata": {},
     "output_type": "execute_result"
    }
   ],
   "source": [
    "len(y_test_to_origin)"
   ]
  },
  {
   "cell_type": "code",
   "execution_count": 110,
   "metadata": {},
   "outputs": [
    {
     "data": {
      "image/png": "[encoded data removed]",
      "text/plain": [
       "<Figure size 432x288 with 1 Axes>"
      ]
     },
     "metadata": {
      "needs_background": "light"
     },
     "output_type": "display_data"
    }
   ],
   "source": [
    "x_axix = range(200)\n",
    "#x_axix，train_pn_dis这些都是长度相同的list()\n",
    "\n",
    "#开始画图\n",
    "plt.title('Result Analysis')\n",
    "plt.plot(x_axix, y_test_to_origin, color='green', label='true')\n",
    "plt.plot(x_axix, y_pred_to_origin, color='red', label='pred')\n",
    "plt.legend() # 显示图例\n",
    "\n",
    "# plt.xlabel('iteration times')\n",
    "# plt.ylabel('rate')\n",
    "plt.show()"
   ]
  },
  {
   "cell_type": "code",
   "execution_count": 111,
   "metadata": {},
   "outputs": [],
   "source": [
    "model.save('EURUSD_pre_model.h5')#保存名为model的h5文件到程序所在目录"
   ]
  },
  {
   "cell_type": "code",
   "execution_count": null,
   "metadata": {},
   "outputs": [],
   "source": []
  }
 ],
 "metadata": {
  "kernelspec": {
   "display_name": "Python 3",
   "language": "python",
   "name": "python3"
  },
  "language_info": {
   "codemirror_mode": {
    "name": "ipython",
    "version": 3
   },
   "file_extension": ".py",
   "mimetype": "text/x-python",
   "name": "python",
   "nbconvert_exporter": "python",
   "pygments_lexer": "ipython3",
   "version": "3.6.5"
  }
 },
 "nbformat": 4,
 "nbformat_minor": 4
}
